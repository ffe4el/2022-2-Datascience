{
  "nbformat": 4,
  "nbformat_minor": 0,
  "metadata": {
    "colab": {
      "provenance": [],
      "collapsed_sections": [],
      "toc_visible": true,
      "include_colab_link": true
    },
    "kernelspec": {
      "name": "python3",
      "display_name": "Python 3"
    },
    "language_info": {
      "name": "python"
    }
  },
  "cells": [
    {
      "cell_type": "markdown",
      "metadata": {
        "id": "view-in-github",
        "colab_type": "text"
      },
      "source": [
        "<a href=\"https://colab.research.google.com/github/ffe4el/2022-2-Datascience/blob/main/%EC%8A%A4%EB%A7%88%ED%8A%B8%ED%8C%9C%EB%8D%B0%EC%9D%B4%ED%84%B0%EA%B3%BC%ED%95%99_10%EC%A3%BC%EC%B0%A8_%EB%8D%B0%EC%9D%B4%ED%84%B0%EB%B6%84%EC%84%9D.ipynb\" target=\"_parent\"><img src=\"https://colab.research.google.com/assets/colab-badge.svg\" alt=\"Open In Colab\"/></a>"
      ]
    },
    {
      "cell_type": "markdown",
      "source": [
        "# 기상자료 활용하기"
      ],
      "metadata": {
        "id": "VMBr78rapDpb"
      }
    },
    {
      "cell_type": "code",
      "source": [
        "import pandas as pd"
      ],
      "metadata": {
        "id": "Cx5C6AvRkIyq"
      },
      "execution_count": null,
      "outputs": []
    },
    {
      "cell_type": "markdown",
      "source": [
        "## 기상자료 다운받기"
      ],
      "metadata": {
        "id": "w_7romEHpSC4"
      }
    },
    {
      "cell_type": "code",
      "source": [
        "# API 이용하기\n",
        "year_s = 2000\n",
        "year_e = 2000\n",
        "station_code = 146\n",
        "url = f\"https://api.taegon.kr/stations/{station_code}/?sy={year_s}&ey={year_e}&format=csv\""
      ],
      "metadata": {
        "id": "NW1jjCtLkCnw"
      },
      "execution_count": null,
      "outputs": []
    },
    {
      "cell_type": "code",
      "source": [
        "# 데이터 프레임 만들기\n",
        "df = pd.read_csv(url)"
      ],
      "metadata": {
        "id": "S458bjepkKix"
      },
      "execution_count": null,
      "outputs": []
    },
    {
      "cell_type": "code",
      "source": [
        "# 연평균 기온"
      ],
      "metadata": {
        "id": "_Yjv2PlckQpH"
      },
      "execution_count": null,
      "outputs": []
    },
    {
      "cell_type": "code",
      "source": [
        "# 총 강수량"
      ],
      "metadata": {
        "id": "gK9_zBKikT65"
      },
      "execution_count": null,
      "outputs": []
    },
    {
      "cell_type": "code",
      "source": [
        "# 연간 최고기온"
      ],
      "metadata": {
        "id": "-uy9NOAhkWO5"
      },
      "execution_count": null,
      "outputs": []
    },
    {
      "cell_type": "code",
      "source": [
        "# 연내 최저기온"
      ],
      "metadata": {
        "id": "8-mxDvCpkaSt"
      },
      "execution_count": null,
      "outputs": []
    },
    {
      "cell_type": "code",
      "source": [
        "# 일교차"
      ],
      "metadata": {
        "id": "-_01tpxNkeVX"
      },
      "execution_count": null,
      "outputs": []
    },
    {
      "cell_type": "code",
      "source": [
        "# 적산온도\n",
        "# http://www.newsam.co.kr/news/article.html?no=33537\n",
        "# https://ko.wikipedia.org/wiki/%EC%A0%81%EC%82%B0%EC%98%A8%EB%8F%84"
      ],
      "metadata": {
        "id": "1_ycEosMkxnt"
      },
      "execution_count": null,
      "outputs": []
    },
    {
      "cell_type": "markdown",
      "source": [
        "## 여러지역 기상자료 다루기"
      ],
      "metadata": {
        "id": "qVfNdBeMme38"
      }
    },
    {
      "cell_type": "code",
      "execution_count": null,
      "metadata": {
        "id": "IY2AL2AxiFje"
      },
      "outputs": [],
      "source": [
        "# 지역별 기상자료 구하기\n",
        "stations = {\n",
        "    \"경기도\": 119,    # 수원\n",
        "    # \"강원도\": 101,    # 춘천\n",
        "    # \"충청북도\": 131,  # 청주\n",
        "    # \"충청남도\": 129,  # 서산\n",
        "    # \"전라북도\": 146,  # 전주\n",
        "    # \"전라남도\": 156,  # 광주\n",
        "    # \"경상북도\": 143,  # 대구\n",
        "    # \"경상남도\": 155,  # 창원\n",
        "    # \"제주도\": 184,    # 제주\n",
        "}"
      ]
    },
    {
      "cell_type": "code",
      "source": [
        "# 자료 다운로드 받기\n",
        "year = 2000\n",
        "\n",
        "df_all = None\n",
        "weather_mean = {}\n",
        "for station_name, station_code in stations.items():\n",
        "  url = f\"https://api.taegon.kr/stations/{station_code}/?sy={year}&ey={year}&format=csv\"\n",
        "  df = pd.read_csv(url)\n",
        "  # 컬럼명 확인하고, 공백없애기\n",
        "  # df.columns = [? for c in df]\n",
        "  \n",
        "  df[\"station_name\"] = station_name\n",
        "  df[\"station_code\"] = station_code\n",
        "  # TODO: 각 지역별로 읽은 데이터프레임을 하나로 합치기\n",
        "\n",
        "  # 연도별 평균 저장하기\n",
        "  # weather_mean = ??\n"
      ],
      "metadata": {
        "id": "rQN4YWL0j7FP"
      },
      "execution_count": null,
      "outputs": []
    },
    {
      "cell_type": "code",
      "source": [
        "# 합쳐진 데이터 프레임에서 각 지역별 값이 정상적으로 출력되는지 확인\n",
        "for station_name, station_code in stations.items():\n",
        "  pass\n",
        "  # df_all 데이터프레임에서 원하는 값 찾아서 출력하기\n"
      ],
      "metadata": {
        "id": "IwnoArtatd3u"
      },
      "execution_count": null,
      "outputs": []
    },
    {
      "cell_type": "markdown",
      "source": [
        "## 사과재배적지\n",
        "http://weather.rda.go.kr/w/appMap/ftrAppleHelp.do?kind=\n",
        "\n",
        "\n",
        "연평균기온\n",
        "\n",
        "* 적지: 7.5 <= X < 11.5\n",
        "* 가능지: 6.5 ~ 7.5, 11.5 ~ 12.5\n",
        "* 부적지 & 저위생산지: X < 6.5, 12.5 < X"
      ],
      "metadata": {
        "id": "73fGa3MqlvYJ"
      }
    },
    {
      "cell_type": "markdown",
      "source": [
        "## 지도파일 다운받기\n",
        "\n",
        "https://neurowhai.tistory.com/350"
      ],
      "metadata": {
        "id": "TZ1vidVuoxYr"
      }
    },
    {
      "cell_type": "code",
      "source": [
        "!pip install leafmap\n"
      ],
      "metadata": {
        "id": "ITur8-aWnHml"
      },
      "execution_count": null,
      "outputs": []
    },
    {
      "cell_type": "code",
      "source": [
        "import ipyleaflet\n",
        "import json\n",
        "from ipyleaflet import Map, GeoJSON"
      ],
      "metadata": {
        "id": "2oHwdjnapF1C"
      },
      "execution_count": null,
      "outputs": []
    },
    {
      "cell_type": "code",
      "source": [
        "weather_mean"
      ],
      "metadata": {
        "id": "uk5CSkJMu54e"
      },
      "execution_count": null,
      "outputs": []
    },
    {
      "cell_type": "code",
      "source": [
        "with open('TL_SCCO_CTPRVN.json', 'r') as f:\n",
        "    data = json.load(f)\n",
        "\n",
        "def random_color(feature):\n",
        "    if feature['properties'][\"CTP_KOR_NM\"] in weather_mean:\n",
        "      tavg = weather_mean[feature['properties'][\"CTP_KOR_NM\"]]\n",
        "      if 7.5 <= tavg < 11.5:\n",
        "        return  {\n",
        "          'color': 'black',\n",
        "          'fillColor': 'green',\n",
        "        }\n",
        "      elif 6.5 <= tavg < 7:\n",
        "        return  {\n",
        "          'color': 'black',\n",
        "          'fillColor': 'orange',\n",
        "        }\n",
        "      elif 11.5 <= tavg < 12.5:\n",
        "        return  {\n",
        "          'color': 'black',\n",
        "          'fillColor': 'orange',\n",
        "        }\n",
        "        \n",
        "    return {\n",
        "        'color': 'black',\n",
        "        'fillColor': 'red',\n",
        "    }\n",
        "\n",
        "m = Map(center=(36, 127.5), zoom=6)\n",
        "\n",
        "geo_json = GeoJSON(\n",
        "    data=data,\n",
        "    style={\n",
        "        'opacity': 1, 'dashArray': '9', 'fillOpacity': 0.3, 'weight': 1\n",
        "    },\n",
        "    hover_style={\n",
        "        'color': 'white', 'dashArray': '0', 'fillOpacity': 0.5\n",
        "    },\n",
        "    style_callback=random_color\n",
        ")\n",
        "m.add_layer(geo_json)\n",
        "m"
      ],
      "metadata": {
        "id": "sQV7AO3TpJWv"
      },
      "execution_count": null,
      "outputs": []
    },
    {
      "cell_type": "markdown",
      "source": [
        "# 전라북도 시군구 지도만들기 (과제)\n",
        "\n",
        "* 고령화[aging, population aging]: 평균수명의 증가에 따라 총인구 중에 차지하는 고령자(노인)의 인구비율이 점차로 많아지는 현상 또는 높은 상태.\n",
        "  * 고령화사회(ageing society):총인구 중 65세 이상 인구가 차지하는 비율이 7% 이상\n",
        "  *고령사회(aged society):총인구 중 65세 이상 인구가 차지하는 비율이 14% 이상\n",
        "  *초고령사회 혹은 후기고령사회(post-aged society): 총인구 중 65세 이상 인구가 차지하는 비율이 20% 이상\n",
        "\n",
        "7주차 강의자료를 참고하여, 지도를 완성하시오.\n",
        "https://colab.research.google.com/drive/1PJP2vYh3ifSTD-utb0Hp4uIlLtczNeXI#scrollTo=VMqgL-hk9mU_\n"
      ],
      "metadata": {
        "id": "bU56MLBFyRiM"
      }
    },
    {
      "cell_type": "code",
      "source": [
        "# 데이터 다운로드 받기\n",
        "# https://jumin.mois.go.kr/index.jsp#\n",
        "# 아래 화면과 같이 설정하고, \"csv 파일 다운로드\" 버튼으로 자료 구득"
      ],
      "metadata": {
        "id": "uOQOCzqiXejN"
      },
      "execution_count": null,
      "outputs": []
    },
    {
      "cell_type": "markdown",
      "source": [
        "![image.png](data:image/png;base64,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)"
      ],
      "metadata": {
        "id": "EBMJ7NcDYcXS"
      }
    },
    {
      "cell_type": "code",
      "source": [
        "# 데이터 불러오기"
      ],
      "metadata": {
        "id": "tdX4N33_XSWQ"
      },
      "execution_count": null,
      "outputs": []
    },
    {
      "cell_type": "code",
      "source": [
        "# 65세 이상 인구 비율 구하기"
      ],
      "metadata": {
        "id": "VOv7gt4UXT_Q"
      },
      "execution_count": null,
      "outputs": []
    },
    {
      "cell_type": "code",
      "source": [
        "# 비율에 따라 지도 그리기"
      ],
      "metadata": {
        "id": "DZNNeDphXYG7"
      },
      "execution_count": null,
      "outputs": []
    },
    {
      "cell_type": "markdown",
      "source": [
        "## 읍면동 자료 받기\n",
        "\n",
        " - 위 그림에서 \"전체읍면동현황\" 선택 후, 데이터 분석"
      ],
      "metadata": {
        "id": "ShqJtAo5Y2BU"
      }
    },
    {
      "cell_type": "code",
      "source": [
        "# 읍면동별 자료 받기"
      ],
      "metadata": {
        "id": "_8GMyJrHYtyk"
      },
      "execution_count": null,
      "outputs": []
    },
    {
      "cell_type": "code",
      "source": [
        "# 65세 이상 인구비율 구하기"
      ],
      "metadata": {
        "id": "9c5LSNmcY9NT"
      },
      "execution_count": null,
      "outputs": []
    },
    {
      "cell_type": "code",
      "source": [
        "# 전라북도에서 초고령사회로 진입한 읍면동 구하기"
      ],
      "metadata": {
        "id": "qNlKS_kuZB0p"
      },
      "execution_count": null,
      "outputs": []
    },
    {
      "cell_type": "code",
      "source": [
        "# 전라북도 읍면동 중, 고령화사회, 고령사회, 초고령사회에 해당하는 읍면동의 총 갯수를 구하기"
      ],
      "metadata": {
        "id": "92EyUi8sZG2y"
      },
      "execution_count": null,
      "outputs": []
    },
    {
      "cell_type": "code",
      "source": [
        "# 65세 이상 인구비율이 가장 낮은 지역 5개와 가장 높은 지역 5개를 출력하기"
      ],
      "metadata": {
        "id": "xQfAmOeSZSHv"
      },
      "execution_count": null,
      "outputs": []
    }
  ]
}