{
 "cells": [
  {
   "cell_type": "code",
   "execution_count": null,
   "outputs": [],
   "source": [
    "import pandas as pd\n",
    "\n",
    "a=[]\n",
    "for i in range(1,21):\n",
    "    a.append(i)\n",
    "\n",
    "a"
   ],
   "metadata": {
    "collapsed": false
   }
  },
  {
   "cell_type": "code",
   "execution_count": null,
   "outputs": [],
   "source": [
    "[x for x in range(1,21)]"
   ],
   "metadata": {
    "collapsed": false
   }
  },
  {
   "cell_type": "code",
   "execution_count": null,
   "outputs": [],
   "source": [
    "[x for x in range(1,21,2)]"
   ],
   "metadata": {
    "collapsed": false
   }
  },
  {
   "cell_type": "code",
   "execution_count": null,
   "outputs": [],
   "source": [
    "sum([x for x in range(1,21,2)])"
   ],
   "metadata": {
    "collapsed": false
   }
  },
  {
   "cell_type": "code",
   "execution_count": null,
   "outputs": [],
   "source": [
    "(lambda a,b: pow(a,b))"
   ],
   "metadata": {
    "collapsed": false
   }
  },
  {
   "cell_type": "code",
   "execution_count": null,
   "outputs": [],
   "source": [
    "import numpy as np\n",
    "from numpy.random import rand\n",
    "import matplotlib.pyplot as plt\n",
    "x = np.random.uniform(-2,3,100)\n",
    "y = np.zeros(100)\n",
    "plt.scatter(x,y)\n",
    "plt.show"
   ],
   "metadata": {
    "collapsed": false
   }
  },
  {
   "cell_type": "code",
   "execution_count": 3,
   "outputs": [
    {
     "data": {
      "text/plain": "array([-2.        , -1.94949495, -1.8989899 , -1.84848485, -1.7979798 ,\n       -1.74747475, -1.6969697 , -1.64646465, -1.5959596 , -1.54545455,\n       -1.49494949, -1.44444444, -1.39393939, -1.34343434, -1.29292929,\n       -1.24242424, -1.19191919, -1.14141414, -1.09090909, -1.04040404,\n       -0.98989899, -0.93939394, -0.88888889, -0.83838384, -0.78787879,\n       -0.73737374, -0.68686869, -0.63636364, -0.58585859, -0.53535354,\n       -0.48484848, -0.43434343, -0.38383838, -0.33333333, -0.28282828,\n       -0.23232323, -0.18181818, -0.13131313, -0.08080808, -0.03030303,\n        0.02020202,  0.07070707,  0.12121212,  0.17171717,  0.22222222,\n        0.27272727,  0.32323232,  0.37373737,  0.42424242,  0.47474747,\n        0.52525253,  0.57575758,  0.62626263,  0.67676768,  0.72727273,\n        0.77777778,  0.82828283,  0.87878788,  0.92929293,  0.97979798,\n        1.03030303,  1.08080808,  1.13131313,  1.18181818,  1.23232323,\n        1.28282828,  1.33333333,  1.38383838,  1.43434343,  1.48484848,\n        1.53535354,  1.58585859,  1.63636364,  1.68686869,  1.73737374,\n        1.78787879,  1.83838384,  1.88888889,  1.93939394,  1.98989899,\n        2.04040404,  2.09090909,  2.14141414,  2.19191919,  2.24242424,\n        2.29292929,  2.34343434,  2.39393939,  2.44444444,  2.49494949,\n        2.54545455,  2.5959596 ,  2.64646465,  2.6969697 ,  2.74747475,\n        2.7979798 ,  2.84848485,  2.8989899 ,  2.94949495,  3.        ])"
     },
     "execution_count": 3,
     "metadata": {},
     "output_type": "execute_result"
    }
   ],
   "source": [
    "import numpy as np\n",
    "from numpy.random import rand\n",
    "import matplotlib.pyplot as plt\n",
    "x = np.linspace(-2,3,100)\n",
    "x"
   ],
   "metadata": {
    "collapsed": false
   }
  },
  {
   "cell_type": "code",
   "execution_count": null,
   "outputs": [],
   "source": [
    "x = np.random.uniform(-2,3,100)\n",
    "x\n"
   ],
   "metadata": {
    "collapsed": false
   }
  },
  {
   "cell_type": "code",
   "execution_count": null,
   "outputs": [],
   "source": [
    "import this\n"
   ],
   "metadata": {
    "collapsed": false
   }
  },
  {
   "cell_type": "code",
   "execution_count": null,
   "outputs": [],
   "source": [
    "y=np.zeros(100)\n",
    "y"
   ],
   "metadata": {
    "collapsed": false
   }
  },
  {
   "cell_type": "code",
   "execution_count": null,
   "outputs": [],
   "source": [
    "a=[[11,12,13],[21,22,23]]\n",
    "A = np.array(a)\n",
    "A"
   ],
   "metadata": {
    "collapsed": false
   }
  },
  {
   "cell_type": "code",
   "execution_count": null,
   "outputs": [],
   "source": [
    "A.T"
   ],
   "metadata": {
    "collapsed": false
   }
  },
  {
   "cell_type": "code",
   "execution_count": null,
   "outputs": [],
   "source": [
    "np.zeros((30,5))"
   ],
   "metadata": {
    "collapsed": false
   }
  },
  {
   "cell_type": "code",
   "execution_count": null,
   "outputs": [],
   "source": [
    "np.identity(4)"
   ],
   "metadata": {
    "collapsed": false
   }
  },
  {
   "cell_type": "code",
   "execution_count": null,
   "outputs": [],
   "source": [],
   "metadata": {
    "collapsed": false
   }
  },
  {
   "cell_type": "code",
   "execution_count": null,
   "outputs": [],
   "source": [
    "score_list=[95,100,80,90,95]\n",
    "data = pd.Series(score_list)\n",
    "data"
   ],
   "metadata": {
    "collapsed": false
   }
  },
  {
   "cell_type": "code",
   "execution_count": null,
   "outputs": [],
   "source": [
    "data.values()"
   ],
   "metadata": {
    "collapsed": false
   }
  },
  {
   "cell_type": "code",
   "execution_count": null,
   "outputs": [],
   "source": [
    "data"
   ],
   "metadata": {
    "collapsed": false
   }
  },
  {
   "cell_type": "code",
   "execution_count": null,
   "outputs": [],
   "source": [
    "data[1:3]"
   ],
   "metadata": {
    "collapsed": false
   }
  },
  {
   "cell_type": "code",
   "execution_count": null,
   "outputs": [],
   "source": [
    "data = pd.Series(score_list, index=['Korean', 'math', 'science', 'English', 'algebra'])\n",
    "data['science']"
   ],
   "metadata": {
    "collapsed": false
   }
  },
  {
   "cell_type": "code",
   "execution_count": null,
   "outputs": [],
   "source": [
    "A=np.array([[1,1,0],[0,1,1],[1,1,1]])\n",
    "Ainv=np.linalg.inv(A)\n",
    "Ainv"
   ],
   "metadata": {
    "collapsed": false
   }
  },
  {
   "cell_type": "code",
   "execution_count": 87,
   "outputs": [
    {
     "data": {
      "text/plain": "(6, 1)"
     },
     "execution_count": 87,
     "metadata": {},
     "output_type": "execute_result"
    }
   ],
   "source": [
    "import numpy as np\n",
    "height = np.array([183,150,180,197,160,175])\n",
    "height = height.T # 여기에 코드 삽입. 2차원인 형태로 값을 변환. 열벡터로 변환\n",
    "math=np.array([85,45,80,99,45,75])\n",
    "height=height.reshape(6,1)\n",
    "height.shape\n",
    "\n",
    "height = height.reshape(6,1)\n",
    "height.shape"
   ],
   "metadata": {
    "collapsed": false
   }
  },
  {
   "cell_type": "code",
   "execution_count": 89,
   "outputs": [
    {
     "name": "stdout",
     "output_type": "stream",
     "text": [
      "d1= [0. 0.] \n",
      "d2= [[0. 0. 0.]\n",
      " [0. 0. 0.]]\n"
     ]
    }
   ],
   "source": [
    "d1 = np.zeros(2)\n",
    "d2 = np.zeros((2,3))\n",
    "\n",
    "print(\"d1=\", d1, \"\\nd2=\", d2)\n"
   ],
   "metadata": {
    "collapsed": false
   }
  },
  {
   "cell_type": "code",
   "execution_count": null,
   "outputs": [],
   "source": [],
   "metadata": {
    "collapsed": false
   }
  },
  {
   "cell_type": "code",
   "execution_count": null,
   "outputs": [],
   "source": [],
   "metadata": {
    "collapsed": false
   }
  },
  {
   "cell_type": "code",
   "execution_count": 1,
   "outputs": [
    {
     "data": {
      "text/plain": "array([183, 150, 180, 197, 160, 175])"
     },
     "execution_count": 1,
     "metadata": {},
     "output_type": "execute_result"
    }
   ],
   "source": [
    "import numpy as np\n",
    "height = np.array([183,150,180,197,160,175])\n",
    "height"
   ],
   "metadata": {
    "collapsed": false
   }
  },
  {
   "cell_type": "code",
   "execution_count": 2,
   "outputs": [
    {
     "data": {
      "text/plain": "array([[183],\n       [150],\n       [180],\n       [197],\n       [160],\n       [175]])"
     },
     "execution_count": 2,
     "metadata": {},
     "output_type": "execute_result"
    }
   ],
   "source": [
    "height.reshape(1,6)"
   ],
   "metadata": {
    "collapsed": false
   }
  }
 ],
 "metadata": {
  "kernelspec": {
   "display_name": "Python 3",
   "language": "python",
   "name": "python3"
  },
  "language_info": {
   "codemirror_mode": {
    "name": "ipython",
    "version": 2
   },
   "file_extension": ".py",
   "mimetype": "text/x-python",
   "name": "python",
   "nbconvert_exporter": "python",
   "pygments_lexer": "ipython2",
   "version": "2.7.6"
  }
 },
 "nbformat": 4,
 "nbformat_minor": 0
}
