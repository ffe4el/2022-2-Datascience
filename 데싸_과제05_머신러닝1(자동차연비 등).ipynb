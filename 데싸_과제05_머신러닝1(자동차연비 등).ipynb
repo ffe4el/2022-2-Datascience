{
 "nbformat": 4,
 "nbformat_minor": 0,
 "metadata": {
  "colab": {
   "provenance": [],
   "collapsed_sections": []
  },
  "kernelspec": {
   "name": "python3",
   "display_name": "Python 3"
  },
  "language_info": {
   "name": "python"
  }
 },
 "cells": [
  {
   "cell_type": "code",
   "source": [
    "import pandas as pd \n",
    "import numpy as np \n",
    "import seaborn as sns; sns.set()\n",
    "import matplotlib.pyplot as plt\n",
    "\n",
    "from sklearn.linear_model import LinearRegression"
   ],
   "metadata": {
    "id": "vizZVwoJF6-Y"
   },
   "execution_count": 1,
   "outputs": []
  },
  {
   "cell_type": "markdown",
   "source": [
    "## advertising"
   ],
   "metadata": {
    "id": "X2T1A56waHo0"
   }
  },
  {
   "cell_type": "code",
   "source": [
    "# https://www.datarobot.com/blog/multiple-regression-using-statsmodels/\n",
    "!wget -O advertising.csv 'https://raw.githubusercontent.com/Columbia-Intro-Data-Science/python-introduction-caitlinwang/master/www-bcf.usc.edu/~gareth/ISL/Advertising.csv'"
   ],
   "metadata": {
    "id": "ZxvShFfTF8KX",
    "colab": {
     "base_uri": "https://localhost:8080/"
    },
    "outputId": "f064a7f7-d0af-427d-8a1c-78a1e94839bc"
   },
   "execution_count": 2,
   "outputs": [
    {
     "name": "stdout",
     "output_type": "stream",
     "text": [
      "--2024-01-17 16:25:07--  https://raw.githubusercontent.com/Columbia-Intro-Data-Science/python-introduction-caitlinwang/master/www-bcf.usc.edu/~gareth/ISL/Advertising.csv\r\n",
      "Resolving raw.githubusercontent.com (raw.githubusercontent.com)... 185.199.111.133, 185.199.108.133, 185.199.110.133, ...\r\n",
      "Connecting to raw.githubusercontent.com (raw.githubusercontent.com)|185.199.111.133|:443... failed: Operation timed out.\r\n",
      "Connecting to raw.githubusercontent.com (raw.githubusercontent.com)|185.199.108.133|:443... connected.\r\n",
      "HTTP request sent, awaiting response... 200 OK\r\n",
      "Length: 5166 (5.0K) [text/plain]\r\n",
      "Saving to: 'advertising.csv'\r\n",
      "\r\n",
      "advertising.csv     100%[===================>]   5.04K  --.-KB/s    in 0.001s  \r\n",
      "\r\n",
      "2024-01-17 16:26:22 (9.24 MB/s) - 'advertising.csv' saved [5166/5166]\r\n",
      "\r\n"
     ]
    }
   ]
  },
  {
   "cell_type": "code",
   "execution_count": 4,
   "metadata": {
    "id": "Q2A1m53QFi1c",
    "colab": {
     "base_uri": "https://localhost:8080/"
    },
    "outputId": "35caa6f8-82c5-4cd6-e051-cf024cd5f2a7"
   },
   "outputs": [
    {
     "name": "stdout",
     "output_type": "stream",
     "text": [
      "        TV  Radio  Newspaper\n",
      "1    230.1   37.8       69.2\n",
      "2     44.5   39.3       45.1\n",
      "3     17.2   45.9       69.3\n",
      "4    151.5   41.3       58.5\n",
      "5    180.8   10.8       58.4\n",
      "..     ...    ...        ...\n",
      "196   38.2    3.7       13.8\n",
      "197   94.2    4.9        8.1\n",
      "198  177.0    9.3        6.4\n",
      "199  283.6   42.0       66.2\n",
      "200  232.1    8.6        8.7\n",
      "\n",
      "[200 rows x 3 columns]\n"
     ]
    }
   ],
   "source": [
    "df = pd.read_csv('advertising.csv', index_col=0) \n",
    "X = df[['TV', 'Radio', 'Newspaper']]  #X는 행렬형태이기 때문에 대문자표기\n",
    "y = df['Sales'] #y는 하나의 값, 벡터이기 때문에 소문자\n",
    "df.head()\n",
    "print(X)\n",
    "# print(y)"
   ]
  },
  {
   "cell_type": "code",
   "source": [
    "df.info()"
   ],
   "metadata": {
    "id": "xJ7RYAXbHZMB",
    "colab": {
     "base_uri": "https://localhost:8080/"
    },
    "outputId": "1dfff879-661e-48cf-da00-f9bd7acb854e"
   },
   "execution_count": 5,
   "outputs": [
    {
     "name": "stdout",
     "output_type": "stream",
     "text": [
      "<class 'pandas.core.frame.DataFrame'>\n",
      "Int64Index: 200 entries, 1 to 200\n",
      "Data columns (total 4 columns):\n",
      " #   Column     Non-Null Count  Dtype  \n",
      "---  ------     --------------  -----  \n",
      " 0   TV         200 non-null    float64\n",
      " 1   Radio      200 non-null    float64\n",
      " 2   Newspaper  200 non-null    float64\n",
      " 3   Sales      200 non-null    float64\n",
      "dtypes: float64(4)\n",
      "memory usage: 7.8 KB\n"
     ]
    }
   ]
  },
  {
   "cell_type": "code",
   "source": [
    "df.describe() #기본통계(개수, 평균, 최소값 등등)"
   ],
   "metadata": {
    "id": "bnzop5pPHbBj",
    "colab": {
     "base_uri": "https://localhost:8080/",
     "height": 300
    },
    "outputId": "3aee8229-3970-4677-c661-216ca0ecd606"
   },
   "execution_count": 6,
   "outputs": [
    {
     "data": {
      "text/plain": "               TV       Radio   Newspaper       Sales\ncount  200.000000  200.000000  200.000000  200.000000\nmean   147.042500   23.264000   30.554000   14.022500\nstd     85.854236   14.846809   21.778621    5.217457\nmin      0.700000    0.000000    0.300000    1.600000\n25%     74.375000    9.975000   12.750000   10.375000\n50%    149.750000   22.900000   25.750000   12.900000\n75%    218.825000   36.525000   45.100000   17.400000\nmax    296.400000   49.600000  114.000000   27.000000",
      "text/html": "<div>\n<style scoped>\n    .dataframe tbody tr th:only-of-type {\n        vertical-align: middle;\n    }\n\n    .dataframe tbody tr th {\n        vertical-align: top;\n    }\n\n    .dataframe thead th {\n        text-align: right;\n    }\n</style>\n<table border=\"1\" class=\"dataframe\">\n  <thead>\n    <tr style=\"text-align: right;\">\n      <th></th>\n      <th>TV</th>\n      <th>Radio</th>\n      <th>Newspaper</th>\n      <th>Sales</th>\n    </tr>\n  </thead>\n  <tbody>\n    <tr>\n      <th>count</th>\n      <td>200.000000</td>\n      <td>200.000000</td>\n      <td>200.000000</td>\n      <td>200.000000</td>\n    </tr>\n    <tr>\n      <th>mean</th>\n      <td>147.042500</td>\n      <td>23.264000</td>\n      <td>30.554000</td>\n      <td>14.022500</td>\n    </tr>\n    <tr>\n      <th>std</th>\n      <td>85.854236</td>\n      <td>14.846809</td>\n      <td>21.778621</td>\n      <td>5.217457</td>\n    </tr>\n    <tr>\n      <th>min</th>\n      <td>0.700000</td>\n      <td>0.000000</td>\n      <td>0.300000</td>\n      <td>1.600000</td>\n    </tr>\n    <tr>\n      <th>25%</th>\n      <td>74.375000</td>\n      <td>9.975000</td>\n      <td>12.750000</td>\n      <td>10.375000</td>\n    </tr>\n    <tr>\n      <th>50%</th>\n      <td>149.750000</td>\n      <td>22.900000</td>\n      <td>25.750000</td>\n      <td>12.900000</td>\n    </tr>\n    <tr>\n      <th>75%</th>\n      <td>218.825000</td>\n      <td>36.525000</td>\n      <td>45.100000</td>\n      <td>17.400000</td>\n    </tr>\n    <tr>\n      <th>max</th>\n      <td>296.400000</td>\n      <td>49.600000</td>\n      <td>114.000000</td>\n      <td>27.000000</td>\n    </tr>\n  </tbody>\n</table>\n</div>"
     },
     "execution_count": 6,
     "metadata": {},
     "output_type": "execute_result"
    }
   ]
  },
  {
   "cell_type": "code",
   "source": [
    "# Checking Null values\n",
    "df.isnull().sum()*100/df.shape[0]\n",
    "# There are no NULL values in the dataset, hence it is clean."
   ],
   "metadata": {
    "id": "KoXZJkZ4HjlB",
    "colab": {
     "base_uri": "https://localhost:8080/"
    },
    "outputId": "e51658a2-e4bf-4889-944c-007b18a0fb90"
   },
   "execution_count": 10,
   "outputs": [
    {
     "data": {
      "text/plain": "TV           0.0\nRadio        0.0\nNewspaper    0.0\nSales        0.0\ndtype: float64"
     },
     "execution_count": 10,
     "metadata": {},
     "output_type": "execute_result"
    }
   ]
  },
  {
   "cell_type": "code",
   "source": [
    "sns.pairplot(df, x_vars=['TV', 'Newspaper', 'Radio'], y_vars=['Sales'], height=4);"
   ],
   "metadata": {
    "id": "8vpZ3VC0FxX8",
    "colab": {
     "base_uri": "https://localhost:8080/",
     "height": 301
    },
    "outputId": "31791898-b6c2-4161-e6b1-70bdddeb1c84"
   },
   "execution_count": 12,
   "outputs": []
  },
  {
   "cell_type": "code",
   "source": [
    "sns.pairplot(df, x_vars=['TV', 'Newspaper', 'Radio'], y_vars='Sales', height=4, aspect=1, kind='reg'); #kind를 써주면 경향성?(오차가 얼마정도 있는지)을 나타낼 수 있다...."
   ],
   "metadata": {
    "id": "MEGHfS8uR3KJ",
    "colab": {
     "base_uri": "https://localhost:8080/",
     "height": 301
    },
    "outputId": "3f211d80-4060-475b-a2c0-28ed60964714"
   },
   "execution_count": 13,
   "outputs": []
  },
  {
   "cell_type": "code",
   "source": [
    "# Outlier Analysis\n",
    "fig, axs = plt.subplots(3, figsize = (5,5))\n",
    "plt1 = sns.boxplot(x=df['TV'], ax = axs[0])\n",
    "plt2 = sns.boxplot(x=df['Newspaper'], ax = axs[1])\n",
    "plt3 = sns.boxplot(x=df['Radio'], ax = axs[2])\n",
    "plt.tight_layout()"
   ],
   "metadata": {
    "id": "7YbM_xFPPLwA",
    "colab": {
     "base_uri": "https://localhost:8080/",
     "height": 365
    },
    "outputId": "7f94f5d6-3464-4366-fc78-c73ef68fd96c"
   },
   "execution_count": 17,
   "outputs": []
  },
  {
   "cell_type": "code",
   "execution_count": 17,
   "outputs": [],
   "source": [],
   "metadata": {
    "collapsed": false
   }
  },
  {
   "cell_type": "code",
   "source": [
    "sns.boxplot(x=df['Sales']);\n"
   ],
   "metadata": {
    "id": "wIFruLOJPaSW",
    "colab": {
     "base_uri": "https://localhost:8080/",
     "height": 285
    },
    "outputId": "1231fec8-98bb-4b0c-9e73-aec32ac711d2"
   },
   "execution_count": 18,
   "outputs": []
  },
  {
   "cell_type": "code",
   "source": [
    "sns.heatmap(df.corr(), cmap=\"YlGnBu\", annot = True)\n",
    "plt.show()"
   ],
   "metadata": {
    "id": "1JiiTeIOQ5_V",
    "colab": {
     "base_uri": "https://localhost:8080/",
     "height": 272
    },
    "outputId": "2ade9be0-7c9b-4470-8c20-7bb770f91aa1"
   },
   "execution_count": 19,
   "outputs": [
    {
     "data": {
      "text/plain": "<Figure size 500x500 with 4 Axes>",
      "image/png": "[encoded data removed]"
     },
     "metadata": {},
     "output_type": "display_data"
    }
   ]
  },
  {
   "cell_type": "code",
   "source": [
    "from sklearn.linear_model import LinearRegression\n",
    "from sklearn import metrics\n",
    "from sklearn.model_selection import train_test_split"
   ],
   "metadata": {
    "id": "9NDddQ4VGxgX"
   },
   "execution_count": 20,
   "outputs": []
  },
  {
   "cell_type": "code",
   "source": [
    "#트레인은 학습용 데이터, 테스트는 시험보는 데이터\n",
    "X_train, X_test, y_train, y_test = train_test_split(X, y, test_size=0.3, random_state=42) #70퍼센트만 돌림(test사이즈를 30프로로...)"
   ],
   "metadata": {
    "id": "C7_-sG1NG780"
   },
   "execution_count": 21,
   "outputs": []
  },
  {
   "cell_type": "code",
   "source": [
    "lr = LinearRegression()\n",
    "lr.fit(X_train, y_train)"
   ],
   "metadata": {
    "id": "8YeZbp0_G0rE",
    "colab": {
     "base_uri": "https://localhost:8080/"
    },
    "outputId": "4adf87b3-a0c4-46ef-cc47-a12217413078"
   },
   "execution_count": 23,
   "outputs": [
    {
     "data": {
      "text/plain": "LinearRegression()"
     },
     "execution_count": 23,
     "metadata": {},
     "output_type": "execute_result"
    }
   ]
  },
  {
   "cell_type": "code",
   "source": [
    "print(lr.coef_)\n",
    "print(lr.intercept_)"
   ],
   "metadata": {
    "id": "uanMuQpkHMNS",
    "colab": {
     "base_uri": "https://localhost:8080/"
    },
    "outputId": "7012de66-7e33-4816-af13-7ea0ef3dfdfc"
   },
   "execution_count": 24,
   "outputs": [
    {
     "name": "stdout",
     "output_type": "stream",
     "text": [
      "[0.04405928 0.1992875  0.00688245]\n",
      "2.7089490925159065\n"
     ]
    }
   ]
  },
  {
   "cell_type": "code",
   "source": [
    "#평가지표들\n",
    "print(\"MAE:    \", metrics.mean_absolute_error(y_test, lr.predict(X_test)))\n",
    "print(\"MSE:    \", metrics.mean_squared_error(y_test, lr.predict(X_test)))\n",
    "print(\"RMSE:   \", np.sqrt(metrics.mean_squared_error(y_test, lr.predict(X_test))))"
   ],
   "metadata": {
    "id": "ib4fHJIzTZ5g",
    "colab": {
     "base_uri": "https://localhost:8080/"
    },
    "outputId": "5cd690cd-5a82-443c-c2e3-d10ed3cb298d"
   },
   "execution_count": 25,
   "outputs": [
    {
     "name": "stdout",
     "output_type": "stream",
     "text": [
      "MAE:     1.5116692224549089\n",
      "MSE:     3.796797236715219\n",
      "RMSE:    1.9485372043446385\n"
     ]
    }
   ]
  },
  {
   "cell_type": "code",
   "source": [
    "fig, axs = plt.subplots(1, 3, figsize = (15,5))\n",
    "for i in range(3):\n",
    "  axs[i].scatter(X_train.values[:,i], y_train, label=\"ground truth\")\n",
    "  axs[i].scatter(X_train.values[:,i], lr.predict(X_train), label=\"simulated\")\n",
    "  if i == 2:\n",
    "    axs[i].legend()"
   ],
   "metadata": {
    "id": "OPeuQFwTTkGr",
    "colab": {
     "base_uri": "https://localhost:8080/",
     "height": 322
    },
    "outputId": "342bc88a-80f9-4722-9620-4a9e71dfa34f"
   },
   "execution_count": 26,
   "outputs": []
  },
  {
   "cell_type": "code",
   "source": [
    "fig, axs = plt.subplots(1, figsize = (5,5))\n",
    "# 정답이 이미 나와있고 그부분을 확인차 머신러닝을 돌린것이기 때문에 기울기는 무조건 1이 되어야한다.\n",
    "axs.plot([0, max([np.max(y_train), np.max(lr.predict(X_train))])],\n",
    "         [0, max([np.max(y_train), np.max(lr.predict(X_train))])], \"r\")\n",
    "axs.scatter(y_train, lr.predict(X_train))"
   ],
   "metadata": {
    "id": "83rWTzf_Tjmg",
    "colab": {
     "base_uri": "https://localhost:8080/",
     "height": 340
    },
    "outputId": "f8fce90d-7c99-49ad-dd34-71ac3bdabacf"
   },
   "execution_count": 27,
   "outputs": [
    {
     "data": {
      "text/plain": "<matplotlib.collections.PathCollection at 0x7f7be854b7f0>"
     },
     "execution_count": 27,
     "metadata": {},
     "output_type": "execute_result"
    }
   ]
  },
  {
   "cell_type": "code",
   "source": [
    "#머신러닝과 같은 모델이지만 딥러닝으로 돌리는 부분\n",
    "from tensorflow.keras.models import Sequential\n",
    "from tensorflow.keras.layers import Dense\n",
    "from tensorflow.keras.optimizers import Adam, SGD\n",
    "\n",
    "model = Sequential([\n",
    "  Dense(1),\n",
    "  Dense(16),\n",
    "  Dense(1)\n",
    "])\n",
    "\n",
    "model.compile(loss='mean_squared_error', optimizer=Adam(lr=0.1))\n",
    "\n",
    "model.fit(\n",
    "    X_train,\n",
    "    y_train,\n",
    "    validation_data=(X_test, y_test), # 검증 데이터를 넣어주면 한 epoch이 끝날때마다 자동으로 검증\n",
    "    epochs=200 # epochs 복수형으로 쓰기!\n",
    ")"
   ],
   "metadata": {
    "id": "IqiAv06HH14Y",
    "colab": {
     "base_uri": "https://localhost:8080/"
    },
    "outputId": "556e6cad-04da-4f65-be32-b2b4cd6a8357",
    "pycharm": {
     "is_executing": true
    }
   },
   "execution_count": null,
   "outputs": []
  },
  {
   "cell_type": "code",
   "source": [
    "from IPython.display import SVG\n",
    "from keras.utils.vis_utils import model_to_dot\n",
    "SVG(model_to_dot(model, show_shapes=True, dpi=72).create(prog='dot', format='svg'))"
   ],
   "metadata": {
    "id": "Hx2CJAuUNEoy",
    "colab": {
     "base_uri": "https://localhost:8080/",
     "height": 426
    },
    "outputId": "ef7f0aae-f5a8-4f41-c0d1-9b6cf9733026",
    "pycharm": {
     "is_executing": true
    }
   },
   "execution_count": null,
   "outputs": []
  },
  {
   "cell_type": "code",
   "source": [
    "y_pred_lr = lr.predict(X_test)\n",
    "y_pred_dl = model.predict(X_test)"
   ],
   "metadata": {
    "id": "ZM5fXr1ZGnGA",
    "pycharm": {
     "is_executing": true
    }
   },
   "execution_count": null,
   "outputs": []
  },
  {
   "cell_type": "code",
   "source": [
    "# 평가지표\n",
    "print(\"MAE:    \", metrics.mean_absolute_error(y_test, y_pred_lr))\n",
    "print(\"MSE:    \", metrics.mean_squared_error(y_test, y_pred_lr))\n",
    "print(\"RMSE:   \", np.sqrt(metrics.mean_squared_error(y_test, y_pred_lr)))"
   ],
   "metadata": {
    "id": "FU_tJoW1Gjlj",
    "colab": {
     "base_uri": "https://localhost:8080/"
    },
    "outputId": "4e665cc6-616d-40fc-f89e-6ebb1edbd8f4",
    "pycharm": {
     "is_executing": true
    }
   },
   "execution_count": null,
   "outputs": []
  },
  {
   "cell_type": "code",
   "source": [
    "# 평가지표\n",
    "print(\"MAE:    \", metrics.mean_absolute_error(y_test, y_pred_dl))\n",
    "print(\"MSE:    \", metrics.mean_squared_error(y_test, y_pred_dl))\n",
    "print(\"RMSE:   \", np.sqrt(metrics.mean_squared_error(y_test, y_pred_dl)))"
   ],
   "metadata": {
    "id": "LBvdM0cMMAec",
    "colab": {
     "base_uri": "https://localhost:8080/"
    },
    "outputId": "37e468bf-d8f9-4350-b401-1f3d3dc58cbf",
    "pycharm": {
     "is_executing": true
    }
   },
   "execution_count": null,
   "outputs": []
  },
  {
   "cell_type": "code",
   "source": [
    "import matplotlib.pyplot as plt\n",
    "\n",
    "plt.plot([0, max([np.max(y_test), np.max(y_pred_lr), np.max(y_pred_dl)])],\n",
    "         [0, max([np.max(y_test), np.max(y_pred_lr), np.max(y_pred_dl)])], \"r\")\n",
    "plt.scatter(y_test, y_pred_lr)\n",
    "plt.scatter(y_test, y_pred_dl)\n",
    "\n",
    "plt.show()"
   ],
   "metadata": {
    "id": "RMA6FmIUJcda",
    "colab": {
     "base_uri": "https://localhost:8080/",
     "height": 268
    },
    "outputId": "df0b5eda-2d89-426a-8bdf-f672053f1c74",
    "pycharm": {
     "is_executing": true
    }
   },
   "execution_count": null,
   "outputs": []
  },
  {
   "cell_type": "code",
   "source": [
    "plt.plot([0, max([np.max(y_train), np.max(lr.predict(X_train)), np.max(model.predict(X_train))])],\n",
    "         [0, max([np.max(y_train), np.max(lr.predict(X_train)), np.max(model.predict(X_train))])], \"r\")\n",
    "plt.scatter(y_train, lr.predict(X_train))\n",
    "plt.scatter(y_train, model.predict(X_train))\n",
    "print(\"MAE:    \", metrics.mean_absolute_error(y_train, lr.predict(X_train)))\n",
    "print(\"MSE:    \", metrics.mean_squared_error(y_train, lr.predict(X_train)))\n",
    "print(\"RMSE:   \", np.sqrt(metrics.mean_squared_error(y_train, lr.predict(X_train))))\n",
    "print(\"MAE:    \", metrics.mean_absolute_error(y_train, model.predict(X_train)))\n",
    "print(\"MSE:    \", metrics.mean_squared_error(y_train, model.predict(X_train)))\n",
    "print(\"RMSE:   \", np.sqrt(metrics.mean_squared_error(y_train, model.predict(X_train))))\n",
    "plt.show()"
   ],
   "metadata": {
    "id": "tY6fbvrpLy5B",
    "colab": {
     "base_uri": "https://localhost:8080/",
     "height": 378
    },
    "outputId": "1770b92b-80f8-4e97-df51-fb569d2dd369",
    "pycharm": {
     "is_executing": true
    }
   },
   "execution_count": null,
   "outputs": []
  },
  {
   "cell_type": "code",
   "source": [
    "from sklearn.metrics import r2_score\n",
    "print(r2_score(y_test, lr.predict(X_test)))\n",
    "print(r2_score(y_test, model.predict(X_test)))"
   ],
   "metadata": {
    "id": "el3q90ucRww-",
    "colab": {
     "base_uri": "https://localhost:8080/"
    },
    "outputId": "dd810f12-33ea-445f-87d5-ac2f419ae6c6",
    "pycharm": {
     "is_executing": true
    }
   },
   "execution_count": null,
   "outputs": []
  },
  {
   "cell_type": "markdown",
   "source": [
    "## FremontBridge"
   ],
   "metadata": {
    "id": "U0-QRQ_1aNYQ"
   }
  },
  {
   "cell_type": "code",
   "source": [
    "!curl -o FremontBridge.csv https://data.seattle.gov/api/views/65db-xm6k/rows.csv?accessType=DOWNLOAD\n",
    "!curl -o BicycleWeather.csv https://raw.githubusercontent.com/jakevdp/PythonDataScienceHandbook/master/notebooks/data/BicycleWeather.csv"
   ],
   "metadata": {
    "id": "DcufUc4MaQg8",
    "colab": {
     "base_uri": "https://localhost:8080/"
    },
    "outputId": "6025dea8-f176-4a67-db85-94641286bc79",
    "pycharm": {
     "is_executing": true
    }
   },
   "execution_count": null,
   "outputs": []
  },
  {
   "cell_type": "code",
   "source": [
    "import pandas as pd\n",
    "counts = pd.read_csv('FremontBridge.csv', index_col='Date', parse_dates=True)\n",
    "weather = pd.read_csv('BicycleWeather.csv', index_col='DATE', parse_dates=True)"
   ],
   "metadata": {
    "id": "cXBZkDLXaUe1",
    "pycharm": {
     "is_executing": true
    }
   },
   "execution_count": null,
   "outputs": []
  },
  {
   "cell_type": "code",
   "source": [
    "daily = counts.resample('d').sum()\n",
    "daily['Total'] = daily.sum(axis=1)\n",
    "daily = daily[['Total']] # remove other columns"
   ],
   "metadata": {
    "id": "aoQd2PyWackY",
    "pycharm": {
     "is_executing": true
    }
   },
   "execution_count": null,
   "outputs": []
  },
  {
   "cell_type": "code",
   "source": [
    "days = ['Mon', 'Tue', 'Wed', 'Thu', 'Fri', 'Sat', 'Sun']\n",
    "for i in range(7):\n",
    "    daily[days[i]] = (daily.index.dayofweek == i).astype(float)"
   ],
   "metadata": {
    "id": "U0mLADTKbe6W",
    "pycharm": {
     "is_executing": true
    }
   },
   "execution_count": null,
   "outputs": []
  },
  {
   "cell_type": "code",
   "source": [
    "from pandas.tseries.holiday import USFederalHolidayCalendar\n",
    "cal = USFederalHolidayCalendar()\n",
    "holidays = cal.holidays('2012', '2016')\n",
    "daily = daily.join(pd.Series(1, index=holidays, name='holiday'))\n",
    "daily['holiday'].fillna(0, inplace=True)"
   ],
   "metadata": {
    "id": "uP06LU1rbhBW",
    "pycharm": {
     "is_executing": true
    }
   },
   "execution_count": null,
   "outputs": []
  },
  {
   "cell_type": "code",
   "source": [
    "def hours_of_daylight(date, axis=23.44, latitude=47.61):\n",
    "    \"\"\"Compute the hours of daylight for the given date\"\"\"\n",
    "    days = (date - pd.datetime(2000, 12, 21)).days\n",
    "    m = (1. - np.tan(np.radians(latitude))\n",
    "         * np.tan(np.radians(axis) * np.cos(days * 2 * np.pi / 365.25)))\n",
    "    return 24. * np.degrees(np.arccos(1 - np.clip(m, 0, 2))) / 180.\n",
    "\n",
    "daily['daylight_hrs'] = list(map(hours_of_daylight, daily.index))\n",
    "daily[['daylight_hrs']].plot()\n",
    "plt.ylim(8, 17)"
   ],
   "metadata": {
    "id": "1S9Z7Z6Vbiku",
    "colab": {
     "base_uri": "https://localhost:8080/",
     "height": 307
    },
    "outputId": "640e8a2b-007c-4339-bd28-f5fe1aa6fccf",
    "pycharm": {
     "is_executing": true
    }
   },
   "execution_count": null,
   "outputs": []
  },
  {
   "cell_type": "code",
   "source": [
    "# temperatures are in 1/10 deg C; convert to C\n",
    "weather['TMIN'] /= 10\n",
    "weather['TMAX'] /= 10\n",
    "weather['Temp (C)'] = 0.5 * (weather['TMIN'] + weather['TMAX'])\n",
    "\n",
    "# precip is in 1/10 mm; convert to inches\n",
    "weather['PRCP'] /= 254\n",
    "weather['dry day'] = (weather['PRCP'] == 0).astype(int)\n",
    "\n",
    "daily = daily.join(weather[['PRCP', 'Temp (C)', 'dry day']])"
   ],
   "metadata": {
    "id": "qJ2iKXy3b4JI",
    "pycharm": {
     "is_executing": true
    }
   },
   "execution_count": null,
   "outputs": []
  },
  {
   "cell_type": "code",
   "source": [
    "daily['annual'] = (daily.index - daily.index[0]).days / 365.\n",
    "daily.head()"
   ],
   "metadata": {
    "id": "fFa7itBYb6O_",
    "colab": {
     "base_uri": "https://localhost:8080/",
     "height": 238
    },
    "outputId": "3a8e0ce3-5f0a-45c8-e69f-b18ae9a0320f",
    "pycharm": {
     "is_executing": true
    }
   },
   "execution_count": null,
   "outputs": []
  },
  {
   "cell_type": "code",
   "source": [
    "# Drop any rows with null values\n",
    "daily.dropna(axis=0, how='any', inplace=True)\n",
    "\n",
    "column_names = ['Mon', 'Tue', 'Wed', 'Thu', 'Fri', 'Sat', 'Sun', 'holiday',\n",
    "                'daylight_hrs', 'PRCP', 'dry day', 'Temp (C)', 'annual']\n",
    "X = daily[column_names]\n",
    "y = daily['Total']\n",
    "\n",
    "model = LinearRegression(fit_intercept=False)\n",
    "model.fit(X, y)\n",
    "daily['predicted'] = model.predict(X)"
   ],
   "metadata": {
    "id": "EqBCilUycByr",
    "pycharm": {
     "is_executing": true
    }
   },
   "execution_count": null,
   "outputs": []
  },
  {
   "cell_type": "code",
   "source": [
    "daily[['Total', 'predicted']].plot(alpha=0.5);"
   ],
   "metadata": {
    "id": "TjHAR815cGjT",
    "colab": {
     "base_uri": "https://localhost:8080/",
     "height": 296
    },
    "outputId": "25fe165b-cf76-47ff-aa8d-b595165437fa",
    "pycharm": {
     "is_executing": true
    }
   },
   "execution_count": null,
   "outputs": []
  },
  {
   "cell_type": "code",
   "source": [
    "params = pd.Series(model.coef_, index=X.columns)\n",
    "params"
   ],
   "metadata": {
    "id": "9V_9tWZmcYE2",
    "colab": {
     "base_uri": "https://localhost:8080/"
    },
    "outputId": "fea8a94d-8563-45b3-88b0-48251f591dd8",
    "pycharm": {
     "is_executing": true
    }
   },
   "execution_count": null,
   "outputs": []
  },
  {
   "cell_type": "code",
   "source": [
    "from sklearn.utils import resample\n",
    "np.random.seed(1)\n",
    "err = np.std([model.fit(*resample(X, y)).coef_\n",
    "              for i in range(1000)], 0)"
   ],
   "metadata": {
    "id": "hxgLTQKRcaie",
    "pycharm": {
     "is_executing": true
    }
   },
   "execution_count": null,
   "outputs": []
  },
  {
   "cell_type": "code",
   "source": [
    "\n",
    "print(pd.DataFrame({'effect': params.round(0),\n",
    "                    'error': err.round(0)}))"
   ],
   "metadata": {
    "id": "gNb_Wsizcjge",
    "colab": {
     "base_uri": "https://localhost:8080/"
    },
    "outputId": "9019cc7f-42b0-4dc6-f34f-e41ac140b680",
    "pycharm": {
     "is_executing": true
    }
   },
   "execution_count": null,
   "outputs": []
  },
  {
   "cell_type": "markdown",
   "source": [
    "## mtcars\n",
    "\n",
    "https://cran.r-project.org/web/packages/explore/vignettes/explore_mtcars.html"
   ],
   "metadata": {
    "id": "jTVTCGLSWTlr"
   }
  },
  {
   "cell_type": "code",
   "source": [
    "import statsmodels.api as sm\n",
    "\n",
    "import pandas as pd\n",
    "import numpy as np\n",
    "import statsmodels.api as sm\n",
    "from sklearn.linear_model import LinearRegression\n",
    "from sklearn.model_selection import train_test_split\n",
    "from sklearn import metrics\n",
    "import seaborn as sns\n",
    "mtcars = sm.datasets.get_rdataset(\"mtcars\", \"datasets\", cache=True).data\n",
    "df = pd.DataFrame(mtcars)\n",
    "\n",
    "df.head()"
   ],
   "metadata": {
    "id": "4vcpHTsxU7LF",
    "colab": {
     "base_uri": "https://localhost:8080/",
     "height": 206
    },
    "outputId": "a8a03fa8-ae86-49cb-c04b-cb83e50709c0"
   },
   "execution_count": 32,
   "outputs": [
    {
     "data": {
      "text/plain": "                    mpg  cyl   disp   hp  drat     wt   qsec  vs  am  gear  \\\nMazda RX4          21.0    6  160.0  110  3.90  2.620  16.46   0   1     4   \nMazda RX4 Wag      21.0    6  160.0  110  3.90  2.875  17.02   0   1     4   \nDatsun 710         22.8    4  108.0   93  3.85  2.320  18.61   1   1     4   \nHornet 4 Drive     21.4    6  258.0  110  3.08  3.215  19.44   1   0     3   \nHornet Sportabout  18.7    8  360.0  175  3.15  3.440  17.02   0   0     3   \n\n                   carb  \nMazda RX4             4  \nMazda RX4 Wag         4  \nDatsun 710            1  \nHornet 4 Drive        1  \nHornet Sportabout     2  ",
      "text/html": "<div>\n<style scoped>\n    .dataframe tbody tr th:only-of-type {\n        vertical-align: middle;\n    }\n\n    .dataframe tbody tr th {\n        vertical-align: top;\n    }\n\n    .dataframe thead th {\n        text-align: right;\n    }\n</style>\n<table border=\"1\" class=\"dataframe\">\n  <thead>\n    <tr style=\"text-align: right;\">\n      <th></th>\n      <th>mpg</th>\n      <th>cyl</th>\n      <th>disp</th>\n      <th>hp</th>\n      <th>drat</th>\n      <th>wt</th>\n      <th>qsec</th>\n      <th>vs</th>\n      <th>am</th>\n      <th>gear</th>\n      <th>carb</th>\n    </tr>\n  </thead>\n  <tbody>\n    <tr>\n      <th>Mazda RX4</th>\n      <td>21.0</td>\n      <td>6</td>\n      <td>160.0</td>\n      <td>110</td>\n      <td>3.90</td>\n      <td>2.620</td>\n      <td>16.46</td>\n      <td>0</td>\n      <td>1</td>\n      <td>4</td>\n      <td>4</td>\n    </tr>\n    <tr>\n      <th>Mazda RX4 Wag</th>\n      <td>21.0</td>\n      <td>6</td>\n      <td>160.0</td>\n      <td>110</td>\n      <td>3.90</td>\n      <td>2.875</td>\n      <td>17.02</td>\n      <td>0</td>\n      <td>1</td>\n      <td>4</td>\n      <td>4</td>\n    </tr>\n    <tr>\n      <th>Datsun 710</th>\n      <td>22.8</td>\n      <td>4</td>\n      <td>108.0</td>\n      <td>93</td>\n      <td>3.85</td>\n      <td>2.320</td>\n      <td>18.61</td>\n      <td>1</td>\n      <td>1</td>\n      <td>4</td>\n      <td>1</td>\n    </tr>\n    <tr>\n      <th>Hornet 4 Drive</th>\n      <td>21.4</td>\n      <td>6</td>\n      <td>258.0</td>\n      <td>110</td>\n      <td>3.08</td>\n      <td>3.215</td>\n      <td>19.44</td>\n      <td>1</td>\n      <td>0</td>\n      <td>3</td>\n      <td>1</td>\n    </tr>\n    <tr>\n      <th>Hornet Sportabout</th>\n      <td>18.7</td>\n      <td>8</td>\n      <td>360.0</td>\n      <td>175</td>\n      <td>3.15</td>\n      <td>3.440</td>\n      <td>17.02</td>\n      <td>0</td>\n      <td>0</td>\n      <td>3</td>\n      <td>2</td>\n    </tr>\n  </tbody>\n</table>\n</div>"
     },
     "execution_count": 32,
     "metadata": {},
     "output_type": "execute_result"
    }
   ]
  },
  {
   "cell_type": "markdown",
   "source": [
    "## 과제 1\n",
    "\n",
    "선형모델을 활용하여, wt로 mpg를 예측하시오"
   ],
   "metadata": {
    "id": "zK4WVMuuWzkp"
   }
  },
  {
   "cell_type": "markdown",
   "source": [
    "랜덤포레스트(기말과제)"
   ],
   "metadata": {
    "collapsed": false
   }
  },
  {
   "cell_type": "markdown",
   "source": [],
   "metadata": {
    "collapsed": false
   }
  },
  {
   "cell_type": "code",
   "execution_count": 33,
   "outputs": [],
   "source": [
    "import sklearn.datasets\n",
    "from sklearn.model_selection import train_test_split\n",
    "from sklearn.metrics import mean_squared_error\n",
    "from sklearn.ensemble import RandomForestRegressor\n",
    "import pandas as pd"
   ],
   "metadata": {
    "collapsed": false
   }
  },
  {
   "cell_type": "code",
   "execution_count": 84,
   "outputs": [
    {
     "name": "stdout",
     "output_type": "stream",
     "text": [
      "MAE:     3.0812000000000124\n",
      "MSE:     14.35428103200006\n",
      "RMSE:    3.7887044001874917\n"
     ]
    }
   ],
   "source": [
    "X=df[['wt']]\n",
    "# X = X.values.reshape(-1,1)\n",
    "y=df['mpg']\n",
    "\n",
    "X_train, X_test, y_train, y_test = train_test_split(X, y, test_size=0.3, random_state=123)\n",
    "\n",
    "\n",
    "regr = RandomForestRegressor()\n",
    "regr.fit(X_train, y_train)\n",
    "y_pred = regr.predict(X_test)\n",
    "# mse=metrics.mean_squared_error(y_test,y_pred)\n",
    "# mse\n",
    "#평가지표들\n",
    "print(\"MAE:    \", metrics.mean_absolute_error(y_test, y_pred))\n",
    "print(\"MSE:    \", metrics.mean_squared_error(y_test,y_pred))\n",
    "print(\"RMSE:   \", np.sqrt(metrics.mean_squared_error(y_test, y_pred)))"
   ],
   "metadata": {
    "collapsed": false
   }
  },
  {
   "cell_type": "markdown",
   "source": [
    "여기서부턴 원래 과제코드"
   ],
   "metadata": {
    "collapsed": false
   }
  },
  {
   "cell_type": "code",
   "source": [
    "#wt는 차의 무게,\n",
    "sns.pairplot(df, x_vars=['wt'], y_vars=['mpg'], height=4, aspect=1, kind='reg')\n",
    "X=df['wt']\n",
    "X = X.values.reshape(-1,1)\n",
    "y=df['mpg']\n",
    "\n",
    "X_train, X_test, y_train, y_test = train_test_split(X, y, test_size=0.3, random_state=42)\n",
    "# X_train= X_train.values.reshape(-1, 1)\n",
    "# X_test = X_test.values.reshape(-1, 1)\n",
    "\n",
    "\n",
    "lr = LinearRegression()\n",
    "lr.fit(X_train, y_train)\n",
    "print(lr.coef_) #직선의 기울기\n",
    "print(lr.intercept_) #직선의 절편\n"
   ],
   "metadata": {
    "id": "12VyZFhjXH8L",
    "colab": {
     "base_uri": "https://localhost:8080/",
     "height": 338
    },
    "outputId": "605a9405-7abd-47f9-c11f-4927d2d85e72"
   },
   "execution_count": 67,
   "outputs": [
    {
     "name": "stdout",
     "output_type": "stream",
     "text": [
      "[-5.35614652]\n",
      "37.0438956114062\n"
     ]
    }
   ]
  },
  {
   "cell_type": "code",
   "source": [
    "y_pred = lr.predict(X_train)\n",
    "y_pred"
   ],
   "metadata": {
    "colab": {
     "base_uri": "https://localhost:8080/"
    },
    "id": "blkYY1dm9ymr",
    "outputId": "846284a1-8372-4cd4-ba19-9629ee5285ff"
   },
   "execution_count": 68,
   "outputs": [
    {
     "data": {
      "text/plain": "array([18.61875159,  8.41529248, 18.51162866, 16.79766178, 15.24437929,\n       16.47629299, 21.64497438, 24.61763569, 25.58174207, 19.82388456,\n       18.19025987, 28.94004593, 18.64553233, 28.39371899, 22.15380829,\n       23.84099445, 19.95778822, 18.61875159,  8.9241264 , 20.06491115,\n       27.21536675, 17.92245255])"
     },
     "execution_count": 68,
     "metadata": {},
     "output_type": "execute_result"
    }
   ]
  },
  {
   "cell_type": "code",
   "source": [
    "lr.fit(X_train, y_train)\n",
    "score = lr.score(X_train, y_train)\n",
    "print(\"데이터와 선형회귀 직선의 관계점수: {:.1%}\".format(score))\n",
    "print(\"y = {}* X + {:.3f}\".format(lr.coef_.round(3), lr.intercept_))"
   ],
   "metadata": {
    "colab": {
     "base_uri": "https://localhost:8080/"
    },
    "id": "afoIiRrD3qPN",
    "outputId": "43cc7f51-ad78-45cb-c7db-bf8b3b0a4138"
   },
   "execution_count": 69,
   "outputs": [
    {
     "name": "stdout",
     "output_type": "stream",
     "text": [
      "데이터와 선형회귀 직선의 관계점수: 75.8%\n",
      "y = [-5.356]* X + 37.044\n"
     ]
    }
   ]
  },
  {
   "cell_type": "code",
   "source": [
    "#평가지표들\n",
    "print(\"MAE:    \", metrics.mean_absolute_error(y_test, lr.predict(X_test)))\n",
    "print(\"MSE:    \", metrics.mean_squared_error(y_test, lr.predict(X_test)))\n",
    "print(\"RMSE:   \", np.sqrt(metrics.mean_squared_error(y_test, lr.predict(X_test))))"
   ],
   "metadata": {
    "colab": {
     "base_uri": "https://localhost:8080/"
    },
    "id": "WV32Xr75y5-h",
    "outputId": "d57931f9-6a3f-425d-9651-0eaaf7858ade"
   },
   "execution_count": 73,
   "outputs": [
    {
     "name": "stdout",
     "output_type": "stream",
     "text": [
      "MAE:     2.3802564730182505\n",
      "MSE:     9.089184317530554\n",
      "RMSE:    3.014827410902746\n"
     ]
    }
   ]
  },
  {
   "cell_type": "code",
   "source": [
    "fig, axs = plt.subplots(1, figsize = (5,5))\n",
    "\n",
    "axs.plot([0, max([np.max(y_train), np.max(lr.predict(X_train))])],\n",
    "         [0, max([np.max(y_train), np.max(lr.predict(X_train))])], \"r\")\n",
    "axs.scatter(y_train, lr.predict(X_train))"
   ],
   "metadata": {
    "colab": {
     "base_uri": "https://localhost:8080/",
     "height": 340
    },
    "id": "OoEbF_WS3ZAc",
    "outputId": "7aafee2a-04c1-4d00-fd6e-5be5f3d308b3"
   },
   "execution_count": 16,
   "outputs": [
    {
     "ename": "NameError",
     "evalue": "name 'plt' is not defined",
     "output_type": "error",
     "traceback": [
      "\u001B[0;31m---------------------------------------------------------------------------\u001B[0m",
      "\u001B[0;31mNameError\u001B[0m                                 Traceback (most recent call last)",
      "\u001B[0;32m/var/folders/js/792bsrvx24lcg4nrdgy7k5br0000gn/T/ipykernel_92625/2747744427.py\u001B[0m in \u001B[0;36m<module>\u001B[0;34m\u001B[0m\n\u001B[0;32m----> 1\u001B[0;31m \u001B[0mfig\u001B[0m\u001B[0;34m,\u001B[0m \u001B[0maxs\u001B[0m \u001B[0;34m=\u001B[0m \u001B[0mplt\u001B[0m\u001B[0;34m.\u001B[0m\u001B[0msubplots\u001B[0m\u001B[0;34m(\u001B[0m\u001B[0;36m1\u001B[0m\u001B[0;34m,\u001B[0m \u001B[0mfigsize\u001B[0m \u001B[0;34m=\u001B[0m \u001B[0;34m(\u001B[0m\u001B[0;36m5\u001B[0m\u001B[0;34m,\u001B[0m\u001B[0;36m5\u001B[0m\u001B[0;34m)\u001B[0m\u001B[0;34m)\u001B[0m\u001B[0;34m\u001B[0m\u001B[0;34m\u001B[0m\u001B[0m\n\u001B[0m\u001B[1;32m      2\u001B[0m \u001B[0;34m\u001B[0m\u001B[0m\n\u001B[1;32m      3\u001B[0m axs.plot([0, max([np.max(y_train), np.max(lr.predict(X_train))])],\n\u001B[1;32m      4\u001B[0m          [0, max([np.max(y_train), np.max(lr.predict(X_train))])], \"r\")\n\u001B[1;32m      5\u001B[0m \u001B[0maxs\u001B[0m\u001B[0;34m.\u001B[0m\u001B[0mscatter\u001B[0m\u001B[0;34m(\u001B[0m\u001B[0my_train\u001B[0m\u001B[0;34m,\u001B[0m \u001B[0mlr\u001B[0m\u001B[0;34m.\u001B[0m\u001B[0mpredict\u001B[0m\u001B[0;34m(\u001B[0m\u001B[0mX_train\u001B[0m\u001B[0;34m)\u001B[0m\u001B[0;34m)\u001B[0m\u001B[0;34m\u001B[0m\u001B[0;34m\u001B[0m\u001B[0m\n",
      "\u001B[0;31mNameError\u001B[0m: name 'plt' is not defined"
     ]
    }
   ]
  },
  {
   "cell_type": "markdown",
   "source": [
    "## 과제 2\n",
    "\n",
    "선형모델을 활용하여, hp로 mpg를 예측하시오"
   ],
   "metadata": {
    "id": "z4myfMsnXIPu"
   }
  },
  {
   "cell_type": "code",
   "source": [
    "#hp는 연비가 안좋다는...?, 1번과 코드 매우 유사. wt를 hp로만 바꾸면 됨\n",
    "sns.pairplot(df, x_vars=['hp'], y_vars=['mpg'], height=4, aspect=1, kind='reg')\n",
    "X=df['hp']\n",
    "X = X.values.reshape(-1,1)\n",
    "y=df['mpg']\n",
    "\n",
    "X_train, X_test, y_train, y_test = train_test_split(X, y, test_size=0.4, random_state=42) \n",
    "# X_train= X_train.values.reshape(-1, 1)\n",
    "# X_test = X_test.values.reshape(-1, 1)\n",
    "\n",
    "\n",
    "lr = LinearRegression()\n",
    "lr.fit(X_train, y_train)\n",
    "print(lr.coef_) #직선의 기울기\n",
    "print(lr.intercept_) #직선의 절편\n",
    "\n",
    "lr.fit(X,y)\n",
    "score = lr.score(X, y)\n",
    "print(\"데이터와 선형회귀 직선의 관계점수: {:.1%}\".format(score))\n",
    "print(\"y = {}* X + {:.2f}\".format(lr.coef_.round(2), lr.intercept_))\n",
    "\n",
    "#평가지표들\n",
    "print(\"MAE:    \", metrics.mean_absolute_error(y_test, lr.predict(X_test)))\n",
    "print(\"MSE:    \", metrics.mean_squared_error(y_test, lr.predict(X_test)))\n",
    "print(\"RMSE:   \", np.sqrt(metrics.mean_squared_error(y_test, lr.predict(X_test))))\n",
    "\n",
    "fig, axs = plt.subplots(1, figsize = (5,5))\n",
    "\n",
    "axs.plot([0, max([np.max(y_train), np.max(lr.predict(X_train))])],\n",
    "         [0, max([np.max(y_train), np.max(lr.predict(X_train))])], \"r\")\n",
    "axs.scatter(y_train, lr.predict(X_train))"
   ],
   "metadata": {
    "id": "Wzp9CoHyXK-h",
    "colab": {
     "base_uri": "https://localhost:8080/",
     "height": 753
    },
    "outputId": "21a6cf1a-aaa2-44f7-d0d9-25a123f3f244",
    "pycharm": {
     "is_executing": true
    }
   },
   "execution_count": null,
   "outputs": []
  },
  {
   "cell_type": "markdown",
   "source": [
    "## 과제 3\n",
    "\n",
    "변수를 조합하여 mpg를 예측하는 최선의 선형회귀 모델을 찾아보시오. (최대 2차 다항식까지 허용)\n",
    "\n",
    "- **r2score와 RMSE를 출력할 것**"
   ],
   "metadata": {
    "id": "lwKz3fW7XRh5"
   }
  },
  {
   "cell_type": "code",
   "source": [
    "import seaborn as sns\n",
    "import pandas as pd\n",
    "sns.pairplot(df, hue='mpg')\n",
    "#데이터가 연속되는 값이 아닌경우 일렬로 그래프가 그려질 수 있음..."
   ],
   "metadata": {
    "colab": {
     "base_uri": "https://localhost:8080/",
     "height": 1000
    },
    "id": "-WrLiBugMWHv",
    "outputId": "825ae6a8-e205-4d99-d240-b5a3ff1c7534",
    "pycharm": {
     "is_executing": true
    }
   },
   "execution_count": null,
   "outputs": []
  },
  {
   "cell_type": "code",
   "source": [
    "print(df['mpg'].corr(df['cyl']))\n",
    "print(df['mpg'].corr(df['disp']))\n",
    "print(df['mpg'].corr(df['hp']))\n",
    "print(df['mpg'].corr(df['drat']))\n",
    "print(df['mpg'].corr(df['wt']))\n",
    "print(df['mpg'].corr(df['qsec']))\n",
    "print(df['mpg'].corr(df['vs']))\n",
    "print(df['mpg'].corr(df['am']))\n",
    "print(df['mpg'].corr(df['gear']))\n",
    "print(df['mpg'].corr(df['carb']))\n",
    "#상관계수가.... drat,vs,am,gear,qsec 가 가장 높게 나오긴 했는데...."
   ],
   "metadata": {
    "colab": {
     "base_uri": "https://localhost:8080/"
    },
    "id": "WK9M348VODz3",
    "outputId": "270f804d-c5b0-4129-d6c4-bef159ce2a16",
    "pycharm": {
     "is_executing": true
    }
   },
   "execution_count": null,
   "outputs": []
  },
  {
   "cell_type": "code",
   "source": [
    "from sklearn.metrics import r2_score\n",
    "\n",
    "# cyl로 mpg값 예측\n",
    "sns.pairplot(df, x_vars=['cyl'], y_vars=['mpg'], height=4, aspect=1, kind='reg')\n",
    "C=df['cyl']\n",
    "C = C.values.reshape(-1,1)\n",
    "y=df['mpg']\n",
    "\n",
    "C_train, C_test, y_train, y_test = train_test_split(C, y, test_size=0.4, random_state=42) \n",
    "\n",
    "lr = LinearRegression()\n",
    "lr.fit(C_train, y_train)\n",
    "\n",
    "print(\"MAE:    \", metrics.mean_absolute_error(y_test, lr.predict(C_test)))\n",
    "print(\"MSE:    \", metrics.mean_squared_error(y_test, lr.predict(C_test)))\n",
    "print(\"RMSE:   \", np.sqrt(metrics.mean_squared_error(y_test, lr.predict(C_test))))\n",
    "\n",
    "fig, axs = plt.subplots(1, figsize = (5,5))\n",
    "\n",
    "axs.plot([0, max([np.max(y_train), np.max(lr.predict(C_train))])],\n",
    "         [0, max([np.max(y_train), np.max(lr.predict(C_train))])], \"r\")\n",
    "axs.scatter(y_train, lr.predict(C_train))\n",
    "\n",
    "# => 탈락!"
   ],
   "metadata": {
    "id": "JAK7DbVUX06D",
    "colab": {
     "base_uri": "https://localhost:8080/",
     "height": 679
    },
    "outputId": "5556e0ac-b86a-4855-bfd1-32d43c3a3b76",
    "pycharm": {
     "is_executing": true
    }
   },
   "execution_count": null,
   "outputs": []
  },
  {
   "cell_type": "code",
   "source": [
    "# disp로 mpg값 예측\n",
    "sns.pairplot(df, x_vars=['disp'], y_vars=['mpg'], height=4, aspect=1, kind='reg')\n",
    "D=df['disp']\n",
    "D = D.values.reshape(-1,1)\n",
    "y=df['mpg']\n",
    "\n",
    "D_train, D_test, y_train, y_test = train_test_split(D, y, test_size=0.4, random_state=50000) \n",
    "\n",
    "lr = LinearRegression()\n",
    "lr.fit(D_train, y_train)\n",
    "\n",
    "print(\"MAE:    \", metrics.mean_absolute_error(y_test, lr.predict(D_test)))\n",
    "print(\"MSE:    \", metrics.mean_squared_error(y_test, lr.predict(D_test)))\n",
    "print(\"RMSE:   \", np.sqrt(metrics.mean_squared_error(y_test, lr.predict(D_test))))\n",
    "print(\"R2_score:     \", r2_score(y_test, lr.predict(D_test)))\n",
    "\n",
    "fig, axs = plt.subplots(1, figsize = (5,5))\n",
    "\n",
    "axs.plot([0, max([np.max(y_train), np.max(lr.predict(D_train))])],\n",
    "         [0, max([np.max(y_train), np.max(lr.predict(D_train))])], \"r\")\n",
    "axs.scatter(y_train, lr.predict(D_train))\n",
    "\n",
    "# => 탈락!"
   ],
   "metadata": {
    "colab": {
     "base_uri": "https://localhost:8080/",
     "height": 698
    },
    "id": "BjcSKBaJINO_",
    "outputId": "c8df2c91-4c0b-45d4-fce4-8cf58a7bd6ab",
    "pycharm": {
     "is_executing": true
    }
   },
   "execution_count": null,
   "outputs": []
  },
  {
   "cell_type": "code",
   "source": [
    "# drat로 mpg값 예측\n",
    "sns.pairplot(df, x_vars=['drat'], y_vars=['mpg'], height=4, aspect=1, kind='reg')\n",
    "Dr=df['drat']\n",
    "Dr = Dr.values.reshape(-1,1)\n",
    "y=df['mpg']\n",
    "\n",
    "Dr_train, Dr_test, y_train, y_test = train_test_split(Dr, y, test_size=0.4, random_state=50000) \n",
    "\n",
    "lr = LinearRegression()\n",
    "lr.fit(Dr_train, y_train)\n",
    "\n",
    "print(\"MAE:    \", metrics.mean_absolute_error(y_test, lr.predict(Dr_test)))\n",
    "print(\"MSE:    \", metrics.mean_squared_error(y_test, lr.predict(Dr_test)))\n",
    "print(\"RMSE:   \", np.sqrt(metrics.mean_squared_error(y_test, lr.predict(Dr_test))))\n",
    "\n",
    "fig, axs = plt.subplots(1, figsize = (5,5))\n",
    "\n",
    "axs.plot([0, max([np.max(y_train), np.max(lr.predict(Dr_train))])],\n",
    "         [0, max([np.max(y_train), np.max(lr.predict(Dr_train))])], \"r\")\n",
    "axs.scatter(y_train, lr.predict(Dr_train))\n",
    "\n",
    "# => 탈락!"
   ],
   "metadata": {
    "colab": {
     "base_uri": "https://localhost:8080/",
     "height": 679
    },
    "id": "HVmkL5dhI4mz",
    "outputId": "3cbaf345-93d0-4f7b-a708-34c5ca79ced1",
    "pycharm": {
     "is_executing": true
    }
   },
   "execution_count": null,
   "outputs": []
  },
  {
   "cell_type": "code",
   "source": [
    "# qsec로 mpg값 예측\n",
    "sns.pairplot(df, x_vars=['qsec'], y_vars=['mpg'], height=4, aspect=1, kind='reg')\n",
    "Q=df['qsec']\n",
    "Q = Q.values.reshape(-1,1)\n",
    "y=df['mpg']\n",
    "\n",
    "Q_train, Q_test, y_train, y_test = train_test_split(Q, y, test_size=0.4, random_state=42) \n",
    "\n",
    "lr = LinearRegression()\n",
    "lr.fit(Q_train, y_train)\n",
    "\n",
    "print(\"MAE:    \", metrics.mean_absolute_error(y_test, lr.predict(Q_test)))\n",
    "print(\"MSE:    \", metrics.mean_squared_error(y_test, lr.predict(Q_test)))\n",
    "print(\"RMSE:   \", np.sqrt(metrics.mean_squared_error(y_test, lr.predict(Q_test))))\n",
    "\n",
    "fig, axs = plt.subplots(1, figsize = (5,5))\n",
    "\n",
    "axs.plot([0, max([np.max(y_train), np.max(lr.predict(Q_train))])],\n",
    "         [0, max([np.max(y_train), np.max(lr.predict(Q_train))])], \"r\")\n",
    "axs.scatter(y_train, lr.predict(Q_train))\n",
    "\n",
    "# => 탈락!"
   ],
   "metadata": {
    "colab": {
     "base_uri": "https://localhost:8080/",
     "height": 679
    },
    "id": "BF12vaqJKm3K",
    "outputId": "5e71045a-d2b3-4135-9e7f-577c87a18f2e",
    "pycharm": {
     "is_executing": true
    }
   },
   "execution_count": null,
   "outputs": []
  },
  {
   "cell_type": "code",
   "source": [
    "\n",
    "# gear로 mpg값 예측\n",
    "sns.pairplot(df, x_vars=['gear'], y_vars=['mpg'], height=4, aspect=1, kind='reg')\n",
    "G=df['gear']\n",
    "G = G.values.reshape(-1,1)\n",
    "y=df['mpg']\n",
    "\n",
    "G_train, G_test, y_train, y_test = train_test_split(G, y, test_size=0.4, random_state=42) \n",
    "\n",
    "lr = LinearRegression()\n",
    "lr.fit(G_train, y_train)\n",
    "\n",
    "print(\"MAE:    \", metrics.mean_absolute_error(y_test, lr.predict(G_test)))\n",
    "print(\"MSE:    \", metrics.mean_squared_error(y_test, lr.predict(G_test)))\n",
    "print(\"RMSE:   \", np.sqrt(metrics.mean_squared_error(y_test, lr.predict(G_test))))\n",
    "\n",
    "fig, axs = plt.subplots(1, figsize = (5,5))\n",
    "\n",
    "axs.plot([0, max([np.max(y_train), np.max(lr.predict(G_train))])],\n",
    "         [0, max([np.max(y_train), np.max(lr.predict(G_train))])], \"r\")\n",
    "axs.scatter(y_train, lr.predict(G_train))\n",
    "\n",
    "\n",
    "# => 탈락!"
   ],
   "metadata": {
    "colab": {
     "base_uri": "https://localhost:8080/",
     "height": 679
    },
    "id": "9ju_9FAcLA9X",
    "outputId": "c0614f96-f700-407f-8132-ad21c27b9899",
    "pycharm": {
     "is_executing": true
    }
   },
   "execution_count": null,
   "outputs": []
  },
  {
   "cell_type": "markdown",
   "source": [
    "RMSE값이 매우 높게 측정되서 나온다....ㅠㅠㅠ\n",
    "아마 데이터의 값이 너무 적어서이지 않을까...\n",
    "\n"
   ],
   "metadata": {
    "id": "diuALG8-LpY2"
   }
  },
  {
   "cell_type": "code",
   "source": [
    "from sklearn.preprocessing import StandardScaler\n",
    "\n",
    "import statsmodels.api as sm\n",
    "\n",
    "mtcars = sm.datasets.get_rdataset(\"mtcars\", \"datasets\", cache=True).data\n",
    "df = pd.DataFrame(mtcars)\n",
    "\n",
    "df.head()\n",
    "df.shape\n",
    "\n",
    "\n",
    "\n",
    "sns.pairplot(df, x_vars=['disp', 'hp', 'wt'], y_vars=['mpg'], height=4, aspect=1, kind='reg')\n",
    "\n",
    "\n",
    "#어떤값을 넣을건지 지정해주기\n",
    "X = df[[\"disp\", 'hp', 'wt']]\n",
    "X.shape\n",
    "y = df[\"mpg\"]\n",
    "\n",
    "#train(학습데이터)이랑 test(시험데이터)랑 분리해주는 부분(split) \n",
    "X_train, X_test, y_train, y_test = train_test_split(X, y, test_size=0.4, random_state=42) \n",
    "\n",
    "#스케일러 지정해주는 부분(호출!!)\n",
    "scaler = StandardScaler()\n",
    "\n",
    "#스케일러로 변환을 시켜주고~\n",
    "X_test= scaler.fit_transform(X_test)\n",
    "X_train= scaler.fit_transform(X_train)\n",
    "\n",
    "#이제 학습시키기!(머신러닝 부분!!)\n",
    "lr = LinearRegression()\n",
    "lr.fit(X_train, y_train)\n",
    "\n"
   ],
   "metadata": {
    "colab": {
     "base_uri": "https://localhost:8080/",
     "height": 319
    },
    "id": "9kBzU3klL-un",
    "outputId": "e044192f-d728-48ab-e554-5cceb49f693d",
    "pycharm": {
     "is_executing": true
    }
   },
   "execution_count": null,
   "outputs": []
  },
  {
   "cell_type": "code",
   "source": [
    "#평가지표 계산!\n",
    "print(\"RMSE:   \", np.sqrt(metrics.mean_squared_error(y_test, lr.predict(X_test))))\n",
    "print(\"R2_score:     \", r2_score(y_test, lr.predict(X_test)))\n"
   ],
   "metadata": {
    "colab": {
     "base_uri": "https://localhost:8080/"
    },
    "id": "OBHeRN7dpgYH",
    "outputId": "e0503162-5b14-4e44-ebbe-648695aff544",
    "pycharm": {
     "is_executing": true
    }
   },
   "execution_count": null,
   "outputs": []
  }
 ]
}
