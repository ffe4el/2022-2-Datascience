{
 "nbformat": 4,
 "nbformat_minor": 0,
 "metadata": {
  "colab": {
   "provenance": []
  },
  "kernelspec": {
   "name": "python3",
   "display_name": "Python 3"
  },
  "language_info": {
   "name": "python"
  },
  "accelerator": "GPU",
  "gpuClass": "standard"
 },
 "cells": [
  {
   "cell_type": "markdown",
   "source": [
    "**Note**: If you are running this in [a colab notebook](https://colab.research.google.com/github/skorch-dev/skorch/blob/master/notebooks/MNIST.ipynb), we recommend you enable a free GPU by going:\n",
    "\n",
    "> **Runtime**   →   **Change runtime type**   →   **Hardware Accelerator: GPU**\n",
    "\n",
    "If you are running in colab, you should install the dependencies and download the dataset by running the following cell:"
   ],
   "metadata": {
    "id": "KMndMPkQaAFV"
   }
  },
  {
   "cell_type": "code",
   "execution_count": 1,
   "metadata": {
    "id": "1RG0oNgSZ0EG",
    "outputId": "c7fea54c-18ef-4421-f605-cb729b0c2c9c",
    "colab": {
     "base_uri": "https://localhost:8080/"
    }
   },
   "outputs": [
    {
     "name": "stdout",
     "output_type": "stream",
     "text": [
      "Collecting skorch\r\n",
      "  Downloading skorch-0.12.1-py3-none-any.whl (193 kB)\r\n",
      "\u001B[2K     \u001B[90m━━━━━━━━━━━━━━━━━━━━━━━━━━━━━━━━━━━━━━━\u001B[0m \u001B[32m193.7/193.7 kB\u001B[0m \u001B[31m6.6 MB/s\u001B[0m eta \u001B[36m0:00:00\u001B[0m\r\n",
      "\u001B[?25hRequirement already satisfied: scipy>=1.1.0 in /Users/sola/opt/anaconda3/lib/python3.9/site-packages (from skorch) (1.9.1)\r\n",
      "Requirement already satisfied: tqdm>=4.14.0 in /Users/sola/opt/anaconda3/lib/python3.9/site-packages (from skorch) (4.64.1)\r\n",
      "Requirement already satisfied: scikit-learn>=0.22.0 in /Users/sola/opt/anaconda3/lib/python3.9/site-packages (from skorch) (1.0.2)\r\n",
      "Requirement already satisfied: numpy>=1.13.3 in /Users/sola/opt/anaconda3/lib/python3.9/site-packages (from skorch) (1.21.5)\r\n",
      "Requirement already satisfied: tabulate>=0.7.7 in /Users/sola/opt/anaconda3/lib/python3.9/site-packages (from skorch) (0.8.10)\r\n",
      "Requirement already satisfied: joblib>=0.11 in /Users/sola/opt/anaconda3/lib/python3.9/site-packages (from scikit-learn>=0.22.0->skorch) (1.1.0)\r\n",
      "Requirement already satisfied: threadpoolctl>=2.0.0 in /Users/sola/opt/anaconda3/lib/python3.9/site-packages (from scikit-learn>=0.22.0->skorch) (2.2.0)\r\n",
      "Installing collected packages: skorch\r\n",
      "Successfully installed skorch-0.12.1\r\n"
     ]
    }
   ],
   "source": [
    "!pip install skorch"
   ]
  },
  {
   "cell_type": "code",
   "source": [
    "from sklearn.datasets import fetch_openml\n",
    "from sklearn.model_selection import train_test_split\n",
    "import numpy as np\n",
    "import matplotlib.pyplot as plt"
   ],
   "metadata": {
    "id": "KQJFzR_HaDeR"
   },
   "execution_count": 2,
   "outputs": []
  },
  {
   "cell_type": "code",
   "source": [
    "mnist = fetch_openml('mnist_784', as_frame=False, cache=False)"
   ],
   "metadata": {
    "id": "ILpBOtHAaYf-"
   },
   "execution_count": 3,
   "outputs": []
  },
  {
   "cell_type": "code",
   "source": [
    "mnist.data.shape"
   ],
   "metadata": {
    "id": "J_d5qqnyaZ3e",
    "outputId": "e9a74821-0cff-4a84-b422-adebb460a5c8",
    "colab": {
     "base_uri": "https://localhost:8080/"
    }
   },
   "execution_count": 4,
   "outputs": [
    {
     "data": {
      "text/plain": "(70000, 784)"
     },
     "execution_count": 4,
     "metadata": {},
     "output_type": "execute_result"
    }
   ]
  },
  {
   "cell_type": "markdown",
   "source": [
    "## Preprocessing Data\n",
    "\n",
    "Each image of the MNIST dataset is encoded in a 784 dimensional vector, representing a 28 x 28 pixel image. Each pixel has a value between 0 and 255, corresponding to the grey-value of a pixel.<br />\n",
    "The above ```featch_mldata``` method to load MNIST returns ```data``` and ```target``` as ```uint8``` which we convert to ```float32``` and ```int64``` respectively."
   ],
   "metadata": {
    "id": "WRagbDtracNQ"
   }
  },
  {
   "cell_type": "code",
   "source": [
    "X = mnist.data.astype('float32')\n",
    "y = mnist.target.astype('int64')"
   ],
   "metadata": {
    "id": "S2vas3MradZS"
   },
   "execution_count": 5,
   "outputs": []
  },
  {
   "cell_type": "markdown",
   "source": [
    "To avoid big weights that deal with the pixel values from between [0, 255], we scale `X` down. A commonly used range is [0, 1]."
   ],
   "metadata": {
    "id": "gDo4IkNJagPG"
   }
  },
  {
   "cell_type": "code",
   "source": [
    "X /= 255.0"
   ],
   "metadata": {
    "id": "6crscEPlah9M"
   },
   "execution_count": 6,
   "outputs": []
  },
  {
   "cell_type": "code",
   "source": [
    "X.min(), X.max()"
   ],
   "metadata": {
    "id": "3NalyDR2ajZW",
    "outputId": "fd5c9ec1-2a97-412e-a715-5b44e2d9d166",
    "colab": {
     "base_uri": "https://localhost:8080/"
    }
   },
   "execution_count": 7,
   "outputs": [
    {
     "data": {
      "text/plain": "(0.0, 1.0)"
     },
     "execution_count": 7,
     "metadata": {},
     "output_type": "execute_result"
    }
   ]
  },
  {
   "cell_type": "code",
   "source": [
    "X_train, X_test, y_train, y_test = train_test_split(X, y, test_size=0.25, random_state=42)"
   ],
   "metadata": {
    "id": "sWejds4IanLt"
   },
   "execution_count": 8,
   "outputs": []
  },
  {
   "cell_type": "code",
   "source": [
    "assert(X_train.shape[0] + X_test.shape[0] == mnist.data.shape[0])"
   ],
   "metadata": {
    "id": "F2V7Yx7zaoyF"
   },
   "execution_count": 9,
   "outputs": []
  },
  {
   "cell_type": "code",
   "source": [
    "X_train.shape, y_train.shape"
   ],
   "metadata": {
    "id": "qN-F8x5MaqLS"
   },
   "execution_count": 10,
   "outputs": [
    {
     "data": {
      "text/plain": "((52500, 784), (52500,))"
     },
     "execution_count": 10,
     "metadata": {},
     "output_type": "execute_result"
    }
   ]
  },
  {
   "cell_type": "markdown",
   "source": [
    "### Print a selection of training images and their labels"
   ],
   "metadata": {
    "id": "UyGDWyHgar6h"
   }
  },
  {
   "cell_type": "code",
   "source": [
    "def plot_example(X, y):\n",
    "    \"\"\"Plot the first 5 images and their labels in a row.\"\"\"\n",
    "    for i, (img, y) in enumerate(zip(X[:5].reshape(5, 28, 28), y[:5])):\n",
    "        plt.subplot(151 + i)\n",
    "        plt.imshow(img)\n",
    "        plt.xticks([])\n",
    "        plt.yticks([])\n",
    "        plt.title(y)"
   ],
   "metadata": {
    "id": "ysylu1C1auz9"
   },
   "execution_count": 11,
   "outputs": []
  },
  {
   "cell_type": "code",
   "source": [
    "plot_example(X_train, y_train)"
   ],
   "metadata": {
    "id": "fu7i3xL9av6L"
   },
   "execution_count": 12,
   "outputs": [
    {
     "data": {
      "text/plain": "<Figure size 640x480 with 5 Axes>",
      "image/png": "[encoded data removed]"
     },
     "metadata": {},
     "output_type": "display_data"
    }
   ]
  },
  {
   "cell_type": "markdown",
   "source": [
    "## Build Neural Network with PyTorch\n",
    "Simple, fully connected neural network with one hidden layer. Input layer has 784 dimensions (28x28), hidden layer has 98 (= 784 / 8) and output layer 10 neurons, representing digits 0 - 9."
   ],
   "metadata": {
    "id": "KR0k4inxaxoD"
   }
  },
  {
   "cell_type": "code",
   "execution_count": 14,
   "outputs": [
    {
     "name": "stdout",
     "output_type": "stream",
     "text": [
      "\u001B[2K     \u001B[90m━━━━━━━━━━━━━━━━━━━━━━━━━━━━━━━━━━━━━━\u001B[0m \u001B[32m137.9/137.9 MB\u001B[0m \u001B[31m20.9 MB/s\u001B[0m eta \u001B[36m0:00:00\u001B[0m00:01\u001B[0m00:01\u001B[0m\r\n",
      "\u001B[?25hRequirement already satisfied: typing-extensions in /Users/sola/opt/anaconda3/lib/python3.9/site-packages (from torch) (4.3.0)\r\n",
      "Installing collected packages: torch\r\n",
      "Successfully installed torch-1.13.0\r\n",
      "Requirement already satisfied: torch in /Users/sola/opt/anaconda3/lib/python3.9/site-packages (1.13.0)\r\n",
      "Requirement already satisfied: typing-extensions in /Users/sola/opt/anaconda3/lib/python3.9/site-packages (from torch) (4.3.0)\r\n"
     ]
    }
   ],
   "source": [
    "!pip install torch"
   ],
   "metadata": {
    "collapsed": false
   }
  },
  {
   "cell_type": "code",
   "source": [
    "import torch\n",
    "from torch import nn\n",
    "import torch.nn.functional as F"
   ],
   "metadata": {
    "id": "dxCBxX9ya0Up"
   },
   "execution_count": 22,
   "outputs": []
  },
  {
   "cell_type": "code",
   "source": [
    "device = 'cuda' if torch.cuda.is_available() else 'cpu'\n",
    "device"
   ],
   "metadata": {
    "id": "-SeKsW9Va1qN"
   },
   "execution_count": 23,
   "outputs": [
    {
     "data": {
      "text/plain": "'cpu'"
     },
     "execution_count": 23,
     "metadata": {},
     "output_type": "execute_result"
    }
   ]
  },
  {
   "cell_type": "code",
   "source": [
    "mnist_dim = X.shape[1]\n",
    "hidden_dim = int(mnist_dim/8)\n",
    "output_dim = len(np.unique(mnist.target))"
   ],
   "metadata": {
    "id": "lRchmLwLa2q5"
   },
   "execution_count": null,
   "outputs": []
  },
  {
   "cell_type": "code",
   "source": [
    "mnist_dim, hidden_dim, output_dim"
   ],
   "metadata": {
    "id": "72LJXw-Ma4BA"
   },
   "execution_count": null,
   "outputs": []
  },
  {
   "cell_type": "markdown",
   "source": [
    "A Neural network in PyTorch's framework."
   ],
   "metadata": {
    "id": "FQJxnmxCa54n"
   }
  },
  {
   "cell_type": "code",
   "source": [
    "class ClassifierModule(nn.Module):\n",
    "    def __init__(\n",
    "            self,\n",
    "            input_dim=mnist_dim,\n",
    "            hidden_dim=hidden_dim,\n",
    "            output_dim=output_dim,\n",
    "            dropout=0.5,\n",
    "    ):\n",
    "        super(ClassifierModule, self).__init__()\n",
    "        self.dropout = nn.Dropout(dropout)\n",
    "\n",
    "        self.hidden = nn.Linear(input_dim, hidden_dim)\n",
    "        self.output = nn.Linear(hidden_dim, output_dim)\n",
    "\n",
    "    def forward(self, X, **kwargs):\n",
    "        X = F.relu(self.hidden(X))\n",
    "        X = self.dropout(X)\n",
    "        X = F.softmax(self.output(X), dim=-1)\n",
    "        return X"
   ],
   "metadata": {
    "id": "vQru86L5a7Kt"
   },
   "execution_count": null,
   "outputs": []
  },
  {
   "cell_type": "markdown",
   "source": [
    "skorch allows to use PyTorch's networks in the SciKit-Learn setting:"
   ],
   "metadata": {
    "id": "XTOVHe_7a-s7"
   }
  },
  {
   "cell_type": "code",
   "source": [
    "from skorch import NeuralNetClassifier"
   ],
   "metadata": {
    "id": "KdyEDD-ebABp"
   },
   "execution_count": null,
   "outputs": []
  },
  {
   "cell_type": "code",
   "source": [
    "torch.manual_seed(0)\n",
    "\n",
    "net = NeuralNetClassifier(\n",
    "    ClassifierModule,\n",
    "    max_epochs=20,\n",
    "    lr=0.1,\n",
    "    device=device,\n",
    ")"
   ],
   "metadata": {
    "id": "mlGANjv4bBqs"
   },
   "execution_count": null,
   "outputs": []
  },
  {
   "cell_type": "code",
   "source": [
    "net.fit(X_train, y_train);"
   ],
   "metadata": {
    "id": "2UbnkQUGbDkw"
   },
   "execution_count": null,
   "outputs": []
  },
  {
   "cell_type": "markdown",
   "source": [
    "## Prediction"
   ],
   "metadata": {
    "id": "kX-eqPvSbFNM"
   }
  },
  {
   "cell_type": "code",
   "source": [
    "from sklearn.metrics import accuracy_score"
   ],
   "metadata": {
    "id": "mPWGK7VqbHoo"
   },
   "execution_count": null,
   "outputs": []
  },
  {
   "cell_type": "code",
   "source": [
    "y_pred = net.predict(X_test)"
   ],
   "metadata": {
    "id": "zAYM6ojcbIsM"
   },
   "execution_count": null,
   "outputs": []
  },
  {
   "cell_type": "code",
   "source": [
    "accuracy_score(y_test, y_pred)"
   ],
   "metadata": {
    "id": "GHsuVeNobKEo"
   },
   "execution_count": null,
   "outputs": []
  },
  {
   "cell_type": "markdown",
   "source": [
    "An accuracy of about 96% for a network with only one hidden layer is not too bad.\n",
    "\n",
    "Let's take a look at some predictions that went wrong:"
   ],
   "metadata": {
    "id": "LTkY1jr4bMQw"
   }
  },
  {
   "cell_type": "code",
   "source": [
    "error_mask = y_pred != y_test"
   ],
   "metadata": {
    "id": "vcRm6zCNbNiX"
   },
   "execution_count": null,
   "outputs": []
  },
  {
   "cell_type": "code",
   "source": [
    "plot_example(X_test[error_mask], y_pred[error_mask])"
   ],
   "metadata": {
    "id": "f5JLNrEvbPAg"
   },
   "execution_count": null,
   "outputs": []
  },
  {
   "cell_type": "markdown",
   "source": [
    "# Convolutional Network\n",
    "PyTorch expects a 4 dimensional tensor as input for its 2D convolution layer. The dimensions represent:\n",
    "* Batch size\n",
    "* Number of channel\n",
    "* Height\n",
    "* Width\n",
    "\n",
    "As initial batch size the number of examples needs to be provided. MNIST data has only one channel. As stated above, each MNIST vector represents a 28x28 pixel image. Hence, the resulting shape for PyTorch tensor needs to be (x, 1, 28, 28). "
   ],
   "metadata": {
    "id": "YHYFQfyNbQOC"
   }
  },
  {
   "cell_type": "code",
   "source": [
    "XCnn = X.reshape(-1, 1, 28, 28)"
   ],
   "metadata": {
    "id": "jFybYhWhbR9G"
   },
   "execution_count": null,
   "outputs": []
  },
  {
   "cell_type": "code",
   "source": [
    "XCnn.shape"
   ],
   "metadata": {
    "id": "ySTYLtyqbUOA"
   },
   "execution_count": null,
   "outputs": []
  },
  {
   "cell_type": "code",
   "source": [
    "XCnn_train, XCnn_test, y_train, y_test = train_test_split(XCnn, y, test_size=0.25, random_state=42)"
   ],
   "metadata": {
    "id": "HQLi_qPQbVn-"
   },
   "execution_count": null,
   "outputs": []
  },
  {
   "cell_type": "code",
   "source": [
    "XCnn_train.shape, y_train.shape"
   ],
   "metadata": {
    "id": "WxrceUyNbXLc"
   },
   "execution_count": null,
   "outputs": []
  },
  {
   "cell_type": "code",
   "source": [
    "class CNN(nn.Module):\n",
    "    def __init__(self, dropout=0.5):\n",
    "        super(CNN, self).__init__()\n",
    "        self.conv1 = nn.Conv2d(1, 32, kernel_size=3)\n",
    "        self.conv2 = nn.Conv2d(32, 64, kernel_size=3)\n",
    "        self.conv2_drop = nn.Dropout2d(p=dropout)\n",
    "        self.fc1 = nn.Linear(1600, 100) # 1600 = number channels * width * height\n",
    "        self.fc2 = nn.Linear(100, 10)\n",
    "        self.fc1_drop = nn.Dropout(p=dropout)\n",
    "\n",
    "    def forward(self, x):\n",
    "        x = torch.relu(F.max_pool2d(self.conv1(x), 2))\n",
    "        x = torch.relu(F.max_pool2d(self.conv2_drop(self.conv2(x)), 2))\n",
    "        \n",
    "        # flatten over channel, height and width = 1600\n",
    "        x = x.view(-1, x.size(1) * x.size(2) * x.size(3))\n",
    "        \n",
    "        x = torch.relu(self.fc1_drop(self.fc1(x)))\n",
    "        x = torch.softmax(self.fc2(x), dim=-1)\n",
    "        return x"
   ],
   "metadata": {
    "id": "C0yC_CEhbYTu"
   },
   "execution_count": null,
   "outputs": []
  },
  {
   "cell_type": "code",
   "source": [
    "torch.manual_seed(0)\n",
    "\n",
    "cnn = NeuralNetClassifier(\n",
    "    CNN,\n",
    "    max_epochs=10,\n",
    "    lr=0.002,\n",
    "    optimizer=torch.optim.Adam,\n",
    "    device=device,\n",
    ")"
   ],
   "metadata": {
    "id": "-C5BnX8qbbRa"
   },
   "execution_count": null,
   "outputs": []
  },
  {
   "cell_type": "code",
   "source": [
    "cnn.fit(XCnn_train, y_train);"
   ],
   "metadata": {
    "id": "HNMdzTzCbfN7"
   },
   "execution_count": null,
   "outputs": []
  },
  {
   "cell_type": "code",
   "source": [
    "y_pred_cnn = cnn.predict(XCnn_test)"
   ],
   "metadata": {
    "id": "NKQ1Q5GZbgoL"
   },
   "execution_count": null,
   "outputs": []
  },
  {
   "cell_type": "code",
   "source": [
    "accuracy_score(y_test, y_pred_cnn)"
   ],
   "metadata": {
    "id": "r2UqopsEbhpV"
   },
   "execution_count": null,
   "outputs": []
  },
  {
   "cell_type": "markdown",
   "source": [
    "An accuracy of >98% should suffice for this example!\n",
    "\n",
    "Let's see how we fare on the examples that went wrong before:"
   ],
   "metadata": {
    "id": "BuR2KiFNbnUF"
   }
  },
  {
   "cell_type": "code",
   "source": [
    "accuracy_score(y_test[error_mask], y_pred_cnn[error_mask])"
   ],
   "metadata": {
    "id": "hq3UJ0-pbi5K"
   },
   "execution_count": null,
   "outputs": []
  },
  {
   "cell_type": "markdown",
   "source": [
    "Over 70% of the previously misclassified images are now correctly identified."
   ],
   "metadata": {
    "id": "_dogvjIcbp-l"
   }
  },
  {
   "cell_type": "code",
   "source": [
    "plot_example(X_test[error_mask], y_pred_cnn[error_mask])"
   ],
   "metadata": {
    "id": "I2JjxN9abkuK"
   },
   "execution_count": null,
   "outputs": []
  }
 ]
}
