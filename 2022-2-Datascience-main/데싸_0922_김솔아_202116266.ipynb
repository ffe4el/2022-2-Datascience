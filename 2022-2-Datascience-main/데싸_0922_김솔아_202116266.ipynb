{
 "nbformat": 4,
 "nbformat_minor": 0,
 "metadata": {
  "colab": {
   "provenance": [],
   "collapsed_sections": [],
   "toc_visible": true
  },
  "kernelspec": {
   "name": "python3",
   "display_name": "Python 3"
  },
  "language_info": {
   "name": "python"
  }
 },
 "cells": [
  {
   "cell_type": "markdown",
   "source": [
    "# numpy를 이용한 선형대수\n",
    "\n",
    "* 원문: [데이터사이언스 스쿨](https://datascienceschool.net/02%20mathematics/02.01%20%EB%8D%B0%EC%9D%B4%ED%84%B0%EC%99%80%20%ED%96%89%EB%A0%AC.html)\n",
    "\n",
    "선형대수(linear algebra)는 데이터 분석에 필요한 각종 계산을 돕는 학문이다. 데이터 분석을 하려면 수많은 숫자로 이루어진 데이터를 다루어야 한다. 하나의 데이터가 수십 개에서 수만 개의 숫자로 이루어져 있을 수도 있고, 또 이러한 데이터 수만 개가 하나의 집합을 이루고 있을 수도 있다.\n",
    "\n",
    "선형대수를 사용하면 대량의 데이터를 포함하는 복잡한 계산 과정을 몇 글자 되지 않는 간단한 수식으로 서술할 수 있다. 따라서 데이터를 다루는 과정을 정확하고 간단하게 서술할 수 있다. 이를 위해 우선 선형대수에서 사용되는 여러 기호와 개념을 익혀보자."
   ],
   "metadata": {
    "id": "WqJdcyS53ZrV",
    "pycharm": {
     "name": "#%% md\n"
    }
   }
  },
  {
   "cell_type": "markdown",
   "source": [
    "## 데이터의 유형\n",
    "\n",
    "선형대수에서 다루는 데이터는 개수나 형태에 따라 크게 **스칼라(scalar), 벡터(vector), 행렬(matrix), 텐서(tensor)** 유형으로 나뉜다. 스칼라는 숫자 하나로 이루어진 데이터이고, 벡터는 여러 숫자로 이루어진 데이터 레코드(data record)이며, 행렬은 이러한 벡터, 즉 데이터 레코드가 여럿인 데이터 집합이라고 볼 수 있다. 텐서는 같은 크기의 행렬이 여러 개 있는 것이라고 생각하면 된다."
   ],
   "metadata": {
    "id": "N-QqYp9m4CH7",
    "pycharm": {
     "name": "#%% md\n"
    }
   }
  },
  {
   "cell_type": "code",
   "source": [
    "import numpy as np"
   ],
   "metadata": {
    "id": "aWDKyLls4Yuo",
    "pycharm": {
     "name": "#%%\n"
    }
   },
   "execution_count": 3,
   "outputs": []
  },
  {
   "cell_type": "code",
   "execution_count": 18,
   "metadata": {
    "colab": {
     "base_uri": "https://localhost:8080/"
    },
    "id": "ayTE5hB73UCt",
    "outputId": "6ff2df8c-7880-4798-f46d-3674c187f24f",
    "pycharm": {
     "name": "#%%\n"
    }
   },
   "outputs": [
    {
     "name": "stdout",
     "output_type": "stream",
     "text": [
      "[[5.1]\n",
      " [3.5]\n",
      " [1.4]\n",
      " [0.2]]\n",
      "(4, 1)\n"
     ]
    }
   ],
   "source": [
    "# 열 벡터\n",
    "x1 = np.array([[5.1], [3.5], [1.4], [0.2]])\n",
    "print(x1)\n",
    "print(x1.shape)\n"
   ]
  },
  {
   "cell_type": "code",
   "source": [
    "# 행 벡터\n",
    "x2 = np.array([5.1, 3.5, 1.4, 0.2])\n",
    "print(x2)\n",
    "\n",
    "print(x2.shape, \" <= 행벡터의 shape는 이런식으로 그냥 숫자로 나온다...?\")\n"
   ],
   "metadata": {
    "colab": {
     "base_uri": "https://localhost:8080/"
    },
    "id": "KCXha9lZ4NxQ",
    "outputId": "4c2e7421-c649-4d80-c6d5-1f3cc736e867",
    "pycharm": {
     "name": "#%%\n"
    }
   },
   "execution_count": 19,
   "outputs": [
    {
     "name": "stdout",
     "output_type": "stream",
     "text": [
      "[5.1 3.5 1.4 0.2]\n",
      "(4,)  <= 행벡터의 shape는 이런식으로 그냥 숫자로 나온다...?\n"
     ]
    }
   ]
  },
  {
   "cell_type": "code",
   "source": [
    "# 행렬\n",
    "A = np.array([[11,12,13],[21,22,23]])\n",
    "print(A)\n",
    "print(A.shape)"
   ],
   "metadata": {
    "colab": {
     "base_uri": "https://localhost:8080/"
    },
    "id": "u89L7fXo4fCx",
    "outputId": "a522d1df-b86f-4973-def6-5a06c1aecc9a",
    "pycharm": {
     "name": "#%%\n"
    }
   },
   "execution_count": 6,
   "outputs": [
    {
     "name": "stdout",
     "output_type": "stream",
     "text": [
      "[[11 12 13]\n",
      " [21 22 23]]\n",
      "(2, 3)\n"
     ]
    }
   ]
  },
  {
   "cell_type": "code",
   "source": [
    "# 전치행렬\n",
    "print(A.T)"
   ],
   "metadata": {
    "colab": {
     "base_uri": "https://localhost:8080/"
    },
    "id": "TU7loB-Q4x_d",
    "outputId": "831429d9-895e-4e46-cc73-a9ccf006c713",
    "pycharm": {
     "name": "#%%\n"
    }
   },
   "execution_count": 7,
   "outputs": [
    {
     "name": "stdout",
     "output_type": "stream",
     "text": [
      "[[11 21]\n",
      " [12 22]\n",
      " [13 23]]\n"
     ]
    }
   ]
  },
  {
   "cell_type": "code",
   "source": [
    "# 벡터의 전치는?\n",
    "print(\"x1= \\n\", x1) #열벡터\n",
    "print(x1.shape)\n",
    "print(\"x1의 전치 = \", x1.T)  #행벡터\n",
    "print(x1.T.shape)\n",
    "\n",
    "print(\"x2= \\n\", x2) #행벡터\n",
    "print(x2.shape)\n",
    "print(\"x2의 전치 = \", x2.T) # 열백터\n",
    "print(x2.T.shape)"
   ],
   "metadata": {
    "colab": {
     "base_uri": "https://localhost:8080/"
    },
    "id": "T891iCKf42dB",
    "outputId": "1106bb2b-6a3b-4609-a2f9-be8857a2943d",
    "pycharm": {
     "name": "#%%\n"
    }
   },
   "execution_count": 24,
   "outputs": [
    {
     "name": "stdout",
     "output_type": "stream",
     "text": [
      "x1= \n",
      " [[5.1]\n",
      " [3.5]\n",
      " [1.4]\n",
      " [0.2]]\n",
      "(4, 1)\n",
      "x1의 전치 =  [[5.1 3.5 1.4 0.2]]\n",
      "(1, 4)\n",
      "x2= \n",
      " [5.1 3.5 1.4 0.2]\n",
      "(4,)\n",
      "x2의 전치 =  [5.1 3.5 1.4 0.2]\n",
      "(4,)\n"
     ]
    }
   ]
  },
  {
   "cell_type": "code",
   "source": [
    "# 빈 행렬 만들기\n",
    "print(np.zeros((3, 1))) #하나의 숫자를 튜플(튜플은 괄호안에 들어가 있는 형태임)의 형태로 넣어주는것임"
   ],
   "metadata": {
    "colab": {
     "base_uri": "https://localhost:8080/"
    },
    "id": "A1fNNOIT5BWj",
    "outputId": "8fde0947-3a06-4fe5-8411-a5fff7cb0080",
    "pycharm": {
     "name": "#%%\n"
    }
   },
   "execution_count": 26,
   "outputs": [
    {
     "name": "stdout",
     "output_type": "stream",
     "text": [
      "[[0.]\n",
      " [0.]\n",
      " [0.]]\n"
     ]
    }
   ]
  },
  {
   "cell_type": "code",
   "source": [
    "# 일 벡터 만들기\n",
    "np.ones((3, 1)) #크기\n"
   ],
   "metadata": {
    "colab": {
     "base_uri": "https://localhost:8080/"
    },
    "id": "zHwl4ZpX5OZS",
    "outputId": "36204508-5f52-4b82-c034-c49dfc719337",
    "pycharm": {
     "name": "#%%\n"
    }
   },
   "execution_count": 27,
   "outputs": [
    {
     "data": {
      "text/plain": "array([[1.],\n       [1.],\n       [1.]])"
     },
     "execution_count": 27,
     "metadata": {},
     "output_type": "execute_result"
    }
   ]
  },
  {
   "cell_type": "code",
   "source": [
    "# 대각행렬 만들기(diag 이용)\n",
    "print(np.diag([1, 2, 3]))\n",
    "print(np.diag([2,2,2]))\n"
   ],
   "metadata": {
    "colab": {
     "base_uri": "https://localhost:8080/"
    },
    "id": "b_EZLngw5Rte",
    "outputId": "0901e76e-d7c4-42b6-e48a-757ee6273432",
    "pycharm": {
     "name": "#%%\n"
    }
   },
   "execution_count": 30,
   "outputs": [
    {
     "name": "stdout",
     "output_type": "stream",
     "text": [
      "[[1 0 0]\n",
      " [0 2 0]\n",
      " [0 0 3]]\n",
      "[[2 0 0]\n",
      " [0 2 0]\n",
      " [0 0 2]]\n"
     ]
    }
   ]
  },
  {
   "cell_type": "code",
   "source": [
    "# 항등행렬 만들기\n",
    "np.identity(4)\n"
   ],
   "metadata": {
    "colab": {
     "base_uri": "https://localhost:8080/"
    },
    "id": "OVX-Xnrg5V6G",
    "outputId": "e08bfdaf-a1b2-4bd5-c949-bd93e9d017cc",
    "pycharm": {
     "name": "#%%\n"
    }
   },
   "execution_count": 31,
   "outputs": [
    {
     "data": {
      "text/plain": "array([[1., 0., 0., 0.],\n       [0., 1., 0., 0.],\n       [0., 0., 1., 0.],\n       [0., 0., 0., 1.]])"
     },
     "execution_count": 31,
     "metadata": {},
     "output_type": "execute_result"
    }
   ]
  },
  {
   "cell_type": "markdown",
   "source": [
    "## 행렬의 연산"
   ],
   "metadata": {
    "id": "4aZ-hBxW5f5M",
    "pycharm": {
     "name": "#%% md\n"
    }
   }
  },
  {
   "cell_type": "code",
   "source": [
    "a=[10,11,12,13,14]\n",
    "b=[0,1,2,3,4]\n",
    "\n",
    "x = np.array([10, 11, 12, 13, 14])\n",
    "y = np.array([0, 1, 2, 3, 4])"
   ],
   "metadata": {
    "id": "9G3BPeih5iHi",
    "pycharm": {
     "name": "#%%\n"
    }
   },
   "execution_count": 33,
   "outputs": []
  },
  {
   "cell_type": "code",
   "source": [
    "x + y"
   ],
   "metadata": {
    "colab": {
     "base_uri": "https://localhost:8080/"
    },
    "id": "4uElJNkTrIEx",
    "outputId": "d561e5d3-88fe-4a1a-b2b9-947a1e42e4da",
    "pycharm": {
     "name": "#%%\n"
    }
   },
   "execution_count": 34,
   "outputs": [
    {
     "data": {
      "text/plain": "array([10, 12, 14, 16, 18])"
     },
     "execution_count": 34,
     "metadata": {},
     "output_type": "execute_result"
    }
   ]
  },
  {
   "cell_type": "code",
   "source": [
    "print(a+b) #리스트가 그저 합쳐짐..\n",
    "\n",
    "#리스트의 값들을 더해주려면 밑에 과정들을 거쳐야됨\n",
    "result=[]\n",
    "for i,h in zip(a,b):\n",
    "  result.append(i+h)\n",
    "print(result)\n"
   ],
   "metadata": {
    "id": "KFmp2hhY5lb0",
    "colab": {
     "base_uri": "https://localhost:8080/"
    },
    "outputId": "5a0ff288-a87d-4010-f16e-57999947850c",
    "pycharm": {
     "name": "#%%\n"
    }
   },
   "execution_count": 35,
   "outputs": [
    {
     "name": "stdout",
     "output_type": "stream",
     "text": [
      "[10, 11, 12, 13, 14, 0, 1, 2, 3, 4]\n",
      "[10, 12, 14, 16, 18]\n"
     ]
    }
   ]
  },
  {
   "cell_type": "code",
   "source": [
    "x - y\n"
   ],
   "metadata": {
    "id": "H8ATDyD85n3Z",
    "colab": {
     "base_uri": "https://localhost:8080/"
    },
    "outputId": "77fc4f26-7d1e-4dc5-dd35-a810174d6989",
    "pycharm": {
     "name": "#%%\n"
    }
   },
   "execution_count": 36,
   "outputs": [
    {
     "data": {
      "text/plain": "array([10, 10, 10, 10, 10])"
     },
     "execution_count": 36,
     "metadata": {},
     "output_type": "execute_result"
    }
   ]
  },
  {
   "cell_type": "markdown",
   "source": [
    "\\begin{split}\n",
    "\\begin{align}\n",
    "\\begin{bmatrix}\n",
    "5 & 6 \\\\\n",
    "7 & 8\n",
    "\\end{bmatrix}\n",
    "+\n",
    "\\begin{bmatrix}\n",
    "10 & 20 \\\\\n",
    "30 & 40 \\\\\n",
    "\\end{bmatrix}\n",
    "-\n",
    "\\begin{bmatrix}\n",
    "1 & 2 \\\\\n",
    "3 & 4\n",
    "\\end{bmatrix}\n",
    "=\n",
    "\\begin{bmatrix}\n",
    "14 & 24 \\\\\n",
    "34 & 44\n",
    "\\end{bmatrix}\n",
    "\\end{align}\n",
    "\\end{split}"
   ],
   "metadata": {
    "id": "c5ljTJ2W53EL",
    "pycharm": {
     "name": "#%% md\n"
    }
   }
  },
  {
   "cell_type": "code",
   "source": [
    "np.array([[5, 6], [7, 8]]) + np.array([[10, 20], [30, 40]]) - np.array([[1, 2], [3, 4]])"
   ],
   "metadata": {
    "colab": {
     "base_uri": "https://localhost:8080/"
    },
    "id": "x2Q4TbPC54-h",
    "outputId": "ac5b5112-4f5b-419b-95ee-ce4d94cfb1f5",
    "pycharm": {
     "name": "#%%\n"
    }
   },
   "execution_count": 37,
   "outputs": [
    {
     "data": {
      "text/plain": "array([[14, 24],\n       [34, 44]])"
     },
     "execution_count": 37,
     "metadata": {},
     "output_type": "execute_result"
    }
   ]
  },
  {
   "cell_type": "markdown",
   "source": [
    "\\begin{split}\n",
    "\\begin{align}\n",
    "c\n",
    "\\begin{bmatrix}\n",
    "x_1 \\\\\n",
    "x_2\n",
    "\\end{bmatrix}\n",
    "=\n",
    "\\begin{bmatrix}\n",
    "cx_1 \\\\\n",
    "cx_2\n",
    "\\end{bmatrix}\n",
    "\\end{align}\n",
    "\\end{split}\n",
    "\\begin{split}\n",
    "\\begin{align}\n",
    "c\n",
    "\\begin{bmatrix}\n",
    "a_{11} & a_{12} \\\\\n",
    "a_{21} & a_{22}\n",
    "\\end{bmatrix}\n",
    "=\n",
    "\\begin{bmatrix}\n",
    "ca_{11} & ca_{12} \\\\\n",
    "ca_{21} & ca_{22}\n",
    "\\end{bmatrix}\n",
    "\\end{align}\n",
    "\\end{split}"
   ],
   "metadata": {
    "id": "sdpIEDTW6C6X",
    "pycharm": {
     "name": "#%% md\n"
    }
   }
  },
  {
   "cell_type": "markdown",
   "source": [
    "\\begin{split}\n",
    "\\begin{align}\n",
    "\\begin{bmatrix}\n",
    "10 \\\\\n",
    "11 \\\\\n",
    "12 \\\\\n",
    "\\end{bmatrix}\n",
    "- 10\n",
    "=\n",
    "\\begin{bmatrix}\n",
    "10 \\\\\n",
    "11 \\\\\n",
    "12 \\\\\n",
    "\\end{bmatrix}\n",
    "- 10\\cdot \\mathbf{1}\n",
    "=\n",
    "\\begin{bmatrix}\n",
    "10 \\\\\n",
    "11 \\\\\n",
    "12 \\\\\n",
    "\\end{bmatrix}\n",
    "-\n",
    "\\begin{bmatrix}\n",
    "10 \\\\\n",
    "10 \\\\\n",
    "10 \\\\\n",
    "\\end{bmatrix}\n",
    "\\end{align}\n",
    "\\end{split}"
   ],
   "metadata": {
    "id": "HoYEIp9-6L7p",
    "pycharm": {
     "name": "#%% md\n"
    }
   }
  },
  {
   "cell_type": "code",
   "source": [
    "c = 5\n",
    "c * np.array([2, 5])"
   ],
   "metadata": {
    "colab": {
     "base_uri": "https://localhost:8080/"
    },
    "id": "UWKROgXu6V8O",
    "outputId": "e72bd184-8073-4df1-a401-9614b9bb4b0f",
    "pycharm": {
     "name": "#%%\n"
    }
   },
   "execution_count": 38,
   "outputs": [
    {
     "data": {
      "text/plain": "array([10, 25])"
     },
     "execution_count": 38,
     "metadata": {},
     "output_type": "execute_result"
    }
   ]
  },
  {
   "cell_type": "code",
   "source": [
    "np.array([[10, 11, 12]]) - 10\n"
   ],
   "metadata": {
    "colab": {
     "base_uri": "https://localhost:8080/"
    },
    "id": "u5FASwgQ6EVh",
    "outputId": "f37486df-e8ad-44aa-97b4-cb7418e2fed7",
    "pycharm": {
     "name": "#%%\n"
    }
   },
   "execution_count": 39,
   "outputs": [
    {
     "data": {
      "text/plain": "array([[0, 1, 2]])"
     },
     "execution_count": 39,
     "metadata": {},
     "output_type": "execute_result"
    }
   ]
  },
  {
   "cell_type": "markdown",
   "source": [
    "## 선형조합\n",
    "벡터/행렬에 다음처럼 스칼라값을 곱한 후 더하거나 뺀 것을 벡터/행렬의 **선형조합(linear combination)**이라고 한다. 벡터나 행렬을 선형조합해도 크기는 변하지 않는다."
   ],
   "metadata": {
    "id": "E3F4dWkD6hLM",
    "pycharm": {
     "name": "#%% md\n"
    }
   }
  },
  {
   "cell_type": "code",
   "source": [
    "# 두 벡터의 곱\n",
    "x = np.array([[1], [2], [3]]) #열벡터\n",
    "y = np.array([[4], [5], [6]]) #열벡터\n",
    "print(x.T) # 행벡터\n",
    "\n",
    "x.T @ y  # 또는 np.dot(x.T, y)  => 행벡터 @내적 열벡터\n",
    "# 1*4 + 2*5 + 3*6 = 32"
   ],
   "metadata": {
    "colab": {
     "base_uri": "https://localhost:8080/"
    },
    "id": "TMNXqM336TER",
    "outputId": "a7ee2536-068a-455c-ee9b-e53b7b83a616",
    "pycharm": {
     "name": "#%%\n"
    }
   },
   "execution_count": 42,
   "outputs": [
    {
     "name": "stdout",
     "output_type": "stream",
     "text": [
      "[[1 2 3]]\n"
     ]
    },
    {
     "data": {
      "text/plain": "array([[32]])"
     },
     "execution_count": 42,
     "metadata": {},
     "output_type": "execute_result"
    }
   ]
  },
  {
   "cell_type": "code",
   "source": [
    " # 두 행렬의 곱\n",
    "x = np.array([1, 2, 3])\n",
    "y = np.array([4, 5, 6])\n",
    "\n",
    "# 행 곱하기 행\n",
    "x @ y  # 또는 np.dot(x, y)"
   ],
   "metadata": {
    "colab": {
     "base_uri": "https://localhost:8080/"
    },
    "id": "piYQwMFO63nH",
    "outputId": "f024cdfd-5a87-4763-cd5e-4d2b4d8b5bd4",
    "pycharm": {
     "name": "#%%\n"
    }
   },
   "execution_count": 43,
   "outputs": [
    {
     "data": {
      "text/plain": "32"
     },
     "execution_count": 43,
     "metadata": {},
     "output_type": "execute_result"
    }
   ]
  },
  {
   "cell_type": "markdown",
   "source": [
    "벡터의 내적은 가중합을 계산할 때 쓰일 수 있다. **가중합(weighted sum)**이란 복수의 데이터를 단순히 합하는 것이 아니라 각각의 수에 어떤 가중치 값을 곱한 후 이 곱셈 결과들을 다시 합한 것을 말한다."
   ],
   "metadata": {
    "id": "jJoiwstR7EIQ",
    "pycharm": {
     "name": "#%% md\n"
    }
   }
  },
  {
   "cell_type": "markdown",
   "source": [
    "\\begin{align}\n",
    "w_1 x_1 + \\cdots + w_N x_N = \\sum_{i=1}^N w_i x_i \n",
    "\\end{align}\n",
    "\n",
    "\n",
    "\\begin{split} \n",
    "\\begin{align}\n",
    "\\begin{aligned}\n",
    "\\sum_{i=1}^N w_i x_i \n",
    "&= \n",
    "\\begin{bmatrix}\n",
    "w_{1} && w_{2} && \\cdots && w_{N}\n",
    "\\end{bmatrix}\n",
    "\\begin{bmatrix}\n",
    "x_1 \\\\ x_2 \\\\ \\vdots \\\\ x_N\n",
    "\\end{bmatrix} \n",
    "&= w^Tx  \n",
    "\\\\\n",
    "&=\n",
    "\\begin{bmatrix}\n",
    "x_{1} && x_{2} && \\cdots && x_{N}\n",
    "\\end{bmatrix}\n",
    "\\begin{bmatrix}\n",
    "w_1 \\\\ w_2 \\\\ \\vdots \\\\ w_N\n",
    "\\end{bmatrix}\n",
    "&= x^Tw  \n",
    "\\end{aligned}\n",
    "\\end{align}\n",
    "\\end{split}"
   ],
   "metadata": {
    "id": "PFS4OzGo7JXi",
    "pycharm": {
     "name": "#%% md\n"
    }
   }
  },
  {
   "cell_type": "code",
   "source": [
    "# 평균 계산\n",
    "a = np.arange(10)\n",
    "print(\"a=\", a)\n",
    "N = len(a)\n",
    "print(np.ones(N))\n",
    "print(np.ones(N)@a)  # 가중합 계산\n",
    "np.ones(N) @ a / N"
   ],
   "metadata": {
    "colab": {
     "base_uri": "https://localhost:8080/"
    },
    "id": "UwVAbkRY65hf",
    "outputId": "5b1bfb47-94d3-4f47-8de7-71670f822f2b",
    "pycharm": {
     "name": "#%%\n"
    }
   },
   "execution_count": 45,
   "outputs": [
    {
     "name": "stdout",
     "output_type": "stream",
     "text": [
      "a= [0 1 2 3 4 5 6 7 8 9]\n",
      "[1. 1. 1. 1. 1. 1. 1. 1. 1. 1.]\n",
      "45.0\n"
     ]
    },
    {
     "data": {
      "text/plain": "4.5"
     },
     "execution_count": 45,
     "metadata": {},
     "output_type": "execute_result"
    }
   ]
  },
  {
   "cell_type": "code",
   "source": [
    "a.mean()"
   ],
   "metadata": {
    "colab": {
     "base_uri": "https://localhost:8080/"
    },
    "id": "kYDp04lS7hnE",
    "outputId": "b83d2ca9-72a9-4a4a-d55e-736f1141da3b",
    "pycharm": {
     "name": "#%%\n"
    }
   },
   "execution_count": 47,
   "outputs": [
    {
     "data": {
      "text/plain": "4.5"
     },
     "execution_count": 47,
     "metadata": {},
     "output_type": "execute_result"
    }
   ]
  },
  {
   "cell_type": "markdown",
   "source": [
    "\\begin{split}\n",
    "\\begin{align}\n",
    "x^T x = \n",
    "\\begin{bmatrix}\n",
    "x_{1} & x_{2} & \\cdots & x_{N} \n",
    "\\end{bmatrix}\n",
    "\\begin{bmatrix}\n",
    "x_{1} \\\\\n",
    "x_{2} \\\\\n",
    "\\vdots \\\\\n",
    "x_{N} \\\\\n",
    "\\end{bmatrix} = \\sum_{i=1}^{N} x_i^2\n",
    "\\end{align}\n",
    "\\end{split}"
   ],
   "metadata": {
    "id": "bkpw1cll7zmO",
    "pycharm": {
     "name": "#%% md\n"
    }
   }
  },
  {
   "cell_type": "markdown",
   "source": [
    "\\begin{split}\n",
    "\\begin{align}\n",
    "A = \\begin{bmatrix} 1 & 2 & 3 \\\\ 4 & 5 & 6 \\end{bmatrix}\n",
    "\\tag{2.2.42}\n",
    "\\end{align}\n",
    "\\end{split}\n",
    "\\begin{split}\n",
    "\\begin{align}\n",
    "B = \\begin{bmatrix} 1 & 2 \\\\ 3 & 4 \\\\ 5 & 6 \\end{bmatrix}\n",
    "\\tag{2.2.43}\n",
    "\\end{align}\n",
    "\\end{split}\n",
    "\\begin{split}\n",
    "\\begin{align}\n",
    "C = AB = \\begin{bmatrix} 22 & 28 \\\\ 49 & 64 \\end{bmatrix}\n",
    "\\end{align}\n",
    "\\end{split}"
   ],
   "metadata": {
    "id": "wOBGMqkH8GM0",
    "pycharm": {
     "name": "#%% md\n"
    }
   }
  },
  {
   "cell_type": "code",
   "source": [
    "A = np.array([[1, 2, 3], [4, 5, 6]]) # 2x3 행렬\n",
    "B = np.array([[1, 2], [3, 4], [5, 6]]) #3x2 행렬\n",
    "C = A @ B\n",
    "C # 2x2 행렬"
   ],
   "metadata": {
    "colab": {
     "base_uri": "https://localhost:8080/"
    },
    "id": "IuuPKZ5y79G1",
    "outputId": "36e51682-9624-4168-e35c-11c246db6136",
    "pycharm": {
     "name": "#%%\n"
    }
   },
   "execution_count": 50,
   "outputs": [
    {
     "data": {
      "text/plain": "array([[22, 28],\n       [49, 64]])"
     },
     "execution_count": 50,
     "metadata": {},
     "output_type": "execute_result"
    }
   ]
  },
  {
   "cell_type": "markdown",
   "source": [
    "Q. 순서를 바꾸어 BA를 손으로 계산하고 넘파이의 계산 결과와 맞는지 확인한다. BA가 AB와 같은가?"
   ],
   "metadata": {
    "id": "_-HLp1mkpSaK",
    "pycharm": {
     "name": "#%% md\n"
    }
   }
  },
  {
   "cell_type": "code",
   "source": [
    "C = B @ A\n",
    "C # 3x3 행렬"
   ],
   "metadata": {
    "id": "Odgh4yl3pg-L",
    "colab": {
     "base_uri": "https://localhost:8080/"
    },
    "outputId": "501c4167-50cb-4e16-eeff-b92b30b0ad61",
    "pycharm": {
     "name": "#%%\n"
    }
   },
   "execution_count": 51,
   "outputs": [
    {
     "data": {
      "text/plain": "array([[ 9, 12, 15],\n       [19, 26, 33],\n       [29, 40, 51]])"
     },
     "execution_count": 51,
     "metadata": {},
     "output_type": "execute_result"
    }
   ]
  },
  {
   "cell_type": "markdown",
   "source": [
    "## 교환법칙과 분배법칙\n",
    "\\begin{align}\n",
    "AB \\neq BA  \n",
    "\\end{align}\n",
    "\\begin{align}\n",
    "A(B + C) = AB + AC  \n",
    "\\end{align}\n",
    "\\begin{align}\n",
    "(A + B)C = AC + BC  \n",
    "\\end{align}"
   ],
   "metadata": {
    "id": "dxLHSE4IphbX",
    "pycharm": {
     "name": "#%% md\n"
    }
   }
  },
  {
   "cell_type": "code",
   "source": [
    "A = np.array([[1, 2], [3, 4]])\n",
    "B = np.array([[5, 6], [7, 8]])\n",
    "C = np.array([[9, 8], [7, 6]])"
   ],
   "metadata": {
    "id": "-VZWJoUdptTG",
    "pycharm": {
     "name": "#%%\n"
    }
   },
   "execution_count": 52,
   "outputs": []
  },
  {
   "cell_type": "markdown",
   "source": [
    "### 교환법칙\n",
    "교환법칙은 벡터의 연산에서 해당되지 않는다."
   ],
   "metadata": {
    "id": "nrXa_RbuqRK2",
    "pycharm": {
     "name": "#%% md\n"
    }
   }
  },
  {
   "cell_type": "code",
   "source": [
    "A @ B"
   ],
   "metadata": {
    "colab": {
     "base_uri": "https://localhost:8080/"
    },
    "id": "-x49MoBSqLAT",
    "outputId": "0d2f0007-b6c7-4d4f-afc2-921ae821844d",
    "pycharm": {
     "name": "#%%\n"
    }
   },
   "execution_count": 53,
   "outputs": [
    {
     "data": {
      "text/plain": "array([[19, 22],\n       [43, 50]])"
     },
     "execution_count": 53,
     "metadata": {},
     "output_type": "execute_result"
    }
   ]
  },
  {
   "cell_type": "code",
   "source": [
    "B @ A"
   ],
   "metadata": {
    "colab": {
     "base_uri": "https://localhost:8080/"
    },
    "id": "be_H2HooqMgz",
    "outputId": "61f96be0-c169-4157-e0ec-df17e181d12e",
    "pycharm": {
     "name": "#%%\n"
    }
   },
   "execution_count": 54,
   "outputs": [
    {
     "data": {
      "text/plain": "array([[23, 34],\n       [31, 46]])"
     },
     "execution_count": 54,
     "metadata": {},
     "output_type": "execute_result"
    }
   ]
  },
  {
   "cell_type": "markdown",
   "source": [
    "### 분배법칙은 다음 두 식이 같다."
   ],
   "metadata": {
    "id": "vgVmKc88pyL4",
    "pycharm": {
     "name": "#%% md\n"
    }
   }
  },
  {
   "cell_type": "code",
   "source": [
    "A @ (B + C)"
   ],
   "metadata": {
    "colab": {
     "base_uri": "https://localhost:8080/"
    },
    "id": "ENHzqXNFp0b_",
    "outputId": "bb452edb-63fe-4f1e-cb74-a14027fc9bab",
    "pycharm": {
     "name": "#%%\n"
    }
   },
   "execution_count": 55,
   "outputs": [
    {
     "data": {
      "text/plain": "array([[42, 42],\n       [98, 98]])"
     },
     "execution_count": 55,
     "metadata": {},
     "output_type": "execute_result"
    }
   ]
  },
  {
   "cell_type": "code",
   "source": [
    "A @ B + A @ C"
   ],
   "metadata": {
    "colab": {
     "base_uri": "https://localhost:8080/"
    },
    "id": "UJj3oPnmp1WM",
    "outputId": "e436f278-7ccf-479b-9aa1-2ba8b0fe3486",
    "pycharm": {
     "name": "#%%\n"
    }
   },
   "execution_count": 56,
   "outputs": [
    {
     "data": {
      "text/plain": "array([[42, 42],\n       [98, 98]])"
     },
     "execution_count": 56,
     "metadata": {},
     "output_type": "execute_result"
    }
   ]
  },
  {
   "cell_type": "code",
   "source": [
    "(A + B) @ C"
   ],
   "metadata": {
    "colab": {
     "base_uri": "https://localhost:8080/"
    },
    "id": "yAMWzI4wp7WB",
    "outputId": "e963534f-858a-4320-856a-36282011125b",
    "pycharm": {
     "name": "#%%\n"
    }
   },
   "execution_count": 57,
   "outputs": [
    {
     "data": {
      "text/plain": "array([[110,  96],\n       [174, 152]])"
     },
     "execution_count": 57,
     "metadata": {},
     "output_type": "execute_result"
    }
   ]
  },
  {
   "cell_type": "code",
   "source": [
    "A @ C + B @ C"
   ],
   "metadata": {
    "colab": {
     "base_uri": "https://localhost:8080/"
    },
    "id": "nrtGsHUap9Ao",
    "outputId": "7676e62f-1dc2-4e1a-e5da-88d8a5a6182a",
    "pycharm": {
     "name": "#%%\n"
    }
   },
   "execution_count": 58,
   "outputs": [
    {
     "data": {
      "text/plain": "array([[110,  96],\n       [174, 152]])"
     },
     "execution_count": 58,
     "metadata": {},
     "output_type": "execute_result"
    }
   ]
  },
  {
   "cell_type": "code",
   "source": [
    "(A @ B).T"
   ],
   "metadata": {
    "colab": {
     "base_uri": "https://localhost:8080/"
    },
    "id": "2IzIoPcYqFRx",
    "outputId": "86fac6cb-3d3f-4b77-e65e-5a1a5ebeb52e",
    "pycharm": {
     "name": "#%%\n"
    }
   },
   "execution_count": 59,
   "outputs": [
    {
     "data": {
      "text/plain": "array([[19, 43],\n       [22, 50]])"
     },
     "execution_count": 59,
     "metadata": {},
     "output_type": "execute_result"
    }
   ]
  },
  {
   "cell_type": "code",
   "source": [
    "B.T @ A.T #전치를 할 때는 서로 A와 B의 순서가 바뀐다!!!!!!!!"
   ],
   "metadata": {
    "colab": {
     "base_uri": "https://localhost:8080/"
    },
    "id": "nvsmuPA9qGCt",
    "outputId": "5c795c9b-0d76-49eb-ebec-f2855346f418",
    "pycharm": {
     "name": "#%%\n"
    }
   },
   "execution_count": 60,
   "outputs": [
    {
     "data": {
      "text/plain": "array([[19, 43],\n       [22, 50]])"
     },
     "execution_count": 60,
     "metadata": {},
     "output_type": "execute_result"
    }
   ]
  },
  {
   "cell_type": "markdown",
   "source": [
    "# 행렬의 역행렬"
   ],
   "metadata": {
    "id": "zOPnSp4mqsM_",
    "pycharm": {
     "name": "#%% md\n"
    }
   }
  },
  {
   "cell_type": "code",
   "source": [
    "A = np.array([[1, 1, 0], [0, 1, 1], [1, 1, 1]])\n"
   ],
   "metadata": {
    "id": "x7S2KTzOrDIx",
    "pycharm": {
     "name": "#%%\n"
    }
   },
   "execution_count": 63,
   "outputs": []
  },
  {
   "cell_type": "code",
   "source": [
    "Ainv = np.linalg.inv(A) #리니어알제브라=>선형대수를 영어로 한것, inv는 역행렬을 나오게 만듬\n",
    "print(A)\n",
    "print(Ainv)"
   ],
   "metadata": {
    "colab": {
     "base_uri": "https://localhost:8080/"
    },
    "id": "-9X13beIrGqA",
    "outputId": "ed587003-6680-4edc-b5be-4b6cc7903f9f",
    "pycharm": {
     "name": "#%%\n"
    }
   },
   "execution_count": 65,
   "outputs": [
    {
     "name": "stdout",
     "output_type": "stream",
     "text": [
      "[[1 1 0]\n",
      " [0 1 1]\n",
      " [1 1 1]]\n",
      "[[ 0. -1.  1.]\n",
      " [ 1.  1. -1.]\n",
      " [-1.  0.  1.]]\n"
     ]
    }
   ]
  },
  {
   "cell_type": "code",
   "source": [
    "A@Ainv #원래 행렬과 역행렬을 곱하면 항등행렬이 나온다."
   ],
   "metadata": {
    "colab": {
     "base_uri": "https://localhost:8080/"
    },
    "id": "qrzI3e3GvFP3",
    "outputId": "cb7086ab-be18-4474-c810-967addeae93e",
    "pycharm": {
     "name": "#%%\n"
    }
   },
   "execution_count": 66,
   "outputs": [
    {
     "data": {
      "text/plain": "array([[1., 0., 0.],\n       [0., 1., 0.],\n       [0., 0., 1.]])"
     },
     "execution_count": 66,
     "metadata": {},
     "output_type": "execute_result"
    }
   ]
  }
 ]
}