{
 "nbformat": 4,
 "nbformat_minor": 0,
 "metadata": {
  "colab": {
   "provenance": [],
   "authorship_tag": "ABX9TyOmNQBL9rGJ1Yd0gJsceggu"
  },
  "kernelspec": {
   "name": "python3",
   "display_name": "Python 3"
  },
  "language_info": {
   "name": "python"
  }
 },
 "cells": [
  {
   "cell_type": "code",
   "execution_count": 1,
   "metadata": {
    "id": "Zpw8NzhEOanU"
   },
   "outputs": [],
   "source": [
    "import numpy as np\n",
    "import pandas as pd\n",
    "import matplotlib.pyplot as plt\n"
   ]
  },
  {
   "cell_type": "code",
   "source": [
    "## loading IRIS dataset\n",
    "from sklearn.datasets import load_iris\n",
    "data = load_iris()"
   ],
   "metadata": {
    "id": "vj5mx7ISOhr5"
   },
   "execution_count": null,
   "outputs": []
  },
  {
   "cell_type": "code",
   "source": [
    "data"
   ],
   "metadata": {
    "id": "swO0ZaaPOoQ1"
   },
   "execution_count": null,
   "outputs": []
  },
  {
   "cell_type": "code",
   "source": [
    "data[\"data\"]"
   ],
   "metadata": {
    "id": "5ySDCF36OxI-"
   },
   "execution_count": null,
   "outputs": []
  },
  {
   "cell_type": "code",
   "source": [
    "data[\"feature_names\"]"
   ],
   "metadata": {
    "id": "NrhqHkhhOzLo"
   },
   "execution_count": null,
   "outputs": []
  },
  {
   "cell_type": "code",
   "source": [
    "iris_df = pd.DataFrame(\n",
    "    data['data'], \n",
    "    columns=['sepal_length', 'sepal_width', \n",
    "             'petal_length', 'petal_width'])"
   ],
   "metadata": {
    "id": "IuDPMO8aOmT6"
   },
   "execution_count": null,
   "outputs": []
  },
  {
   "cell_type": "code",
   "source": [
    "from sklearn import preprocessing\n",
    "\n",
    "std_scale = preprocessing.StandardScaler()\n",
    "X_std = std_scale.fit_transform(data['data'])"
   ],
   "metadata": {
    "id": "MyKvlnaOPWcB"
   },
   "execution_count": null,
   "outputs": []
  },
  {
   "cell_type": "code",
   "source": [
    "iris_df = pd.DataFrame(\n",
    "    X_std, \n",
    "    columns=['sepal_length', 'sepal_width', \n",
    "             'petal_length', 'petal_width'])"
   ],
   "metadata": {
    "id": "CbP_JxkuSJvt"
   },
   "execution_count": null,
   "outputs": []
  },
  {
   "cell_type": "code",
   "source": [
    "from sklearn.decomposition import PCA\n",
    "from matplotlib.ticker import MaxNLocator\n",
    "\n",
    "pca = PCA(random_state=1004)\n",
    "pca.fit_transform(iris_df)\n",
    "\n",
    "## percentage of variance explained\n",
    "print(pca.explained_variance_ratio_)\n",
    "# [0.92461872 0.05306648 0.01710261 0.00521218] w/o Scaler\n",
    "# [0.72962445 0.22850762 0.03668922 0.00517871] w/  StandardScaler\n",
    "\n",
    "## Principal 1 & 2 explain about 97.8% of variance\n",
    "plt.rcParams['figure.figsize'] = (7, 7)\n",
    "ax = plt.figure().gca()\n",
    "ax.xaxis.set_major_locator(MaxNLocator(integer=True))\n",
    "plt.bar(range(1, iris_df.shape[1]+1), pca.explained_variance_ratio_)\n",
    "plt.xlabel(\"number of Principal Components\", fontsize=12)\n",
    "plt.ylabel(\"% of Variance Explained\", fontsize=12)\n",
    "plt.show()"
   ],
   "metadata": {
    "id": "6OHs8pVuO9vm"
   },
   "execution_count": null,
   "outputs": []
  },
  {
   "cell_type": "code",
   "source": [
    "# 공분산 행렬 구성, 고유값, 고유벡터 구하기\n",
    "import numpy as np\n",
    "\n",
    "cov_mat = np.cov(X_std.T)\n",
    "eigenvalues, eigenvectors = np.linalg.eig(cov_mat)\n",
    "\n",
    "np.sort(eigenvalues)[::-1]\n",
    "\n",
    "print(\"val: \", eigenvalues)\n",
    "print(\"vec: \", eigenvectors)"
   ],
   "metadata": {
    "id": "r3Vaxv0hPxEi"
   },
   "execution_count": null,
   "outputs": []
  },
  {
   "cell_type": "code",
   "source": [
    "sums = np.sum(eigenvalues)\n",
    "explained_variances = [x/sums for x in eigenvalues]\n",
    "\n",
    "print(explained_variances)"
   ],
   "metadata": {
    "id": "T7fiKZhMQoui"
   },
   "execution_count": null,
   "outputs": []
  },
  {
   "cell_type": "code",
   "source": [
    "## 주성분 2개로 차원축소\n",
    "pca = PCA(n_components=2, random_state=42)\n",
    "iris_pca = pca.fit_transform(iris_df)\n",
    "iris_pca[:10]"
   ],
   "metadata": {
    "id": "htPZV627RB4s"
   },
   "execution_count": null,
   "outputs": []
  },
  {
   "cell_type": "code",
   "source": [
    "species_map_dict = {\n",
    "    0: 'setosa', \n",
    "    1: 'versicolor', \n",
    "    2: 'virginica'\n",
    "}\n",
    "\n",
    "iris_pca_df = pd.DataFrame({\n",
    "    'pc_1': iris_pca[:, 0], \n",
    "    'pc_2': iris_pca[:, 1], \n",
    "    'species': np.vectorize(species_map_dict.get)(data['target']) # numpy broadcasting\n",
    "})"
   ],
   "metadata": {
    "id": "K-UPDhXkRMrM"
   },
   "execution_count": null,
   "outputs": []
  },
  {
   "cell_type": "code",
   "source": [
    "import seaborn as sns\n",
    "import matplotlib.pyplot as plt\n",
    "\n",
    "plt.rcParams['figure.figsize'] = (7, 7)\n",
    "sns.scatterplot(\n",
    "    x='pc_1', \n",
    "    y='pc_2',\n",
    "    hue='species', \n",
    "    style='species',\n",
    "    s=100,\n",
    "    data=iris_pca_df\n",
    ")\n",
    "\n",
    "plt.title('PCA result of IRIS dataset')\n",
    "plt.xlabel('Principal Component 1', fontsize=14)\n",
    "plt.ylabel('Principal Component 2', fontsize=14)\n",
    "plt.show()"
   ],
   "metadata": {
    "id": "zY46rHPnROEB"
   },
   "execution_count": null,
   "outputs": []
  }
 ]
}
