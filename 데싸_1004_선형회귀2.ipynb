{
  "nbformat": 4,
  "nbformat_minor": 0,
  "metadata": {
    "colab": {
      "provenance": [],
      "collapsed_sections": [],
      "toc_visible": true
    },
    "kernelspec": {
      "name": "python3",
      "display_name": "Python 3"
    },
    "language_info": {
      "name": "python"
    }
  },
  "cells": [
    {
      "cell_type": "markdown",
      "metadata": {
        "id": "1Oz2EjgaJoYN"
      },
      "source": [
        "# 사이킷런과 선형회귀\n",
        "\n",
        "원자료\n",
        "---\n",
        "* 출판사 : 생능 출판사( http://www.booksr.co.kr/ )\n",
        "* 저자 : 박동규, 강영민\n",
        "* 책의 소스코드 저장소 : https://github.com/dongupak/DataML\n",
        "* 안내 : 이 노트북은 책의 코드를 담고 있습니다.\n",
        "* 저작권 : 본 주피터 노트북 코드는 자유롭게 배포가능하지만 위의 출판사, 저서, 저자표기와 함께 배포해 주십시오.\n",
        "---"
      ]
    },
    {
      "cell_type": "markdown",
      "metadata": {
        "id": "kzwswK5CS2mU"
      },
      "source": [
        "### 간단한 선형 회귀"
      ]
    },
    {
      "cell_type": "code",
      "metadata": {
        "id": "_V4u5tWuvzoB"
      },
      "source": [
        "import numpy as np \n",
        "from sklearn import linear_model  # scikit-learn 모듈을 가져온다\n",
        "\n",
        "regr = linear_model.LinearRegression() "
      ],
      "execution_count": null,
      "outputs": []
    },
    {
      "cell_type": "code",
      "metadata": {
        "id": "QHlUqi-Hv5NS",
        "colab": {
          "base_uri": "https://localhost:8080/"
        },
        "outputId": "d897245c-e244-4fe9-b585-e42260d6695c"
      },
      "source": [
        "X = [[163], [179], [166], [169], [171]]\n",
        "y = [54, 63, 57, 56, 58]\n",
        "regr.fit(X, y)"
      ],
      "execution_count": null,
      "outputs": [
        {
          "output_type": "execute_result",
          "data": {
            "text/plain": [
              "LinearRegression()"
            ]
          },
          "metadata": {},
          "execution_count": 2
        }
      ]
    },
    {
      "cell_type": "code",
      "metadata": {
        "id": "hBkuCKPBwKBX",
        "colab": {
          "base_uri": "https://localhost:8080/"
        },
        "outputId": "d653e953-ba90-4bb9-df7d-d93d10815bad"
      },
      "source": [
        "coef = regr.coef_            # 직선의 기울기\n",
        "intercept = regr.intercept_  # 직선의 절편\n",
        "score = regr.score(X, y)     # 학습된 직선이 데이터를 얼마나 잘 따르나\n",
        "\n",
        "print(\"y = {}* X + {:.2f}\".format(coef.round(2), intercept))\n",
        "print(\"데이터와 선형회귀 직선의 관계점수: {:.1%}\".format(score))"
      ],
      "execution_count": null,
      "outputs": [
        {
          "output_type": "stream",
          "name": "stdout",
          "text": [
            "y = [0.53]* X + -32.50\n",
            "데이터와 선형회귀 직선의 관계점수: 91.9%\n"
          ]
        }
      ]
    },
    {
      "cell_type": "markdown",
      "metadata": {
        "id": "5FkND8LdTLX7"
      },
      "source": [
        "### 다중선형회귀\n",
        "\n"
      ]
    },
    {
      "cell_type": "code",
      "metadata": {
        "id": "yrpadWv_wilO",
        "colab": {
          "base_uri": "https://localhost:8080/",
          "height": 283
        },
        "outputId": "346baefd-8d26-4d13-d86f-fe377217e35b"
      },
      "source": [
        "import matplotlib.pyplot as plt\n",
        "\n",
        "# 학습 데이터와 y 값을 산포도로 그린다. \n",
        "plt.scatter(X, y, color='blue', marker='D')\n",
        "# 학습 데이터를 입력으로 하여 예측값을 계산한다.\n",
        "y_pred = regr.predict(X)\n",
        "# 계산된 기울기와 y 절편을 가지는 점선을 그려보자\n",
        "plt.plot(X, y_pred, 'r:')"
      ],
      "execution_count": null,
      "outputs": [
        {
          "output_type": "execute_result",
          "data": {
            "text/plain": [
              "[<matplotlib.lines.Line2D at 0x7fbf1f3fcb10>]"
            ]
          },
          "metadata": {},
          "execution_count": 4
        },
        {
          "output_type": "display_data",
          "data": {
            "text/plain": [
              "<Figure size 432x288 with 1 Axes>"
            ],
            "image/png": "[encoded data removed]"
          },
          "metadata": {
            "needs_background": "light"
          }
        }
      ]
    },
    {
      "cell_type": "code",
      "metadata": {
        "id": "GQbg1zQqwRhb",
        "colab": {
          "base_uri": "https://localhost:8080/"
        },
        "outputId": "13e6220c-be18-4502-b7a4-142ca126e045"
      },
      "source": [
        "unseen = [[167]]\n",
        "result = regr.predict(unseen)\n",
        "print('철수의 키가 {}cm 이므로 몸무게는 {}kg으로 추정됨'.format(\\\n",
        "                      unseen, result.round(1)))"
      ],
      "execution_count": null,
      "outputs": [
        {
          "output_type": "stream",
          "name": "stdout",
          "text": [
            "철수의 키가 [[167]]cm 이므로 몸무게는 [56.2]kg으로 추정됨\n"
          ]
        }
      ]
    },
    {
      "cell_type": "code",
      "metadata": {
        "id": "PE4Tp1-kjhfl",
        "colab": {
          "base_uri": "https://localhost:8080/"
        },
        "outputId": "96111f9a-e0a2-4d21-ce44-b841a7890796"
      },
      "source": [
        "coef = regr.coef_            # 직선의 기울기\n",
        "intercept = regr.intercept_  # 직선의 절편\n",
        "score = regr.score(X, y)     # 학습된 직선이 데이터를 얼마나 잘 따르나\n",
        "\n",
        "print(\"y = {}* X + {:.2f}\".format(coef.round(2), intercept))\n",
        "print(\"데이터와 선형회귀 직선의 관계점수: {:.1%}\".format(score))"
      ],
      "execution_count": null,
      "outputs": [
        {
          "output_type": "stream",
          "name": "stdout",
          "text": [
            "y = [0.53]* X + -32.50\n",
            "데이터와 선형회귀 직선의 관계점수: 91.9%\n"
          ]
        }
      ]
    },
    {
      "cell_type": "code",
      "metadata": {
        "id": "_YH3eYvTt8Oj",
        "colab": {
          "base_uri": "https://localhost:8080/"
        },
        "outputId": "7438e680-3557-46e0-d8a8-5d1deae707fe"
      },
      "source": [
        "from sklearn import linear_model \n",
        " \n",
        "regr = linear_model.LinearRegression() \n",
        "# 남자는 0, 여자는 1\n",
        "X = [[168, 0], [166, 0], [173, 0], [165, 0], [177, 0], [163, 0], \\\n",
        "     [178, 0], [172, 0], [163, 1], [162, 1], [171, 1], [162, 1], \\\n",
        "     [164, 1], [162, 1], [158, 1], [173, 1], ]    # 입력데이터를 2차원으로 만들어야 함 \n",
        "y = [65, 61, 68, 63, 68, 61, 76, 67, 55, 51, 59, 53, 61, 56, 44, 57]     # y 값은 1차원 데이터\n",
        "regr.fit(X, y)         # 학습 \n",
        "print('계수 :', regr.coef_ )\n",
        "print('절편 :', regr.intercept_)\n",
        "print('점수 :', regr.score(X, y))\n",
        "print('철수와 영희의 추정 몸무게 :', regr.predict([[167, 0], [167, 1]]))"
      ],
      "execution_count": null,
      "outputs": [
        {
          "output_type": "stream",
          "name": "stdout",
          "text": [
            "계수 : [ 0.74803397 -7.23030041]\n",
            "절편 : -61.22778389430634\n",
            "점수 : 0.8425933302504423\n",
            "철수와 영희의 추정 몸무게 : [63.69388959 56.46358918]\n"
          ]
        }
      ]
    },
    {
      "cell_type": "markdown",
      "metadata": {
        "id": "lf_AT7fZT-AU"
      },
      "source": [
        "### 오차 함수의 구현과 파라미터 공간의 최적값"
      ]
    },
    {
      "cell_type": "code",
      "metadata": {
        "id": "iL1LoSLBB6K8",
        "colab": {
          "base_uri": "https://localhost:8080/",
          "height": 283
        },
        "outputId": "ea4c23ea-cb97-451f-9f62-bb546895264e"
      },
      "source": [
        "import matplotlib.pyplot as plt\n",
        "\n",
        "x = np.array([1, 2, 3, 4, 5]) # \n",
        "y = np.array([1.2, 2.4, 2.5, 4.6, 5.4]) # y 데이터\n",
        "\n",
        "plt.scatter(x, y, color='blue', marker='D')\n",
        "# 추정 그래프를 빨간색 실선으로 그림\n",
        "plt.plot(x, 0.7 * x, 'r-')"
      ],
      "execution_count": null,
      "outputs": [
        {
          "output_type": "execute_result",
          "data": {
            "text/plain": [
              "[<matplotlib.lines.Line2D at 0x7fbf0e240f50>]"
            ]
          },
          "metadata": {},
          "execution_count": 8
        },
        {
          "output_type": "display_data",
          "data": {
            "text/plain": [
              "<Figure size 432x288 with 1 Axes>"
            ],
            "image/png": "[encoded data removed]"
          },
          "metadata": {
            "needs_background": "light"
          }
        }
      ]
    },
    {
      "cell_type": "code",
      "metadata": {
        "id": "_QWMaZF7MInw",
        "colab": {
          "base_uri": "https://localhost:8080/",
          "height": 283
        },
        "outputId": "2887b35a-4bf3-4ca3-c1cb-a35f97d5f101"
      },
      "source": [
        "plt.scatter(x, y, color='blue', marker='D')\n",
        "# 추정 그래프를 빨간색 실선으로 그림\n",
        "plt.plot(x, 0.9 * x, 'r-')"
      ],
      "execution_count": null,
      "outputs": [
        {
          "output_type": "execute_result",
          "data": {
            "text/plain": [
              "[<matplotlib.lines.Line2D at 0x7fbf0e218950>]"
            ]
          },
          "metadata": {},
          "execution_count": 9
        },
        {
          "output_type": "display_data",
          "data": {
            "text/plain": [
              "<Figure size 432x288 with 1 Axes>"
            ],
            "image/png": "[encoded data removed]"
          },
          "metadata": {
            "needs_background": "light"
          }
        }
      ]
    },
    {
      "cell_type": "code",
      "metadata": {
        "id": "DSrvLslmMeYH",
        "colab": {
          "base_uri": "https://localhost:8080/",
          "height": 283
        },
        "outputId": "d36e75b3-e83a-4260-f69d-28db84870037"
      },
      "source": [
        "plt.scatter(x, y, color='blue', marker='D')\n",
        "# 추정 그래프를 빨간색 실선으로 그림\n",
        "plt.plot(x, 1.05 * x, 'r-')"
      ],
      "execution_count": null,
      "outputs": [
        {
          "output_type": "execute_result",
          "data": {
            "text/plain": [
              "[<matplotlib.lines.Line2D at 0x7fbf0e1c0c10>]"
            ]
          },
          "metadata": {},
          "execution_count": 10
        },
        {
          "output_type": "display_data",
          "data": {
            "text/plain": [
              "<Figure size 432x288 with 1 Axes>"
            ],
            "image/png": "[encoded data removed]"
          },
          "metadata": {
            "needs_background": "light"
          }
        }
      ]
    },
    {
      "cell_type": "code",
      "metadata": {
        "id": "dCUPKjQsu2Ky",
        "colab": {
          "base_uri": "https://localhost:8080/"
        },
        "outputId": "a112abec-6741-44a0-ea7b-493d0dd76733"
      },
      "source": [
        "import numpy as np\n",
        "\n",
        "y = np.array([1.2, 2.4, 2.5, 4.6, 5.4])\n",
        "y_hat = np.array([1, 2, 3, 4, 5])\n",
        "diff = (y_hat - y) ** 2     # y_hat과 y의 차이값의 제곱\n",
        "e_mse = diff.sum() / len(y)\n",
        "print('평균 제곱 오차 = ', e_mse)"
      ],
      "execution_count": null,
      "outputs": [
        {
          "output_type": "stream",
          "name": "stdout",
          "text": [
            "평균 제곱 오차 =  0.19399999999999995\n"
          ]
        }
      ]
    },
    {
      "cell_type": "code",
      "metadata": {
        "id": "kpusmh-Ssitc",
        "colab": {
          "base_uri": "https://localhost:8080/"
        },
        "outputId": "85e364d6-4b84-4a63-e2de-5a11ff951e1d"
      },
      "source": [
        "from sklearn.metrics import mean_squared_error\n",
        "\n",
        "print('평균 제곱 오차 = ', mean_squared_error(y_hat, y))"
      ],
      "execution_count": null,
      "outputs": [
        {
          "output_type": "stream",
          "name": "stdout",
          "text": [
            "평균 제곱 오차 =  0.19399999999999995\n"
          ]
        }
      ]
    },
    {
      "cell_type": "markdown",
      "metadata": {
        "id": "Ur5YpXa-UhrX"
      },
      "source": [
        "### 미분과 경사 하강법 (직접구현)"
      ]
    },
    {
      "cell_type": "code",
      "metadata": {
        "id": "jgNEq5bgWRkS",
        "colab": {
          "base_uri": "https://localhost:8080/"
        },
        "outputId": "7c254189-2bee-47e6-baf3-6980a6596bdc"
      },
      "source": [
        "import numpy as np\n",
        "import matplotlib.pyplot as plt\n",
        "\n",
        "X = np.array([1, 4.5, 9, 10, 13])\n",
        "y = np.array([0, 0.2, 2.5, 5.4, 7.3])\n",
        "\n",
        "w, b = 0, 0    # w, b 초기값을 0으로 두자\n",
        "learning_rate, epoch = 0.005, 1000 # 학습률과 학습횟수(에폭)\n",
        "n = len(X)  # 입력데이터 개수\n",
        "\n",
        "for i in range(epoch):   # 학습 루프\n",
        "    y_pred = w*X + b     # 현재 w, b를 이용한 작업 T\n",
        "    error = y_pred - y   # 성능척도 P\n",
        "    w = w - learning_rate * (error * X).sum() # 경험 E로 개선\n",
        "    b = b - learning_rate * error.sum()\n",
        "\n",
        "print('w = ', w.round(2), 'b =', b.round(2))"
      ],
      "execution_count": null,
      "outputs": [
        {
          "output_type": "stream",
          "name": "stdout",
          "text": [
            "w =  0.63 b = -1.65\n"
          ]
        }
      ]
    },
    {
      "cell_type": "markdown",
      "metadata": {
        "id": "-Q0Ygct7VPps"
      },
      "source": [
        "### 미분과 경사 하강법 (scikit-learn 이용)"
      ]
    },
    {
      "cell_type": "code",
      "metadata": {
        "id": "lUBXWQCmVTcQ",
        "colab": {
          "base_uri": "https://localhost:8080/"
        },
        "outputId": "48ee242c-22c0-49a9-9862-35ebfc8d0d3f"
      },
      "source": [
        "from sklearn import linear_model\n",
        "import numpy as np\n",
        "X = np.array([1, 4.5, 9, 10, 13])\n",
        "y = np.array([0, 0.2, 2.5, 5.4, 7.3])\n",
        "regr = linear_model.LinearRegression() # 절편값 b는 0으로 둔다\n",
        "X = X[:, np.newaxis]\n",
        "regr.fit(X, y) # 학습\n",
        "print('w =', regr.coef_.round(2),\\\n",
        "      ', b =', regr.intercept_.round(2))"
      ],
      "execution_count": null,
      "outputs": [
        {
          "output_type": "stream",
          "name": "stdout",
          "text": [
            "w = [0.63] , b = -1.65\n"
          ]
        }
      ]
    },
    {
      "cell_type": "code",
      "metadata": {
        "id": "m2kVd0PjMQ-7",
        "colab": {
          "base_uri": "https://localhost:8080/",
          "height": 265
        },
        "outputId": "ec7850c7-8104-49f4-97a4-fcdf881bd0b7"
      },
      "source": [
        "import matplotlib.pyplot as plt\n",
        "import numpy as np\n",
        "\n",
        "X = np.array([1, 4.5, 9, 10, 13])\n",
        "y = np.array([0, 0.2, 2.5, 5.4, 7.3])\n",
        "plt.scatter(X, y, color='blue', marker='D')\n",
        "# 계산으로 구한 w, b를 이용하여 선형 회귀 직선을 그리자\n",
        "y_pred = 0.63 * X - 1.65  \n",
        "plt.plot(X, y_pred, 'r:');"
      ],
      "execution_count": null,
      "outputs": [
        {
          "output_type": "display_data",
          "data": {
            "text/plain": [
              "<Figure size 432x288 with 1 Axes>"
            ],
            "image/png": "[encoded data removed]"
          },
          "metadata": {
            "needs_background": "light"
          }
        }
      ]
    },
    {
      "cell_type": "code",
      "metadata": {
        "id": "2QiiFp2EV1ao",
        "colab": {
          "base_uri": "https://localhost:8080/"
        },
        "outputId": "fc3dfd92-9531-473b-da2d-cb68bc862e22"
      },
      "source": [
        "# 학습률이 너무 작은 경우\n",
        "import numpy as np\n",
        "import matplotlib.pyplot as plt\n",
        "\n",
        "X = np.array([1, 4.5, 9, 10, 13])\n",
        "y = np.array([0, 0.2, 2.5, 5.4, 7.3])\n",
        "\n",
        "w, b = 0, 0    # w, b 초기값을 0으로 두자\n",
        "learning_rate, epoch = 0.00001, 1000 # 학습률과 학습횟수(에폭)\n",
        "n = len(X)  # 입력데이터 개수\n",
        "\n",
        "for i in range(epoch):   # 학습 루프\n",
        "    y_pred = w*X + b     # 현재 w, b를 이용한 작업 T\n",
        "    error = y_pred - y   # 성능척도 P\n",
        "    w = w - learning_rate * (error * X).sum() # 경험 E로 개선\n",
        "    b = b - learning_rate * error.sum()\n",
        "\n",
        "print('w = ', w.round(2), 'b =', b.round(2))"
      ],
      "execution_count": null,
      "outputs": [
        {
          "output_type": "stream",
          "name": "stdout",
          "text": [
            "w =  0.45 b = 0.03\n"
          ]
        }
      ]
    },
    {
      "cell_type": "code",
      "metadata": {
        "id": "UXBPKxWCV_sQ",
        "colab": {
          "base_uri": "https://localhost:8080/"
        },
        "outputId": "162670e0-401d-4773-e0f6-d15d937edc1c"
      },
      "source": [
        "# 학습률이 너무 큰 경우\n",
        "import numpy as np\n",
        "import matplotlib.pyplot as plt\n",
        "\n",
        "X = np.array([1, 4.5, 9, 10, 13])\n",
        "y = np.array([0, 0.2, 2.5, 5.4, 7.3])\n",
        "\n",
        "w, b = 0, 0    # w, b 초기값을 0으로 두자\n",
        "learning_rate, epoch = 1.0, 1000 # 학습률과 학습횟수(에폭)\n",
        "n = len(X)  # 입력데이터 개수\n",
        "\n",
        "for i in range(epoch):   # 학습 루프\n",
        "    y_pred = w*X + b     # 현재 w, b를 이용한 작업 T\n",
        "    error = y_pred - y   # 성능척도 P\n",
        "    w = w - learning_rate * (error * X).sum() # 경험 E로 개선\n",
        "    b = b - learning_rate * error.sum()\n",
        "\n",
        "print('w = ', w.round(2), 'b =', b.round(2))"
      ],
      "execution_count": null,
      "outputs": [
        {
          "output_type": "stream",
          "name": "stdout",
          "text": [
            "w =  nan b = nan\n"
          ]
        },
        {
          "output_type": "stream",
          "name": "stderr",
          "text": [
            "/usr/local/lib/python3.7/dist-packages/numpy/core/_methods.py:48: RuntimeWarning: overflow encountered in reduce\n",
            "  return umr_sum(a, axis, dtype, out, keepdims, initial, where)\n",
            "/usr/local/lib/python3.7/dist-packages/ipykernel_launcher.py:15: RuntimeWarning: invalid value encountered in double_scalars\n",
            "  from ipykernel import kernelapp as app\n"
          ]
        }
      ]
    },
    {
      "cell_type": "code",
      "metadata": {
        "id": "xf_C6C7_Wh5V",
        "colab": {
          "base_uri": "https://localhost:8080/"
        },
        "outputId": "aa565e88-e175-469e-b94b-8489ba852c6b"
      },
      "source": [
        "import numpy as np\n",
        "from sklearn.metrics import mean_squared_error as mse\n",
        "\n",
        "# 5개 점의 x, y 좌표값\n",
        "x = np.array([1, 4.5, 9, 10, 13])\n",
        "y = np.array([0, 0.2, 2.5, 5.4, 7.3])\n",
        "\n",
        "w_list = np.arange(1.0, 0.2, -0.1)\n",
        "for w in w_list:     # w를 바꾸어가며 예측치와 정답의 오차 비교\n",
        "   y_hat = w * x\n",
        "   print('w = {:.1f}, 평균제곱 오차: {:.2f}'.format(w, mse(y_hat, y)))"
      ],
      "execution_count": null,
      "outputs": [
        {
          "output_type": "stream",
          "name": "stdout",
          "text": [
            "w = 1.0, 평균제곱 오차: 23.08\n",
            "w = 0.9, 평균제곱 오차: 15.86\n",
            "w = 0.8, 평균제곱 오차: 10.13\n",
            "w = 0.7, 평균제곱 오차: 5.89\n",
            "w = 0.6, 평균제곱 오차: 3.13\n",
            "w = 0.5, 평균제곱 오차: 1.85\n",
            "w = 0.4, 평균제곱 오차: 2.06\n",
            "w = 0.3, 평균제곱 오차: 3.75\n"
          ]
        }
      ]
    },
    {
      "cell_type": "code",
      "metadata": {
        "id": "O0DiWNsUKm6-",
        "colab": {
          "base_uri": "https://localhost:8080/"
        },
        "outputId": "6b632b65-616c-41a0-f245-5b83c342e40f"
      },
      "source": [
        "import numpy as np\n",
        "from sklearn.metrics import mean_squared_error as mse \n",
        "\n",
        "# 5개 점의 x, y 좌표값\n",
        "x = np.array([1, 4.5, 9, 10, 13])\n",
        "y = np.array([0, 0.2, 2.5, 5.4, 7.3])\n",
        "ws = np.arange(1.0, 0.0, -0.1)\n",
        "ys = []\n",
        "print('ws =', ws)\n",
        "for i in list(ws):\n",
        "    y_hat = i * x\n",
        "    ys.append(mse(y_hat, y))\n",
        "\n",
        "print('ys : ', ys, 'min', np.min(ws))"
      ],
      "execution_count": null,
      "outputs": [
        {
          "output_type": "stream",
          "name": "stdout",
          "text": [
            "ws = [1.  0.9 0.8 0.7 0.6 0.5 0.4 0.3 0.2 0.1]\n",
            "ys :  [23.077999999999996, 15.8625, 10.132000000000001, 5.886500000000003, 3.1260000000000012, 1.8505000000000003, 2.0599999999999987, 3.7544999999999957, 6.933999999999993, 11.59849999999999] min 0.1000000000000002\n"
          ]
        }
      ]
    },
    {
      "cell_type": "code",
      "metadata": {
        "id": "G7NCio84LOHF",
        "colab": {
          "base_uri": "https://localhost:8080/",
          "height": 295
        },
        "outputId": "b95a994e-1a55-4011-c021-c0373c91f3e9"
      },
      "source": [
        "import matplotlib.pyplot as plt\n",
        "\n",
        "plt.title('5 data and regression line')\n",
        "\n",
        "plt.scatter(x, y, c='red')\n",
        "plt.plot(x, 0.5 * x)\n",
        "plt.xlabel('x')              \n",
        "plt.ylabel('y')    \n",
        "\n",
        "plt.show()"
      ],
      "execution_count": null,
      "outputs": [
        {
          "output_type": "display_data",
          "data": {
            "text/plain": [
              "<Figure size 432x288 with 1 Axes>"
            ],
            "image/png": "[encoded data removed]"
          },
          "metadata": {
            "needs_background": "light"
          }
        }
      ]
    },
    {
      "cell_type": "code",
      "metadata": {
        "id": "kdTQ1a8PLQ-R",
        "colab": {
          "base_uri": "https://localhost:8080/",
          "height": 313
        },
        "outputId": "cf71df70-013e-45ca-8fc4-bbbd6e775861"
      },
      "source": [
        "plt.title('MSE optimization graph')\n",
        "plt.plot(ws, ys, c='blue')\n",
        "\n",
        "plt.xlabel('w')              \n",
        "plt.ylabel('mse') "
      ],
      "execution_count": null,
      "outputs": [
        {
          "output_type": "execute_result",
          "data": {
            "text/plain": [
              "Text(0, 0.5, 'mse')"
            ]
          },
          "metadata": {},
          "execution_count": 22
        },
        {
          "output_type": "display_data",
          "data": {
            "text/plain": [
              "<Figure size 432x288 with 1 Axes>"
            ],
            "image/png": "[encoded data removed]"
          },
          "metadata": {
            "needs_background": "light"
          }
        }
      ]
    },
    {
      "cell_type": "code",
      "metadata": {
        "id": "IeAOnNxQLjHo",
        "colab": {
          "base_uri": "https://localhost:8080/"
        },
        "outputId": "4ed5e0e5-c1f0-479f-a852-251f7a4bf073"
      },
      "source": [
        "from sklearn import linear_model\n",
        "import numpy as np\n",
        "\n",
        "X = np.array([1, 4.5, 9, 10, 13])\n",
        "y = np.array([0, 0.2, 2.5, 5.4, 7.3])\n",
        "regr = linear_model.LinearRegression() # 절편값 b는 0으로 둔다\n",
        "X = X[:, np.newaxis]\n",
        "regr.fit(X, y)         # 학습 \n",
        "\n",
        "print('w =', regr.coef_.round(2), \\\n",
        "      ', b =', regr.intercept_.round(2))"
      ],
      "execution_count": null,
      "outputs": [
        {
          "output_type": "stream",
          "name": "stdout",
          "text": [
            "w = [0.63] , b = -1.65\n"
          ]
        }
      ]
    },
    {
      "cell_type": "code",
      "metadata": {
        "id": "i71bl6grLUEA",
        "colab": {
          "base_uri": "https://localhost:8080/"
        },
        "outputId": "2ff40e41-bc9c-403f-fb91-aeea2db8ee8b"
      },
      "source": [
        "import numpy as np\n",
        "\n",
        "X = np.array([1, 4.5, 9, 10, 13])\n",
        "y = np.array([0, 0.2, 2.5, 5.4, 7.3])\n",
        "\n",
        "w, b = 0, 0   # w, b의 초기값을 0으로 두자\n",
        "# 적정한 하이퍼파라미터를 찾는 것이 중요\n",
        "learning_rate, epoch = 0.005, 1000 # 학습률과 학습횟수\n",
        "n = len(X)  # 입력데이터 개수\n",
        "\n",
        "for i in range(epoch):  # 학습 루프\n",
        "  y_pred = w*X + b      # 현재 w, b를 이용한 작업 T\n",
        "  error = y_pred - y    # 성능척도 P\n",
        "  w = w - learning_rate * (error * X).sum() # 경험 E로 개선\n",
        "  b = b - learning_rate * error.sum()\n",
        "\n",
        "print('w =', w.round(2), ', b =', b.round(2))"
      ],
      "execution_count": null,
      "outputs": [
        {
          "output_type": "stream",
          "name": "stdout",
          "text": [
            "w = 0.63 , b = -1.65\n"
          ]
        }
      ]
    },
    {
      "cell_type": "markdown",
      "source": [
        "# 사이킷런 활용(고급)\n",
        "\n",
        "* 참고자료: https://colab.research.google.com/github/jakevdp/PythonDataScienceHandbook/blob/master/notebooks/05.06-Linear-Regression.ipynb"
      ],
      "metadata": {
        "id": "YeNUh2q5AN9N"
      }
    },
    {
      "cell_type": "markdown",
      "source": [
        "## 단순선형회귀\n",
        "\n",
        "We will start with the most familiar linear regression, a straight-line fit to data.\n",
        "A straight-line fit is a model of the form\n",
        "$$\n",
        "y = ax + b\n",
        "$$\n",
        "where $a$ is commonly known as the *slope*, and $b$ is commonly known as the *intercept*.\n",
        "\n",
        "Consider the following data, which is scattered about a line with a slope of 2 and an intercept of -5:"
      ],
      "metadata": {
        "id": "ti0brT7FApDY"
      }
    },
    {
      "cell_type": "code",
      "source": [
        "# 임의의 데이터를 만듬\n",
        "rng = np.random.RandomState(1)\n",
        "x = 10 * rng.rand(50)\n",
        "y = 2 * x - 5 + rng.randn(50)\n",
        "plt.scatter(x, y);"
      ],
      "metadata": {
        "id": "huUcu2iqAiMm",
        "colab": {
          "base_uri": "https://localhost:8080/",
          "height": 265
        },
        "outputId": "e8232168-a1e5-4d84-8631-1158956ac729"
      },
      "execution_count": null,
      "outputs": [
        {
          "output_type": "display_data",
          "data": {
            "text/plain": [
              "<Figure size 432x288 with 1 Axes>"
            ],
            "image/png": "[encoded data removed]"
          },
          "metadata": {
            "needs_background": "light"
          }
        }
      ]
    },
    {
      "cell_type": "code",
      "source": [
        "from sklearn.linear_model import LinearRegression\n",
        "model = LinearRegression(fit_intercept=True)\n",
        "\n",
        "model.fit(x[:, np.newaxis], y)\n",
        "\n",
        "xfit = np.linspace(0, 10, 1000)\n",
        "yfit = model.predict(xfit[:, np.newaxis])\n",
        "\n",
        "plt.scatter(x, y)\n",
        "plt.plot(xfit, yfit);"
      ],
      "metadata": {
        "id": "o8kMieirAvEA",
        "colab": {
          "base_uri": "https://localhost:8080/",
          "height": 265
        },
        "outputId": "25c3e75d-996d-4e07-b1ba-fb61e2cb113d"
      },
      "execution_count": null,
      "outputs": [
        {
          "output_type": "display_data",
          "data": {
            "text/plain": [
              "<Figure size 432x288 with 1 Axes>"
            ],
            "image/png": "[encoded data removed]"
          },
          "metadata": {
            "needs_background": "light"
          }
        }
      ]
    },
    {
      "cell_type": "code",
      "source": [
        "print(\"Model slope:    \", model.coef_[0])\n",
        "print(\"Model intercept:\", model.intercept_)\n",
        "#기울기와 절편을 찾음"
      ],
      "metadata": {
        "id": "cuLqQSocAyMv",
        "colab": {
          "base_uri": "https://localhost:8080/"
        },
        "outputId": "43681bfb-04c0-4f53-cf3e-7f09ee645e27"
      },
      "execution_count": null,
      "outputs": [
        {
          "output_type": "stream",
          "name": "stdout",
          "text": [
            "Model slope:     2.0272088103606953\n",
            "Model intercept: -4.998577085553204\n"
          ]
        }
      ]
    },
    {
      "cell_type": "markdown",
      "source": [
        "## 다중선형회귀"
      ],
      "metadata": {
        "id": "b8fRTrZ0BQU_"
      }
    },
    {
      "cell_type": "markdown",
      "source": [
        "The ``LinearRegression`` estimator is much more capable than this, however—in addition to simple straight-line fits, it can also handle multidimensional linear models of the form\n",
        "$$\n",
        "y = a_0 + a_1 x_1 + a_2 x_2 + \\cdots\n",
        "$$\n",
        "where there are multiple $x$ values.\n",
        "Geometrically, this is akin to fitting a plane to points in three dimensions, or fitting a hyper-plane to points in higher dimensions.\n",
        "\n",
        "The multidimensional nature of such regressions makes them more difficult to visualize, but we can see one of these fits in action by building some example data, using NumPy's matrix multiplication operator:"
      ],
      "metadata": {
        "id": "vjLwxSafA7e4"
      }
    },
    {
      "cell_type": "code",
      "source": [
        "rng = np.random.RandomState(1)\n",
        "X = 10 * rng.rand(100, 3) #100by3 행렬만들어준거\n",
        "y = 0.5 + np.dot(X, [1.5, -2., 1.])\n",
        "\n",
        "model.fit(X, y)\n",
        "print(model.intercept_)\n",
        "print(model.coef_)"
      ],
      "metadata": {
        "id": "MNCG338sA6xK",
        "colab": {
          "base_uri": "https://localhost:8080/"
        },
        "outputId": "3c5b2026-e89c-4465-a78f-9438eb8ab623"
      },
      "execution_count": null,
      "outputs": [
        {
          "output_type": "stream",
          "name": "stdout",
          "text": [
            "0.5000000000000056\n",
            "[ 1.5 -2.   1. ]\n"
          ]
        }
      ]
    },
    {
      "cell_type": "code",
      "source": [
        "y = 0.5 + np.dot(X, [1.5, -2., 1.])\n",
        "print(y)"
      ],
      "metadata": {
        "colab": {
          "base_uri": "https://localhost:8080/"
        },
        "id": "k2LWNEHrlj38",
        "outputId": "ded92cde-b606-4afc-ee70-f7a5b672cfca"
      },
      "execution_count": null,
      "outputs": [
        {
          "output_type": "stream",
          "name": "stdout",
          "text": [
            "[ -7.65001605   3.02325672   0.35036337   7.05055573 -13.72168905\n",
            "   7.79781489   6.65121998  15.67866623  -3.39585387   6.47063839\n",
            "   3.13194531  -2.18490669  -5.71211675  -0.54340051 -10.04666662\n",
            "  -8.01736569   2.40972822   9.10543727  12.54752254  -2.08759851\n",
            "   0.69789825  11.07258392   9.605085    -7.39496566  -9.5819122\n",
            " -12.09220005   6.07528275  -1.67478215  -9.08789409   7.92072795\n",
            " -12.26947425   3.38337796   2.60580635   8.49485669  15.7290878\n",
            "  18.82834922  -7.35959816  -9.1266914   -6.08049658   1.35758248\n",
            "   0.55704715  -7.61908232  -6.80655502   2.66852724  16.54883423\n",
            "  -8.26888336   4.0730973    2.56190915   1.27548898   0.12605487\n",
            " -12.08490779   5.94114217   1.50446356  13.34317398  -5.21236827\n",
            "   4.24165127   1.39153728   7.53574966   0.5498636    6.84793866\n",
            "  13.26983794   4.33929089  -4.14100029   9.76579505   5.16058738\n",
            "  16.54417044   0.27311013  -3.04666708   2.6734072   -0.59307536\n",
            " -11.10255971   4.74998129  -9.86537743   0.52199534 -10.27749464\n",
            "  11.74964848  -0.33802704  -4.41968107  -3.97307056   8.80229943\n",
            "  -6.85052997  -6.37811988  -0.30454615  24.03857766  -7.27980504\n",
            "   7.71921901   0.54719505   5.25363626  13.72145942   3.7291675\n",
            "   6.39370851  -5.74432358  -1.62200946   3.90303585   7.56029896\n",
            "  10.79078705  -0.38540647   5.34319763   8.05538844 -16.1458226 ]\n"
          ]
        }
      ]
    },
    {
      "cell_type": "markdown",
      "source": [
        "## 다중선형회귀 (다차식)"
      ],
      "metadata": {
        "id": "vSjmXD9hBaI-"
      }
    },
    {
      "cell_type": "code",
      "source": [
        "from sklearn.preprocessing import PolynomialFeatures\n",
        "x = np.array([2, 3, 4])\n",
        "poly = PolynomialFeatures(3, include_bias=False)\n",
        "poly.fit_transform(x[:, None])"
      ],
      "metadata": {
        "id": "fr0cxdj0Bekk",
        "colab": {
          "base_uri": "https://localhost:8080/"
        },
        "outputId": "79402a41-276f-4091-d0a9-8db4f8d28dd5"
      },
      "execution_count": null,
      "outputs": [
        {
          "output_type": "execute_result",
          "data": {
            "text/plain": [
              "array([[ 2.,  4.,  8.],\n",
              "       [ 3.,  9., 27.],\n",
              "       [ 4., 16., 64.]])"
            ]
          },
          "metadata": {},
          "execution_count": 32
        }
      ]
    },
    {
      "cell_type": "code",
      "source": [
        "from sklearn.pipeline import make_pipeline\n",
        "# 7승(7제곱)까지...\n",
        "# 파이프라인 => 물흘러가듯이 데이터 전처리... \n",
        "poly_model = make_pipeline(PolynomialFeatures(7),\n",
        "                           LinearRegression())"
      ],
      "metadata": {
        "id": "moLvbKtABkkF"
      },
      "execution_count": null,
      "outputs": []
    },
    {
      "cell_type": "code",
      "source": [
        "rng = np.random.RandomState(1)\n",
        "x = 10 * rng.rand(50)\n",
        "y = np.sin(x) + 0.1 * rng.randn(50)\n",
        "\n",
        "poly_model.fit(x[:, np.newaxis], y)\n",
        "yfit = poly_model.predict(xfit[:, np.newaxis])\n",
        "\n",
        "plt.scatter(x, y)\n",
        "plt.plot(xfit, yfit);"
      ],
      "metadata": {
        "id": "cjoUUbHRBnMI",
        "colab": {
          "base_uri": "https://localhost:8080/",
          "height": 265
        },
        "outputId": "b28971ef-78f9-4e42-d301-1c493cae7887"
      },
      "execution_count": null,
      "outputs": [
        {
          "output_type": "display_data",
          "data": {
            "text/plain": [
              "<Figure size 432x288 with 1 Axes>"
            ],
            "image/png": "[encoded data removed]"
          },
          "metadata": {
            "needs_background": "light"
          }
        }
      ]
    },
    {
      "cell_type": "code",
      "source": [
        "from sklearn import set_config\n",
        "set_config(display=\"diagram\")\n",
        "poly_model  # click on the diagram below to see the details of each step"
      ],
      "metadata": {
        "id": "izaX_0xdCf4R",
        "colab": {
          "base_uri": "https://localhost:8080/",
          "height": 126
        },
        "outputId": "78e700f7-4300-4edc-d112-843b3c331950"
      },
      "execution_count": null,
      "outputs": [
        {
          "output_type": "execute_result",
          "data": {
            "text/plain": [
              "Pipeline(steps=[('polynomialfeatures', PolynomialFeatures(degree=7)),\n",
              "                ('linearregression', LinearRegression())])"
            ],
            "text/html": [
              "<style>#sk-f75ad170-3618-4e56-8e16-5ca93b15801f {color: black;background-color: white;}#sk-f75ad170-3618-4e56-8e16-5ca93b15801f pre{padding: 0;}#sk-f75ad170-3618-4e56-8e16-5ca93b15801f div.sk-toggleable {background-color: white;}#sk-f75ad170-3618-4e56-8e16-5ca93b15801f label.sk-toggleable__label {cursor: pointer;display: block;width: 100%;margin-bottom: 0;padding: 0.3em;box-sizing: border-box;text-align: center;}#sk-f75ad170-3618-4e56-8e16-5ca93b15801f label.sk-toggleable__label-arrow:before {content: \"▸\";float: left;margin-right: 0.25em;color: #696969;}#sk-f75ad170-3618-4e56-8e16-5ca93b15801f label.sk-toggleable__label-arrow:hover:before {color: black;}#sk-f75ad170-3618-4e56-8e16-5ca93b15801f div.sk-estimator:hover label.sk-toggleable__label-arrow:before {color: black;}#sk-f75ad170-3618-4e56-8e16-5ca93b15801f div.sk-toggleable__content {max-height: 0;max-width: 0;overflow: hidden;text-align: left;background-color: #f0f8ff;}#sk-f75ad170-3618-4e56-8e16-5ca93b15801f div.sk-toggleable__content pre {margin: 0.2em;color: black;border-radius: 0.25em;background-color: #f0f8ff;}#sk-f75ad170-3618-4e56-8e16-5ca93b15801f input.sk-toggleable__control:checked~div.sk-toggleable__content {max-height: 200px;max-width: 100%;overflow: auto;}#sk-f75ad170-3618-4e56-8e16-5ca93b15801f input.sk-toggleable__control:checked~label.sk-toggleable__label-arrow:before {content: \"▾\";}#sk-f75ad170-3618-4e56-8e16-5ca93b15801f div.sk-estimator input.sk-toggleable__control:checked~label.sk-toggleable__label {background-color: #d4ebff;}#sk-f75ad170-3618-4e56-8e16-5ca93b15801f div.sk-label input.sk-toggleable__control:checked~label.sk-toggleable__label {background-color: #d4ebff;}#sk-f75ad170-3618-4e56-8e16-5ca93b15801f input.sk-hidden--visually {border: 0;clip: rect(1px 1px 1px 1px);clip: rect(1px, 1px, 1px, 1px);height: 1px;margin: -1px;overflow: hidden;padding: 0;position: absolute;width: 1px;}#sk-f75ad170-3618-4e56-8e16-5ca93b15801f div.sk-estimator {font-family: monospace;background-color: #f0f8ff;border: 1px dotted black;border-radius: 0.25em;box-sizing: border-box;margin-bottom: 0.5em;}#sk-f75ad170-3618-4e56-8e16-5ca93b15801f div.sk-estimator:hover {background-color: #d4ebff;}#sk-f75ad170-3618-4e56-8e16-5ca93b15801f div.sk-parallel-item::after {content: \"\";width: 100%;border-bottom: 1px solid gray;flex-grow: 1;}#sk-f75ad170-3618-4e56-8e16-5ca93b15801f div.sk-label:hover label.sk-toggleable__label {background-color: #d4ebff;}#sk-f75ad170-3618-4e56-8e16-5ca93b15801f div.sk-serial::before {content: \"\";position: absolute;border-left: 1px solid gray;box-sizing: border-box;top: 2em;bottom: 0;left: 50%;}#sk-f75ad170-3618-4e56-8e16-5ca93b15801f div.sk-serial {display: flex;flex-direction: column;align-items: center;background-color: white;padding-right: 0.2em;padding-left: 0.2em;}#sk-f75ad170-3618-4e56-8e16-5ca93b15801f div.sk-item {z-index: 1;}#sk-f75ad170-3618-4e56-8e16-5ca93b15801f div.sk-parallel {display: flex;align-items: stretch;justify-content: center;background-color: white;}#sk-f75ad170-3618-4e56-8e16-5ca93b15801f div.sk-parallel::before {content: \"\";position: absolute;border-left: 1px solid gray;box-sizing: border-box;top: 2em;bottom: 0;left: 50%;}#sk-f75ad170-3618-4e56-8e16-5ca93b15801f div.sk-parallel-item {display: flex;flex-direction: column;position: relative;background-color: white;}#sk-f75ad170-3618-4e56-8e16-5ca93b15801f div.sk-parallel-item:first-child::after {align-self: flex-end;width: 50%;}#sk-f75ad170-3618-4e56-8e16-5ca93b15801f div.sk-parallel-item:last-child::after {align-self: flex-start;width: 50%;}#sk-f75ad170-3618-4e56-8e16-5ca93b15801f div.sk-parallel-item:only-child::after {width: 0;}#sk-f75ad170-3618-4e56-8e16-5ca93b15801f div.sk-dashed-wrapped {border: 1px dashed gray;margin: 0 0.4em 0.5em 0.4em;box-sizing: border-box;padding-bottom: 0.4em;background-color: white;position: relative;}#sk-f75ad170-3618-4e56-8e16-5ca93b15801f div.sk-label label {font-family: monospace;font-weight: bold;background-color: white;display: inline-block;line-height: 1.2em;}#sk-f75ad170-3618-4e56-8e16-5ca93b15801f div.sk-label-container {position: relative;z-index: 2;text-align: center;}#sk-f75ad170-3618-4e56-8e16-5ca93b15801f div.sk-container {/* jupyter's `normalize.less` sets `[hidden] { display: none; }` but bootstrap.min.css set `[hidden] { display: none !important; }` so we also need the `!important` here to be able to override the default hidden behavior on the sphinx rendered scikit-learn.org. See: https://github.com/scikit-learn/scikit-learn/issues/21755 */display: inline-block !important;position: relative;}#sk-f75ad170-3618-4e56-8e16-5ca93b15801f div.sk-text-repr-fallback {display: none;}</style><div id=\"sk-f75ad170-3618-4e56-8e16-5ca93b15801f\" class=\"sk-top-container\"><div class=\"sk-text-repr-fallback\"><pre>Pipeline(steps=[(&#x27;polynomialfeatures&#x27;, PolynomialFeatures(degree=7)),\n",
              "                (&#x27;linearregression&#x27;, LinearRegression())])</pre><b>Please rerun this cell to show the HTML repr or trust the notebook.</b></div><div class=\"sk-container\" hidden><div class=\"sk-item sk-dashed-wrapped\"><div class=\"sk-label-container\"><div class=\"sk-label sk-toggleable\"><input class=\"sk-toggleable__control sk-hidden--visually\" id=\"205545fb-ef82-4a5d-90bb-74f45153e281\" type=\"checkbox\" ><label for=\"205545fb-ef82-4a5d-90bb-74f45153e281\" class=\"sk-toggleable__label sk-toggleable__label-arrow\">Pipeline</label><div class=\"sk-toggleable__content\"><pre>Pipeline(steps=[(&#x27;polynomialfeatures&#x27;, PolynomialFeatures(degree=7)),\n",
              "                (&#x27;linearregression&#x27;, LinearRegression())])</pre></div></div></div><div class=\"sk-serial\"><div class=\"sk-item\"><div class=\"sk-estimator sk-toggleable\"><input class=\"sk-toggleable__control sk-hidden--visually\" id=\"622fae4a-8b3e-4619-814a-316557504f72\" type=\"checkbox\" ><label for=\"622fae4a-8b3e-4619-814a-316557504f72\" class=\"sk-toggleable__label sk-toggleable__label-arrow\">PolynomialFeatures</label><div class=\"sk-toggleable__content\"><pre>PolynomialFeatures(degree=7)</pre></div></div></div><div class=\"sk-item\"><div class=\"sk-estimator sk-toggleable\"><input class=\"sk-toggleable__control sk-hidden--visually\" id=\"5da4240d-2b6c-4099-8d43-432c530e71fb\" type=\"checkbox\" ><label for=\"5da4240d-2b6c-4099-8d43-432c530e71fb\" class=\"sk-toggleable__label sk-toggleable__label-arrow\">LinearRegression</label><div class=\"sk-toggleable__content\"><pre>LinearRegression()</pre></div></div></div></div></div></div></div>"
            ]
          },
          "metadata": {},
          "execution_count": 35
        }
      ]
    }
  ]
}