{
  "nbformat": 4,
  "nbformat_minor": 0,
  "metadata": {
    "colab": {
      "provenance": [],
      "collapsed_sections": []
    },
    "kernelspec": {
      "name": "python3",
      "display_name": "Python 3"
    },
    "language_info": {
      "name": "python"
    }
  },
  "cells": [
    {
      "cell_type": "markdown",
      "metadata": {
        "id": "M-gXnf2IRenG"
      },
      "source": [
        "# 분류와 군집화\n",
        "---\n",
        "* 출판사 : 생능 출판사( http://www.booksr.co.kr/ )\n",
        "* 저자 : 박동규, 강영민\n",
        "* 책의 소스코드 저장소 : https://github.com/dongupak/DataML\n",
        "* 안내 : 이 노트북은 책의 코드를 담고 있습니다.\n",
        "* 저작권 : 본 주피터 노트북 코드는 자유롭게 배포가능하지만 위의 출판사, 저서, 저자표기와 함께 배포해 주십시오.\n",
        "---"
      ]
    },
    {
      "cell_type": "markdown",
      "metadata": {
        "id": "8fn6ic0xRntQ"
      },
      "source": [
        "### k-NN 알고리즘에 사용할 견종의 표본 집합 시각화"
      ]
    },
    {
      "cell_type": "code",
      "metadata": {
        "id": "-V9dIzXAEt55",
        "colab": {
          "base_uri": "https://localhost:8080/",
          "height": 313
        },
        "outputId": "4b2a7e87-403d-4f64-c22f-4d7282687df4"
      },
      "source": [
        "import matplotlib.pyplot as plt\n",
        "\n",
        "# 닥스훈트의 길이와 높이 데이터\n",
        "dach_length = [55, 57, 64, 63, 58, 49, 54, 61]\n",
        "dach_height = [30, 31, 36, 30, 33, 25, 37, 34]\n",
        "# 진돗개의 길이와 높이 데이터\n",
        "jin_length = [56, 47, 56, 46, 49, 53, 52, 48]\n",
        "jin_height = [52, 52, 50, 53, 50, 53, 49, 54]\n",
        "\n",
        "plt.scatter(dach_length, dach_height, c='r', label='Dachshund')\n",
        "plt.scatter(jin_length, jin_height,c='b',marker='^', label='Jindo dog')\n",
        "\n",
        "plt.xlabel('Length')             \n",
        "plt.ylabel('Height')             \n",
        "plt.title(\"Dog size\")\n",
        "plt.legend(loc='upper right')"
      ],
      "execution_count": 3,
      "outputs": [
        {
          "output_type": "execute_result",
          "data": {
            "text/plain": [
              "<matplotlib.legend.Legend at 0x7f360254c990>"
            ]
          },
          "metadata": {},
          "execution_count": 3
        },
        {
          "output_type": "display_data",
          "data": {
            "text/plain": [
              "<Figure size 432x288 with 1 Axes>"
            ],
            "image/png": "[encoded data removed]"
          },
          "metadata": {
            "needs_background": "light"
          }
        }
      ]
    },
    {
      "cell_type": "markdown",
      "metadata": {
        "id": "XXE3iluGiBrr"
      },
      "source": [
        "### k-NN 분류기를 실행하자 "
      ]
    },
    {
      "cell_type": "code",
      "metadata": {
        "id": "xbknu2AdFZ9d",
        "colab": {
          "base_uri": "https://localhost:8080/",
          "height": 295
        },
        "outputId": "edbd4b24-dc88-4b1f-ecdd-471044355467"
      },
      "source": [
        "import matplotlib.pyplot as plt\n",
        "\n",
        "# 닥스훈트의 길이와 높이 데이터\n",
        "dach_length = [55, 57, 64, 63, 58, 49, 54, 61]\n",
        "dach_height = [30, 31, 36, 30, 33, 25, 37, 34]\n",
        "# 진돗개의 길이와 높이 데이터\n",
        "jin_length = [56, 47, 56, 46, 49, 53, 52, 48]\n",
        "jin_height = [52, 52, 50, 53, 50, 53, 49, 54]\n",
        "\n",
        "plt.scatter(dach_length, dach_height, c='r', label='Dachshund')\n",
        "plt.scatter(jin_length, jin_height,c='b',marker='^', label='Jindo dog')\n",
        "\n",
        "plt.xlabel('Length')             \n",
        "plt.ylabel('Height')             \n",
        "plt.title(\"Dog size\")\n",
        "plt.legend(loc='upper right')\n",
        "\n",
        "newdata_length = [59]    # 새로운 데이터의 길이\n",
        "newdata_height = [35]    # 새로운 데이터의 높이\n",
        "\n",
        "# 새 데이터의 표식은 오각형(pentagon)으로 설정하고, 레이블은 new Data로\n",
        "plt.scatter(newdata_length, newdata_height, s=100, marker='p',\\\n",
        "            c='g', label='new Data');"
      ],
      "execution_count": 4,
      "outputs": [
        {
          "output_type": "display_data",
          "data": {
            "text/plain": [
              "<Figure size 432x288 with 1 Axes>"
            ],
            "image/png": "[encoded data removed]"
          },
          "metadata": {
            "needs_background": "light"
          }
        }
      ]
    },
    {
      "cell_type": "code",
      "metadata": {
        "id": "edehmU4J9IUr",
        "colab": {
          "base_uri": "https://localhost:8080/"
        },
        "outputId": "56e6c289-741a-4f93-ef5d-c367e9556d87"
      },
      "source": [
        "import numpy as np\n",
        "from sklearn.neighbors import KNeighborsClassifier \n",
        "from sklearn import metrics \n",
        "\n",
        "# 닥스훈트의 길이와 높이 데이터\n",
        "dach_length = [55, 57, 64, 63, 58, 49, 54, 61]\n",
        "dach_height = [30, 31, 36, 30, 33, 25, 37, 34]\n",
        "# 진돗개의 길이와 높이 데이터\n",
        "jin_length = [56, 47, 56, 46, 49, 53, 52, 48]\n",
        "jin_height = [52, 52, 50, 53, 50, 53, 49, 54]\n",
        "\n",
        "d_data = np.column_stack((dach_length, dach_height))\n",
        "d_label = np.zeros(len(d_data))   # 닥스훈트는 0으로 레이블링\n",
        "j_data = np.column_stack((jin_length, jin_height))\n",
        "j_label = np.ones(len(j_data))   # 진돗개는 1로 레이블링\n",
        "\n",
        "newdata = [[59, 35]]\n",
        "\n",
        "dogs = np.concatenate((d_data, j_data))\n",
        "labels = np.concatenate((d_label, j_label))\n",
        "\n",
        "dog_classes = {0:'닥스훈트', 1:'진돗개'} \n",
        "\n",
        "k = 3     # k를 3으로 두고 kNN 분류기를 만들어 보자\n",
        "\n",
        "# 모델만드는파트\n",
        "knn = KNeighborsClassifier(n_neighbors = k) \n",
        "\n",
        "#학습시키는파트\n",
        "knn.fit(dogs, labels)\n",
        "\n",
        "#예측하는파트\n",
        "y_pred = knn.predict(newdata)\n",
        "print('데이터', newdata, ', 판정 결과:', dog_classes[y_pred[0]])"
      ],
      "execution_count": 5,
      "outputs": [
        {
          "output_type": "stream",
          "name": "stdout",
          "text": [
            "데이터 [[59, 35]] , 판정 결과: 닥스훈트\n"
          ]
        }
      ]
    },
    {
      "cell_type": "markdown",
      "metadata": {
        "id": "yR2ptIfUiXhm"
      },
      "source": [
        "#### 참고 코드 : kNN에서 이웃한 데이터를 얻는 코드"
      ]
    },
    {
      "cell_type": "code",
      "metadata": {
        "id": "VfmlF9iD96Bs",
        "colab": {
          "base_uri": "https://localhost:8080/",
          "height": 394
        },
        "outputId": "5c929203-109a-473a-c881-782f78923b59"
      },
      "source": [
        "import numpy as np\n",
        "from sklearn.neighbors import KNeighborsClassifier \n",
        "from sklearn import metrics \n",
        "import matplotlib.pyplot as plt\n",
        "\n",
        "# 닥스훈트의 길이와 높이 데이터\n",
        "dach_length = [55, 57, 64, 63, 58, 49, 54, 61]\n",
        "dach_height = [30, 31, 36, 30, 33, 25, 37, 34]\n",
        "# 진돗개의 길이와 높이 데이터\n",
        "jin_length = [56, 47, 56, 46, 49, 53, 52, 48]\n",
        "jin_height = [52, 52, 50, 53, 50, 53, 49, 54]\n",
        "\n",
        "d_data = np.column_stack((dach_length, dach_height))\n",
        "d_label = np.zeros(len(d_data))   # 닥스훈트는 0으로 레이블링\n",
        "j_data = np.column_stack((jin_length, jin_height))\n",
        "j_label = np.ones(len(j_data))   # 진돗개는 1로 레이블링\n",
        "\n",
        "newdata = [[59, 35]]\n",
        "\n",
        "dogs = np.concatenate((d_data, j_data))\n",
        "labels = np.concatenate((d_label, j_label))\n",
        "\n",
        "dog_classes = {0:'닥스훈트', 1:'진돗개'} \n",
        "\n",
        "k = 3     # k를 3으로 두고 kNN 분류기를 만들어 보자\n",
        "knn = KNeighborsClassifier(n_neighbors = k)\n",
        "knn.fit(dogs, labels)\n",
        "y_pred = knn.predict(newdata)\n",
        "\n",
        "distances, indexes = knn.kneighbors(newdata)\n",
        "#plt.scatter(train_input[indexes], train_target[indexes], marker='D')\n",
        "print('dist =', distances, 'indexes =', indexes, 'dogs[indexes]=', dogs[indexes])\n",
        "\n",
        "#이웃한 점을 표시해주는 함수\n",
        "def draw_neightbor(data, index, k):\n",
        "    print('data =', data.shape)\n",
        "    print('index =', index.shape)\n",
        "    print('k =', k)\n",
        "    for i in range(k):\n",
        "        plt.scatter(data[index][0][i][0], dogs[index][0][i][1], marker='D', color='orange', s=200, alpha=0.4)\n",
        "\n",
        "plt.scatter(59, 35, color = 'green', marker='^')\n",
        "plt.scatter(dach_length, dach_height, c='red', label='Dachshund')\n",
        "plt.scatter(jin_length, jin_height,c='blue',marker='^', label='Jindo dog')\n",
        "\n",
        "draw_neightbor(dogs, indexes, k)\n",
        "print('데이터', newdata, ', 판정 결과:', dog_classes[y_pred[0]])"
      ],
      "execution_count": 6,
      "outputs": [
        {
          "output_type": "stream",
          "name": "stdout",
          "text": [
            "dist = [[2.23606798 2.23606798 4.47213595]] indexes = [[4 7 1]] dogs[indexes]= [[[58 33]\n",
            "  [61 34]\n",
            "  [57 31]]]\n",
            "data = (16, 2)\n",
            "index = (1, 3)\n",
            "k = 3\n",
            "데이터 [[59, 35]] , 판정 결과: 닥스훈트\n"
          ]
        },
        {
          "output_type": "display_data",
          "data": {
            "text/plain": [
              "<Figure size 432x288 with 1 Axes>"
            ],
            "image/png": "[encoded data removed]"
          },
          "metadata": {
            "needs_background": "light"
          }
        }
      ]
    },
    {
      "cell_type": "code",
      "metadata": {
        "id": "c7IHgR5MPviJ",
        "colab": {
          "base_uri": "https://localhost:8080/"
        },
        "outputId": "9a0c1101-06f6-4412-9b30-756a60da6046"
      },
      "source": [
        "distances.shape"
      ],
      "execution_count": 7,
      "outputs": [
        {
          "output_type": "execute_result",
          "data": {
            "text/plain": [
              "(1, 3)"
            ]
          },
          "metadata": {},
          "execution_count": 7
        }
      ]
    },
    {
      "cell_type": "code",
      "metadata": {
        "id": "AjeR93WcPzgo",
        "colab": {
          "base_uri": "https://localhost:8080/"
        },
        "outputId": "79e4fe27-bf23-4476-b4bb-e9b9cb6368bd"
      },
      "source": [
        "indexes.shape"
      ],
      "execution_count": 8,
      "outputs": [
        {
          "output_type": "execute_result",
          "data": {
            "text/plain": [
              "(1, 3)"
            ]
          },
          "metadata": {},
          "execution_count": 8
        }
      ]
    },
    {
      "cell_type": "code",
      "metadata": {
        "id": "HKBZqGKE_Epa",
        "colab": {
          "base_uri": "https://localhost:8080/",
          "height": 313
        },
        "outputId": "f73797dc-1acf-4f01-82b4-5007935ece61"
      },
      "source": [
        "plt.scatter(dach_length, dach_height, c='red', label='Dachshund')\n",
        "plt.scatter(jin_length, jin_height,c='blue',marker='^', label='Jindo dog')\n",
        "\n",
        "plt.xlabel('Length')             \n",
        "plt.ylabel('Height')             \n",
        "plt.title(\"Dog size\")\n",
        "plt.legend(loc='upper right')\n",
        "\n",
        "newdata_length = [52]    # 새로운 데이터의 길이\n",
        "newdata_height = [42]    # 새로운 데이터의 높이\n",
        "\n",
        "newdata = [[52, 42]]\n",
        "\n",
        "# ...코드 생략\n",
        "# 새 데이터의 표식은 오각형(pentagon)으로 설정하고, 레이블은 new Data로\n",
        "plt.scatter(newdata_length, newdata_height, s=100, marker='p', c='green', label='new Data')"
      ],
      "execution_count": 9,
      "outputs": [
        {
          "output_type": "execute_result",
          "data": {
            "text/plain": [
              "<matplotlib.collections.PathCollection at 0x7f35f550ec50>"
            ]
          },
          "metadata": {},
          "execution_count": 9
        },
        {
          "output_type": "display_data",
          "data": {
            "text/plain": [
              "<Figure size 432x288 with 1 Axes>"
            ],
            "image/png": "[encoded data removed]"
          },
          "metadata": {
            "needs_background": "light"
          }
        }
      ]
    },
    {
      "cell_type": "code",
      "metadata": {
        "id": "oSQQBuTP_MTr",
        "colab": {
          "base_uri": "https://localhost:8080/"
        },
        "outputId": "ff3ef232-a5e2-4042-c61d-05007b6213fa"
      },
      "source": [
        "newdata = [[52, 42]]\n",
        "\n",
        "k = 1     # k를 1으로 두고 kNN 분류기를 만들어 보자\n",
        "knn = KNeighborsClassifier(n_neighbors = k) \n",
        "knn.fit(dogs, labels)\n",
        "y_pred = knn.predict(newdata)\n",
        "print('데이터', newdata, ', 판정 결과:', dog_classes[y_pred[0]])\n",
        "\n",
        "#k를 1로 두니까 닥스훈트..."
      ],
      "execution_count": 10,
      "outputs": [
        {
          "output_type": "stream",
          "name": "stdout",
          "text": [
            "데이터 [[52, 42]] , 판정 결과: 닥스훈트\n"
          ]
        }
      ]
    },
    {
      "cell_type": "code",
      "metadata": {
        "id": "11EfbwPQ_cY7",
        "colab": {
          "base_uri": "https://localhost:8080/",
          "height": 357
        },
        "outputId": "d5881e35-680f-4833-ab0e-0beb08dcafae"
      },
      "source": [
        "newdata = [[52, 42]]\n",
        "\n",
        "k = 5     # k를 5으로 두고 kNN 분류기를 만들어 보자\n",
        "knn = KNeighborsClassifier(n_neighbors = k) \n",
        "knn.fit(dogs, labels)\n",
        "y_pred = knn.predict(newdata)\n",
        "print('데이터', newdata, ', 판정 결과:', dog_classes[y_pred[0]])\n",
        "\n",
        "distances, indexes = knn.kneighbors(newdata)\n",
        "print('distances', distances, ', indexes:', indexes)\n",
        "plt.scatter(newdata_length, newdata_height, s=100, marker='p', c='green', label='new Data')\n",
        "plt.scatter(dach_length, dach_height, c='red', label='Dachshund')\n",
        "plt.scatter(jin_length, jin_height,c='blue',marker='^', label='Jindo dog')\n",
        "draw_neightbor(dogs, indexes, k)\n",
        "# 가까운곳 5개를 잡으니까 진돗개....."
      ],
      "execution_count": 11,
      "outputs": [
        {
          "output_type": "stream",
          "name": "stdout",
          "text": [
            "데이터 [[52, 42]] , 판정 결과: 진돗개\n",
            "distances [[ 5.38516481  7.          8.54400375  8.94427191 10.77032961]] , indexes: [[ 6 14 12 10  8]]\n",
            "data = (16, 2)\n",
            "index = (1, 5)\n",
            "k = 5\n"
          ]
        },
        {
          "output_type": "display_data",
          "data": {
            "text/plain": [
              "<Figure size 432x288 with 1 Axes>"
            ],
            "image/png": "[encoded data removed]"
          },
          "metadata": {
            "needs_background": "light"
          }
        }
      ]
    },
    {
      "cell_type": "code",
      "metadata": {
        "id": "NBDy9nyn_e2E",
        "colab": {
          "base_uri": "https://localhost:8080/"
        },
        "outputId": "10bf61ed-89aa-4159-d217-1fbc3d3e98bc"
      },
      "source": [
        "k = 9     # k를 9로 두고 kNN 분류기를 만들어 보자\n",
        "knn = KNeighborsClassifier(n_neighbors = k) \n",
        "knn.fit(dogs, labels)\n",
        "y_pred = knn.predict(newdata)\n",
        "print('데이터', newdata, ', 판정 결과:', dog_classes[y_pred[0]])"
      ],
      "execution_count": 12,
      "outputs": [
        {
          "output_type": "stream",
          "name": "stdout",
          "text": [
            "데이터 [[52, 42]] , 판정 결과: 진돗개\n"
          ]
        }
      ]
    },
    {
      "cell_type": "markdown",
      "metadata": {
        "id": "oM1V6WAQW59P"
      },
      "source": [
        "### k-NN 활용 예제 - 붓꽃 데이터 준비하기"
      ]
    },
    {
      "cell_type": "code",
      "metadata": {
        "id": "ecUN69tzW_mP",
        "colab": {
          "base_uri": "https://localhost:8080/"
        },
        "outputId": "1a492973-7810-414c-9b2b-77a41751e408"
      },
      "source": [
        "from sklearn.datasets import load_iris \n",
        "\n",
        "iris = load_iris() \n",
        "iris.data[:3]     # 최초 3개 데이터의 값을 출력"
      ],
      "execution_count": 13,
      "outputs": [
        {
          "output_type": "execute_result",
          "data": {
            "text/plain": [
              "array([[5.1, 3.5, 1.4, 0.2],\n",
              "       [4.9, 3. , 1.4, 0.2],\n",
              "       [4.7, 3.2, 1.3, 0.2]])"
            ]
          },
          "metadata": {},
          "execution_count": 13
        }
      ]
    },
    {
      "cell_type": "code",
      "metadata": {
        "id": "9oipPlRNXDQ6",
        "colab": {
          "base_uri": "https://localhost:8080/"
        },
        "outputId": "a4f48830-fa1c-435a-be11-588070997a1f"
      },
      "source": [
        "print('iris 데이터의 형태:', iris.data.shape)\n",
        "# 150개의 붓꽃, 4개의 붓꽃의 길이(꽃 길이, 넓이, 꽃받침의 길이, 넓이)"
      ],
      "execution_count": 14,
      "outputs": [
        {
          "output_type": "stream",
          "name": "stdout",
          "text": [
            "iris 데이터의 형태: (150, 4)\n"
          ]
        }
      ]
    },
    {
      "cell_type": "code",
      "metadata": {
        "id": "TBPwktfMXGiH",
        "colab": {
          "base_uri": "https://localhost:8080/"
        },
        "outputId": "223d3464-97a6-4788-a888-d1b6d9fc2910"
      },
      "source": [
        "print('iris 데이터의 속성들:', iris.feature_names) #열제목들..."
      ],
      "execution_count": 15,
      "outputs": [
        {
          "output_type": "stream",
          "name": "stdout",
          "text": [
            "iris 데이터의 속성들: ['sepal length (cm)', 'sepal width (cm)', 'petal length (cm)', 'petal width (cm)']\n"
          ]
        }
      ]
    },
    {
      "cell_type": "code",
      "metadata": {
        "id": "guJiD6qoXJw_",
        "colab": {
          "base_uri": "https://localhost:8080/"
        },
        "outputId": "1fe52040-cd24-4275-86d5-925bdaa61584"
      },
      "source": [
        "print('iris 데이터의 레이블:', iris.target)"
      ],
      "execution_count": 16,
      "outputs": [
        {
          "output_type": "stream",
          "name": "stdout",
          "text": [
            "iris 데이터의 레이블: [0 0 0 0 0 0 0 0 0 0 0 0 0 0 0 0 0 0 0 0 0 0 0 0 0 0 0 0 0 0 0 0 0 0 0 0 0\n",
            " 0 0 0 0 0 0 0 0 0 0 0 0 0 1 1 1 1 1 1 1 1 1 1 1 1 1 1 1 1 1 1 1 1 1 1 1 1\n",
            " 1 1 1 1 1 1 1 1 1 1 1 1 1 1 1 1 1 1 1 1 1 1 1 1 1 1 2 2 2 2 2 2 2 2 2 2 2\n",
            " 2 2 2 2 2 2 2 2 2 2 2 2 2 2 2 2 2 2 2 2 2 2 2 2 2 2 2 2 2 2 2 2 2 2 2 2 2\n",
            " 2 2]\n"
          ]
        }
      ]
    },
    {
      "cell_type": "code",
      "metadata": {
        "id": "qu6ohsJAXMlJ",
        "colab": {
          "base_uri": "https://localhost:8080/",
          "height": 206
        },
        "outputId": "58f8c639-55b3-4139-d801-81cafcf84d10"
      },
      "source": [
        "import pandas as pd\n",
        "\n",
        "iris_df = pd.DataFrame(iris.data, columns=iris.feature_names)\n",
        "iris_df['target'] = pd.Series(iris.target)\n",
        "iris_df.head()"
      ],
      "execution_count": 17,
      "outputs": [
        {
          "output_type": "execute_result",
          "data": {
            "text/plain": [
              "   sepal length (cm)  sepal width (cm)  petal length (cm)  petal width (cm)  \\\n",
              "0                5.1               3.5                1.4               0.2   \n",
              "1                4.9               3.0                1.4               0.2   \n",
              "2                4.7               3.2                1.3               0.2   \n",
              "3                4.6               3.1                1.5               0.2   \n",
              "4                5.0               3.6                1.4               0.2   \n",
              "\n",
              "   target  \n",
              "0       0  \n",
              "1       0  \n",
              "2       0  \n",
              "3       0  \n",
              "4       0  "
            ],
            "text/html": [
              "\n",
              "  <div id=\"df-c3f91a4b-10d7-4d5c-a19f-68b31e594372\">\n",
              "    <div class=\"colab-df-container\">\n",
              "      <div>\n",
              "<style scoped>\n",
              "    .dataframe tbody tr th:only-of-type {\n",
              "        vertical-align: middle;\n",
              "    }\n",
              "\n",
              "    .dataframe tbody tr th {\n",
              "        vertical-align: top;\n",
              "    }\n",
              "\n",
              "    .dataframe thead th {\n",
              "        text-align: right;\n",
              "    }\n",
              "</style>\n",
              "<table border=\"1\" class=\"dataframe\">\n",
              "  <thead>\n",
              "    <tr style=\"text-align: right;\">\n",
              "      <th></th>\n",
              "      <th>sepal length (cm)</th>\n",
              "      <th>sepal width (cm)</th>\n",
              "      <th>petal length (cm)</th>\n",
              "      <th>petal width (cm)</th>\n",
              "      <th>target</th>\n",
              "    </tr>\n",
              "  </thead>\n",
              "  <tbody>\n",
              "    <tr>\n",
              "      <th>0</th>\n",
              "      <td>5.1</td>\n",
              "      <td>3.5</td>\n",
              "      <td>1.4</td>\n",
              "      <td>0.2</td>\n",
              "      <td>0</td>\n",
              "    </tr>\n",
              "    <tr>\n",
              "      <th>1</th>\n",
              "      <td>4.9</td>\n",
              "      <td>3.0</td>\n",
              "      <td>1.4</td>\n",
              "      <td>0.2</td>\n",
              "      <td>0</td>\n",
              "    </tr>\n",
              "    <tr>\n",
              "      <th>2</th>\n",
              "      <td>4.7</td>\n",
              "      <td>3.2</td>\n",
              "      <td>1.3</td>\n",
              "      <td>0.2</td>\n",
              "      <td>0</td>\n",
              "    </tr>\n",
              "    <tr>\n",
              "      <th>3</th>\n",
              "      <td>4.6</td>\n",
              "      <td>3.1</td>\n",
              "      <td>1.5</td>\n",
              "      <td>0.2</td>\n",
              "      <td>0</td>\n",
              "    </tr>\n",
              "    <tr>\n",
              "      <th>4</th>\n",
              "      <td>5.0</td>\n",
              "      <td>3.6</td>\n",
              "      <td>1.4</td>\n",
              "      <td>0.2</td>\n",
              "      <td>0</td>\n",
              "    </tr>\n",
              "  </tbody>\n",
              "</table>\n",
              "</div>\n",
              "      <button class=\"colab-df-convert\" onclick=\"convertToInteractive('df-c3f91a4b-10d7-4d5c-a19f-68b31e594372')\"\n",
              "              title=\"Convert this dataframe to an interactive table.\"\n",
              "              style=\"display:none;\">\n",
              "        \n",
              "  <svg xmlns=\"http://www.w3.org/2000/svg\" height=\"24px\"viewBox=\"0 0 24 24\"\n",
              "       width=\"24px\">\n",
              "    <path d=\"M0 0h24v24H0V0z\" fill=\"none\"/>\n",
              "    <path d=\"M18.56 5.44l.94 2.06.94-2.06 2.06-.94-2.06-.94-.94-2.06-.94 2.06-2.06.94zm-11 1L8.5 8.5l.94-2.06 2.06-.94-2.06-.94L8.5 2.5l-.94 2.06-2.06.94zm10 10l.94 2.06.94-2.06 2.06-.94-2.06-.94-.94-2.06-.94 2.06-2.06.94z\"/><path d=\"M17.41 7.96l-1.37-1.37c-.4-.4-.92-.59-1.43-.59-.52 0-1.04.2-1.43.59L10.3 9.45l-7.72 7.72c-.78.78-.78 2.05 0 2.83L4 21.41c.39.39.9.59 1.41.59.51 0 1.02-.2 1.41-.59l7.78-7.78 2.81-2.81c.8-.78.8-2.07 0-2.86zM5.41 20L4 18.59l7.72-7.72 1.47 1.35L5.41 20z\"/>\n",
              "  </svg>\n",
              "      </button>\n",
              "      \n",
              "  <style>\n",
              "    .colab-df-container {\n",
              "      display:flex;\n",
              "      flex-wrap:wrap;\n",
              "      gap: 12px;\n",
              "    }\n",
              "\n",
              "    .colab-df-convert {\n",
              "      background-color: #E8F0FE;\n",
              "      border: none;\n",
              "      border-radius: 50%;\n",
              "      cursor: pointer;\n",
              "      display: none;\n",
              "      fill: #1967D2;\n",
              "      height: 32px;\n",
              "      padding: 0 0 0 0;\n",
              "      width: 32px;\n",
              "    }\n",
              "\n",
              "    .colab-df-convert:hover {\n",
              "      background-color: #E2EBFA;\n",
              "      box-shadow: 0px 1px 2px rgba(60, 64, 67, 0.3), 0px 1px 3px 1px rgba(60, 64, 67, 0.15);\n",
              "      fill: #174EA6;\n",
              "    }\n",
              "\n",
              "    [theme=dark] .colab-df-convert {\n",
              "      background-color: #3B4455;\n",
              "      fill: #D2E3FC;\n",
              "    }\n",
              "\n",
              "    [theme=dark] .colab-df-convert:hover {\n",
              "      background-color: #434B5C;\n",
              "      box-shadow: 0px 1px 3px 1px rgba(0, 0, 0, 0.15);\n",
              "      filter: drop-shadow(0px 1px 2px rgba(0, 0, 0, 0.3));\n",
              "      fill: #FFFFFF;\n",
              "    }\n",
              "  </style>\n",
              "\n",
              "      <script>\n",
              "        const buttonEl =\n",
              "          document.querySelector('#df-c3f91a4b-10d7-4d5c-a19f-68b31e594372 button.colab-df-convert');\n",
              "        buttonEl.style.display =\n",
              "          google.colab.kernel.accessAllowed ? 'block' : 'none';\n",
              "\n",
              "        async function convertToInteractive(key) {\n",
              "          const element = document.querySelector('#df-c3f91a4b-10d7-4d5c-a19f-68b31e594372');\n",
              "          const dataTable =\n",
              "            await google.colab.kernel.invokeFunction('convertToInteractive',\n",
              "                                                     [key], {});\n",
              "          if (!dataTable) return;\n",
              "\n",
              "          const docLinkHtml = 'Like what you see? Visit the ' +\n",
              "            '<a target=\"_blank\" href=https://colab.research.google.com/notebooks/data_table.ipynb>data table notebook</a>'\n",
              "            + ' to learn more about interactive tables.';\n",
              "          element.innerHTML = '';\n",
              "          dataTable['output_type'] = 'display_data';\n",
              "          await google.colab.output.renderOutput(dataTable, element);\n",
              "          const docLink = document.createElement('div');\n",
              "          docLink.innerHTML = docLinkHtml;\n",
              "          element.appendChild(docLink);\n",
              "        }\n",
              "      </script>\n",
              "    </div>\n",
              "  </div>\n",
              "  "
            ]
          },
          "metadata": {},
          "execution_count": 17
        }
      ]
    },
    {
      "cell_type": "markdown",
      "metadata": {
        "id": "sryOk3GEXVZE"
      },
      "source": [
        "### k-NN 활용 예제 - 붓꽃 데이터로 학습하기"
      ]
    },
    {
      "cell_type": "code",
      "metadata": {
        "id": "98sDYZkJSxtz",
        "colab": {
          "base_uri": "https://localhost:8080/",
          "height": 300
        },
        "outputId": "c3476851-addb-4eee-a6eb-acf2c3950ad3"
      },
      "source": [
        "iris_df.describe() #자료의 기본통계"
      ],
      "execution_count": 18,
      "outputs": [
        {
          "output_type": "execute_result",
          "data": {
            "text/plain": [
              "       sepal length (cm)  sepal width (cm)  petal length (cm)  \\\n",
              "count         150.000000        150.000000         150.000000   \n",
              "mean            5.843333          3.057333           3.758000   \n",
              "std             0.828066          0.435866           1.765298   \n",
              "min             4.300000          2.000000           1.000000   \n",
              "25%             5.100000          2.800000           1.600000   \n",
              "50%             5.800000          3.000000           4.350000   \n",
              "75%             6.400000          3.300000           5.100000   \n",
              "max             7.900000          4.400000           6.900000   \n",
              "\n",
              "       petal width (cm)      target  \n",
              "count        150.000000  150.000000  \n",
              "mean           1.199333    1.000000  \n",
              "std            0.762238    0.819232  \n",
              "min            0.100000    0.000000  \n",
              "25%            0.300000    0.000000  \n",
              "50%            1.300000    1.000000  \n",
              "75%            1.800000    2.000000  \n",
              "max            2.500000    2.000000  "
            ],
            "text/html": [
              "\n",
              "  <div id=\"df-ce340620-3e8e-4b2f-836f-77cd9256a060\">\n",
              "    <div class=\"colab-df-container\">\n",
              "      <div>\n",
              "<style scoped>\n",
              "    .dataframe tbody tr th:only-of-type {\n",
              "        vertical-align: middle;\n",
              "    }\n",
              "\n",
              "    .dataframe tbody tr th {\n",
              "        vertical-align: top;\n",
              "    }\n",
              "\n",
              "    .dataframe thead th {\n",
              "        text-align: right;\n",
              "    }\n",
              "</style>\n",
              "<table border=\"1\" class=\"dataframe\">\n",
              "  <thead>\n",
              "    <tr style=\"text-align: right;\">\n",
              "      <th></th>\n",
              "      <th>sepal length (cm)</th>\n",
              "      <th>sepal width (cm)</th>\n",
              "      <th>petal length (cm)</th>\n",
              "      <th>petal width (cm)</th>\n",
              "      <th>target</th>\n",
              "    </tr>\n",
              "  </thead>\n",
              "  <tbody>\n",
              "    <tr>\n",
              "      <th>count</th>\n",
              "      <td>150.000000</td>\n",
              "      <td>150.000000</td>\n",
              "      <td>150.000000</td>\n",
              "      <td>150.000000</td>\n",
              "      <td>150.000000</td>\n",
              "    </tr>\n",
              "    <tr>\n",
              "      <th>mean</th>\n",
              "      <td>5.843333</td>\n",
              "      <td>3.057333</td>\n",
              "      <td>3.758000</td>\n",
              "      <td>1.199333</td>\n",
              "      <td>1.000000</td>\n",
              "    </tr>\n",
              "    <tr>\n",
              "      <th>std</th>\n",
              "      <td>0.828066</td>\n",
              "      <td>0.435866</td>\n",
              "      <td>1.765298</td>\n",
              "      <td>0.762238</td>\n",
              "      <td>0.819232</td>\n",
              "    </tr>\n",
              "    <tr>\n",
              "      <th>min</th>\n",
              "      <td>4.300000</td>\n",
              "      <td>2.000000</td>\n",
              "      <td>1.000000</td>\n",
              "      <td>0.100000</td>\n",
              "      <td>0.000000</td>\n",
              "    </tr>\n",
              "    <tr>\n",
              "      <th>25%</th>\n",
              "      <td>5.100000</td>\n",
              "      <td>2.800000</td>\n",
              "      <td>1.600000</td>\n",
              "      <td>0.300000</td>\n",
              "      <td>0.000000</td>\n",
              "    </tr>\n",
              "    <tr>\n",
              "      <th>50%</th>\n",
              "      <td>5.800000</td>\n",
              "      <td>3.000000</td>\n",
              "      <td>4.350000</td>\n",
              "      <td>1.300000</td>\n",
              "      <td>1.000000</td>\n",
              "    </tr>\n",
              "    <tr>\n",
              "      <th>75%</th>\n",
              "      <td>6.400000</td>\n",
              "      <td>3.300000</td>\n",
              "      <td>5.100000</td>\n",
              "      <td>1.800000</td>\n",
              "      <td>2.000000</td>\n",
              "    </tr>\n",
              "    <tr>\n",
              "      <th>max</th>\n",
              "      <td>7.900000</td>\n",
              "      <td>4.400000</td>\n",
              "      <td>6.900000</td>\n",
              "      <td>2.500000</td>\n",
              "      <td>2.000000</td>\n",
              "    </tr>\n",
              "  </tbody>\n",
              "</table>\n",
              "</div>\n",
              "      <button class=\"colab-df-convert\" onclick=\"convertToInteractive('df-ce340620-3e8e-4b2f-836f-77cd9256a060')\"\n",
              "              title=\"Convert this dataframe to an interactive table.\"\n",
              "              style=\"display:none;\">\n",
              "        \n",
              "  <svg xmlns=\"http://www.w3.org/2000/svg\" height=\"24px\"viewBox=\"0 0 24 24\"\n",
              "       width=\"24px\">\n",
              "    <path d=\"M0 0h24v24H0V0z\" fill=\"none\"/>\n",
              "    <path d=\"M18.56 5.44l.94 2.06.94-2.06 2.06-.94-2.06-.94-.94-2.06-.94 2.06-2.06.94zm-11 1L8.5 8.5l.94-2.06 2.06-.94-2.06-.94L8.5 2.5l-.94 2.06-2.06.94zm10 10l.94 2.06.94-2.06 2.06-.94-2.06-.94-.94-2.06-.94 2.06-2.06.94z\"/><path d=\"M17.41 7.96l-1.37-1.37c-.4-.4-.92-.59-1.43-.59-.52 0-1.04.2-1.43.59L10.3 9.45l-7.72 7.72c-.78.78-.78 2.05 0 2.83L4 21.41c.39.39.9.59 1.41.59.51 0 1.02-.2 1.41-.59l7.78-7.78 2.81-2.81c.8-.78.8-2.07 0-2.86zM5.41 20L4 18.59l7.72-7.72 1.47 1.35L5.41 20z\"/>\n",
              "  </svg>\n",
              "      </button>\n",
              "      \n",
              "  <style>\n",
              "    .colab-df-container {\n",
              "      display:flex;\n",
              "      flex-wrap:wrap;\n",
              "      gap: 12px;\n",
              "    }\n",
              "\n",
              "    .colab-df-convert {\n",
              "      background-color: #E8F0FE;\n",
              "      border: none;\n",
              "      border-radius: 50%;\n",
              "      cursor: pointer;\n",
              "      display: none;\n",
              "      fill: #1967D2;\n",
              "      height: 32px;\n",
              "      padding: 0 0 0 0;\n",
              "      width: 32px;\n",
              "    }\n",
              "\n",
              "    .colab-df-convert:hover {\n",
              "      background-color: #E2EBFA;\n",
              "      box-shadow: 0px 1px 2px rgba(60, 64, 67, 0.3), 0px 1px 3px 1px rgba(60, 64, 67, 0.15);\n",
              "      fill: #174EA6;\n",
              "    }\n",
              "\n",
              "    [theme=dark] .colab-df-convert {\n",
              "      background-color: #3B4455;\n",
              "      fill: #D2E3FC;\n",
              "    }\n",
              "\n",
              "    [theme=dark] .colab-df-convert:hover {\n",
              "      background-color: #434B5C;\n",
              "      box-shadow: 0px 1px 3px 1px rgba(0, 0, 0, 0.15);\n",
              "      filter: drop-shadow(0px 1px 2px rgba(0, 0, 0, 0.3));\n",
              "      fill: #FFFFFF;\n",
              "    }\n",
              "  </style>\n",
              "\n",
              "      <script>\n",
              "        const buttonEl =\n",
              "          document.querySelector('#df-ce340620-3e8e-4b2f-836f-77cd9256a060 button.colab-df-convert');\n",
              "        buttonEl.style.display =\n",
              "          google.colab.kernel.accessAllowed ? 'block' : 'none';\n",
              "\n",
              "        async function convertToInteractive(key) {\n",
              "          const element = document.querySelector('#df-ce340620-3e8e-4b2f-836f-77cd9256a060');\n",
              "          const dataTable =\n",
              "            await google.colab.kernel.invokeFunction('convertToInteractive',\n",
              "                                                     [key], {});\n",
              "          if (!dataTable) return;\n",
              "\n",
              "          const docLinkHtml = 'Like what you see? Visit the ' +\n",
              "            '<a target=\"_blank\" href=https://colab.research.google.com/notebooks/data_table.ipynb>data table notebook</a>'\n",
              "            + ' to learn more about interactive tables.';\n",
              "          element.innerHTML = '';\n",
              "          dataTable['output_type'] = 'display_data';\n",
              "          await google.colab.output.renderOutput(dataTable, element);\n",
              "          const docLink = document.createElement('div');\n",
              "          docLink.innerHTML = docLinkHtml;\n",
              "          element.appendChild(docLink);\n",
              "        }\n",
              "      </script>\n",
              "    </div>\n",
              "  </div>\n",
              "  "
            ]
          },
          "metadata": {},
          "execution_count": 18
        }
      ]
    },
    {
      "cell_type": "code",
      "metadata": {
        "id": "BIGJMiM0Xae_",
        "colab": {
          "base_uri": "https://localhost:8080/"
        },
        "outputId": "8962e98c-c3d4-4d6a-ce78-7324ef25f7fb"
      },
      "source": [
        "iris_df['target'].value_counts()"
      ],
      "execution_count": 19,
      "outputs": [
        {
          "output_type": "execute_result",
          "data": {
            "text/plain": [
              "0    50\n",
              "1    50\n",
              "2    50\n",
              "Name: target, dtype: int64"
            ]
          },
          "metadata": {},
          "execution_count": 19
        }
      ]
    },
    {
      "cell_type": "code",
      "metadata": {
        "id": "7hX19zQNXc_c",
        "colab": {
          "base_uri": "https://localhost:8080/"
        },
        "outputId": "84d410b4-f27d-42a0-e9f7-75780fc867a5"
      },
      "source": [
        "iris_df.values\n",
        "#150줄이 존재하고 있드앙..."
      ],
      "execution_count": 20,
      "outputs": [
        {
          "output_type": "execute_result",
          "data": {
            "text/plain": [
              "array([[5.1, 3.5, 1.4, 0.2, 0. ],\n",
              "       [4.9, 3. , 1.4, 0.2, 0. ],\n",
              "       [4.7, 3.2, 1.3, 0.2, 0. ],\n",
              "       [4.6, 3.1, 1.5, 0.2, 0. ],\n",
              "       [5. , 3.6, 1.4, 0.2, 0. ],\n",
              "       [5.4, 3.9, 1.7, 0.4, 0. ],\n",
              "       [4.6, 3.4, 1.4, 0.3, 0. ],\n",
              "       [5. , 3.4, 1.5, 0.2, 0. ],\n",
              "       [4.4, 2.9, 1.4, 0.2, 0. ],\n",
              "       [4.9, 3.1, 1.5, 0.1, 0. ],\n",
              "       [5.4, 3.7, 1.5, 0.2, 0. ],\n",
              "       [4.8, 3.4, 1.6, 0.2, 0. ],\n",
              "       [4.8, 3. , 1.4, 0.1, 0. ],\n",
              "       [4.3, 3. , 1.1, 0.1, 0. ],\n",
              "       [5.8, 4. , 1.2, 0.2, 0. ],\n",
              "       [5.7, 4.4, 1.5, 0.4, 0. ],\n",
              "       [5.4, 3.9, 1.3, 0.4, 0. ],\n",
              "       [5.1, 3.5, 1.4, 0.3, 0. ],\n",
              "       [5.7, 3.8, 1.7, 0.3, 0. ],\n",
              "       [5.1, 3.8, 1.5, 0.3, 0. ],\n",
              "       [5.4, 3.4, 1.7, 0.2, 0. ],\n",
              "       [5.1, 3.7, 1.5, 0.4, 0. ],\n",
              "       [4.6, 3.6, 1. , 0.2, 0. ],\n",
              "       [5.1, 3.3, 1.7, 0.5, 0. ],\n",
              "       [4.8, 3.4, 1.9, 0.2, 0. ],\n",
              "       [5. , 3. , 1.6, 0.2, 0. ],\n",
              "       [5. , 3.4, 1.6, 0.4, 0. ],\n",
              "       [5.2, 3.5, 1.5, 0.2, 0. ],\n",
              "       [5.2, 3.4, 1.4, 0.2, 0. ],\n",
              "       [4.7, 3.2, 1.6, 0.2, 0. ],\n",
              "       [4.8, 3.1, 1.6, 0.2, 0. ],\n",
              "       [5.4, 3.4, 1.5, 0.4, 0. ],\n",
              "       [5.2, 4.1, 1.5, 0.1, 0. ],\n",
              "       [5.5, 4.2, 1.4, 0.2, 0. ],\n",
              "       [4.9, 3.1, 1.5, 0.2, 0. ],\n",
              "       [5. , 3.2, 1.2, 0.2, 0. ],\n",
              "       [5.5, 3.5, 1.3, 0.2, 0. ],\n",
              "       [4.9, 3.6, 1.4, 0.1, 0. ],\n",
              "       [4.4, 3. , 1.3, 0.2, 0. ],\n",
              "       [5.1, 3.4, 1.5, 0.2, 0. ],\n",
              "       [5. , 3.5, 1.3, 0.3, 0. ],\n",
              "       [4.5, 2.3, 1.3, 0.3, 0. ],\n",
              "       [4.4, 3.2, 1.3, 0.2, 0. ],\n",
              "       [5. , 3.5, 1.6, 0.6, 0. ],\n",
              "       [5.1, 3.8, 1.9, 0.4, 0. ],\n",
              "       [4.8, 3. , 1.4, 0.3, 0. ],\n",
              "       [5.1, 3.8, 1.6, 0.2, 0. ],\n",
              "       [4.6, 3.2, 1.4, 0.2, 0. ],\n",
              "       [5.3, 3.7, 1.5, 0.2, 0. ],\n",
              "       [5. , 3.3, 1.4, 0.2, 0. ],\n",
              "       [7. , 3.2, 4.7, 1.4, 1. ],\n",
              "       [6.4, 3.2, 4.5, 1.5, 1. ],\n",
              "       [6.9, 3.1, 4.9, 1.5, 1. ],\n",
              "       [5.5, 2.3, 4. , 1.3, 1. ],\n",
              "       [6.5, 2.8, 4.6, 1.5, 1. ],\n",
              "       [5.7, 2.8, 4.5, 1.3, 1. ],\n",
              "       [6.3, 3.3, 4.7, 1.6, 1. ],\n",
              "       [4.9, 2.4, 3.3, 1. , 1. ],\n",
              "       [6.6, 2.9, 4.6, 1.3, 1. ],\n",
              "       [5.2, 2.7, 3.9, 1.4, 1. ],\n",
              "       [5. , 2. , 3.5, 1. , 1. ],\n",
              "       [5.9, 3. , 4.2, 1.5, 1. ],\n",
              "       [6. , 2.2, 4. , 1. , 1. ],\n",
              "       [6.1, 2.9, 4.7, 1.4, 1. ],\n",
              "       [5.6, 2.9, 3.6, 1.3, 1. ],\n",
              "       [6.7, 3.1, 4.4, 1.4, 1. ],\n",
              "       [5.6, 3. , 4.5, 1.5, 1. ],\n",
              "       [5.8, 2.7, 4.1, 1. , 1. ],\n",
              "       [6.2, 2.2, 4.5, 1.5, 1. ],\n",
              "       [5.6, 2.5, 3.9, 1.1, 1. ],\n",
              "       [5.9, 3.2, 4.8, 1.8, 1. ],\n",
              "       [6.1, 2.8, 4. , 1.3, 1. ],\n",
              "       [6.3, 2.5, 4.9, 1.5, 1. ],\n",
              "       [6.1, 2.8, 4.7, 1.2, 1. ],\n",
              "       [6.4, 2.9, 4.3, 1.3, 1. ],\n",
              "       [6.6, 3. , 4.4, 1.4, 1. ],\n",
              "       [6.8, 2.8, 4.8, 1.4, 1. ],\n",
              "       [6.7, 3. , 5. , 1.7, 1. ],\n",
              "       [6. , 2.9, 4.5, 1.5, 1. ],\n",
              "       [5.7, 2.6, 3.5, 1. , 1. ],\n",
              "       [5.5, 2.4, 3.8, 1.1, 1. ],\n",
              "       [5.5, 2.4, 3.7, 1. , 1. ],\n",
              "       [5.8, 2.7, 3.9, 1.2, 1. ],\n",
              "       [6. , 2.7, 5.1, 1.6, 1. ],\n",
              "       [5.4, 3. , 4.5, 1.5, 1. ],\n",
              "       [6. , 3.4, 4.5, 1.6, 1. ],\n",
              "       [6.7, 3.1, 4.7, 1.5, 1. ],\n",
              "       [6.3, 2.3, 4.4, 1.3, 1. ],\n",
              "       [5.6, 3. , 4.1, 1.3, 1. ],\n",
              "       [5.5, 2.5, 4. , 1.3, 1. ],\n",
              "       [5.5, 2.6, 4.4, 1.2, 1. ],\n",
              "       [6.1, 3. , 4.6, 1.4, 1. ],\n",
              "       [5.8, 2.6, 4. , 1.2, 1. ],\n",
              "       [5. , 2.3, 3.3, 1. , 1. ],\n",
              "       [5.6, 2.7, 4.2, 1.3, 1. ],\n",
              "       [5.7, 3. , 4.2, 1.2, 1. ],\n",
              "       [5.7, 2.9, 4.2, 1.3, 1. ],\n",
              "       [6.2, 2.9, 4.3, 1.3, 1. ],\n",
              "       [5.1, 2.5, 3. , 1.1, 1. ],\n",
              "       [5.7, 2.8, 4.1, 1.3, 1. ],\n",
              "       [6.3, 3.3, 6. , 2.5, 2. ],\n",
              "       [5.8, 2.7, 5.1, 1.9, 2. ],\n",
              "       [7.1, 3. , 5.9, 2.1, 2. ],\n",
              "       [6.3, 2.9, 5.6, 1.8, 2. ],\n",
              "       [6.5, 3. , 5.8, 2.2, 2. ],\n",
              "       [7.6, 3. , 6.6, 2.1, 2. ],\n",
              "       [4.9, 2.5, 4.5, 1.7, 2. ],\n",
              "       [7.3, 2.9, 6.3, 1.8, 2. ],\n",
              "       [6.7, 2.5, 5.8, 1.8, 2. ],\n",
              "       [7.2, 3.6, 6.1, 2.5, 2. ],\n",
              "       [6.5, 3.2, 5.1, 2. , 2. ],\n",
              "       [6.4, 2.7, 5.3, 1.9, 2. ],\n",
              "       [6.8, 3. , 5.5, 2.1, 2. ],\n",
              "       [5.7, 2.5, 5. , 2. , 2. ],\n",
              "       [5.8, 2.8, 5.1, 2.4, 2. ],\n",
              "       [6.4, 3.2, 5.3, 2.3, 2. ],\n",
              "       [6.5, 3. , 5.5, 1.8, 2. ],\n",
              "       [7.7, 3.8, 6.7, 2.2, 2. ],\n",
              "       [7.7, 2.6, 6.9, 2.3, 2. ],\n",
              "       [6. , 2.2, 5. , 1.5, 2. ],\n",
              "       [6.9, 3.2, 5.7, 2.3, 2. ],\n",
              "       [5.6, 2.8, 4.9, 2. , 2. ],\n",
              "       [7.7, 2.8, 6.7, 2. , 2. ],\n",
              "       [6.3, 2.7, 4.9, 1.8, 2. ],\n",
              "       [6.7, 3.3, 5.7, 2.1, 2. ],\n",
              "       [7.2, 3.2, 6. , 1.8, 2. ],\n",
              "       [6.2, 2.8, 4.8, 1.8, 2. ],\n",
              "       [6.1, 3. , 4.9, 1.8, 2. ],\n",
              "       [6.4, 2.8, 5.6, 2.1, 2. ],\n",
              "       [7.2, 3. , 5.8, 1.6, 2. ],\n",
              "       [7.4, 2.8, 6.1, 1.9, 2. ],\n",
              "       [7.9, 3.8, 6.4, 2. , 2. ],\n",
              "       [6.4, 2.8, 5.6, 2.2, 2. ],\n",
              "       [6.3, 2.8, 5.1, 1.5, 2. ],\n",
              "       [6.1, 2.6, 5.6, 1.4, 2. ],\n",
              "       [7.7, 3. , 6.1, 2.3, 2. ],\n",
              "       [6.3, 3.4, 5.6, 2.4, 2. ],\n",
              "       [6.4, 3.1, 5.5, 1.8, 2. ],\n",
              "       [6. , 3. , 4.8, 1.8, 2. ],\n",
              "       [6.9, 3.1, 5.4, 2.1, 2. ],\n",
              "       [6.7, 3.1, 5.6, 2.4, 2. ],\n",
              "       [6.9, 3.1, 5.1, 2.3, 2. ],\n",
              "       [5.8, 2.7, 5.1, 1.9, 2. ],\n",
              "       [6.8, 3.2, 5.9, 2.3, 2. ],\n",
              "       [6.7, 3.3, 5.7, 2.5, 2. ],\n",
              "       [6.7, 3. , 5.2, 2.3, 2. ],\n",
              "       [6.3, 2.5, 5. , 1.9, 2. ],\n",
              "       [6.5, 3. , 5.2, 2. , 2. ],\n",
              "       [6.2, 3.4, 5.4, 2.3, 2. ],\n",
              "       [5.9, 3. , 5.1, 1.8, 2. ]])"
            ]
          },
          "metadata": {},
          "execution_count": 20
        }
      ]
    },
    {
      "cell_type": "code",
      "metadata": {
        "id": "4fsQ3gFAXign"
      },
      "source": [
        "X = iris_df.iloc[:, :4]\n",
        "y = iris_df.iloc[:, -1]"
      ],
      "execution_count": 21,
      "outputs": []
    },
    {
      "cell_type": "code",
      "metadata": {
        "id": "BMHvnJPkXqEu",
        "colab": {
          "base_uri": "https://localhost:8080/"
        },
        "outputId": "882ff033-80b2-4bfb-c650-97104311ace8"
      },
      "source": [
        "from sklearn.model_selection import train_test_split \n",
        "from sklearn.neighbors import KNeighborsClassifier \n",
        "from sklearn import metrics \n",
        "\n",
        "#knn을 사용\n",
        "\n",
        "def iris_knn(X, y, k):\n",
        "    X_train,X_test,y_train,y_test = train_test_split(X, y, test_size=0.3)\n",
        "    knn = KNeighborsClassifier(n_neighbors = k) \n",
        "    #모델을 학습시키는거는 train 값으로 시키고\n",
        "    knn.fit(X_train, y_train) \n",
        "    #예상하는거는 남겨뒀던 30프로의 test값으로 시킨다.\n",
        "    y_pred = knn.predict(X_test) \n",
        "    return metrics.accuracy_score(y_test, y_pred) \n",
        "\n",
        "k = 3\n",
        "scores = iris_knn(X, y, k)\n",
        "print('n_neighbors가 {0:d}일때 정확도: {1:.3f}'.format(k, scores))"
      ],
      "execution_count": 22,
      "outputs": [
        {
          "output_type": "stream",
          "name": "stdout",
          "text": [
            "n_neighbors가 3일때 정확도: 0.956\n"
          ]
        }
      ]
    },
    {
      "cell_type": "markdown",
      "metadata": {
        "id": "hq8Ciq91Xyhn"
      },
      "source": [
        "### 새로운 데이터에 대하여 모델을 적용하고 분류\n",
        "\n"
      ]
    },
    {
      "cell_type": "code",
      "metadata": {
        "id": "bvvqgghQX4oC",
        "colab": {
          "base_uri": "https://localhost:8080/"
        },
        "outputId": "70e3a4a1-734e-44b7-84db-e96360a3f18c"
      },
      "source": [
        "from sklearn.datasets import load_iris \n",
        "from sklearn.neighbors import KNeighborsClassifier \n",
        " \n",
        "k = 3\n",
        "iris = load_iris() \n",
        "knn = KNeighborsClassifier(n_neighbors = k) \n",
        "knn.fit(iris.data, iris.target) "
      ],
      "execution_count": 23,
      "outputs": [
        {
          "output_type": "execute_result",
          "data": {
            "text/plain": [
              "KNeighborsClassifier(n_neighbors=3)"
            ]
          },
          "metadata": {},
          "execution_count": 23
        }
      ]
    },
    {
      "cell_type": "code",
      "metadata": {
        "id": "IR0yW-r6X6Eo",
        "colab": {
          "base_uri": "https://localhost:8080/"
        },
        "outputId": "9776c1fd-4dbb-4fba-cff9-771efac866fc"
      },
      "source": [
        "classes = {0:'setosa', 1:'versicolor', 2:'virginica'} \n",
        " \n",
        "# 새로운 데이터를 제시해 보자. \n",
        "# 새로운 데이터를 제시해서 예측해볼 수 있도록 한다....\n",
        "X = [[4, 2, 1.3, 0.4], \n",
        "     [4, 3, 3.2, 2.2]] \n",
        "y = knn.predict(X) \n",
        " \n",
        "print('{} 특성을 가지는 품종: {}'.format(X[0], classes[y[0]])) \n",
        "print('{} 특성을 가지는 품종: {}'.format(X[1], classes[y[1]]))"
      ],
      "execution_count": 24,
      "outputs": [
        {
          "output_type": "stream",
          "name": "stdout",
          "text": [
            "[4, 2, 1.3, 0.4] 특성을 가지는 품종: setosa\n",
            "[4, 3, 3.2, 2.2] 특성을 가지는 품종: versicolor\n"
          ]
        }
      ]
    },
    {
      "cell_type": "code",
      "metadata": {
        "id": "XXjXsCemYAVH",
        "colab": {
          "base_uri": "https://localhost:8080/"
        },
        "outputId": "e23f4cb5-62cf-4999-9f01-1f3b19cad8cb"
      },
      "source": [
        "y_pred_all = knn.predict(iris.data)\n",
        "scores = metrics.accuracy_score(iris.target, y_pred_all) #=>알스퀘어 값을 구하는 식\n",
        "print('n_neighbors가 {0:d}일때 정확도: {1:.3f}'.format(k, scores))"
      ],
      "execution_count": 25,
      "outputs": [
        {
          "output_type": "stream",
          "name": "stdout",
          "text": [
            "n_neighbors가 3일때 정확도: 0.960\n"
          ]
        }
      ]
    },
    {
      "cell_type": "code",
      "metadata": {
        "id": "Iv4xcyF7i5iV",
        "colab": {
          "base_uri": "https://localhost:8080/",
          "height": 283
        },
        "outputId": "ea4e7bca-9deb-4bbe-e0d1-c549924cf919"
      },
      "source": [
        "from sklearn.metrics import confusion_matrix\n",
        "from sklearn.metrics import ConfusionMatrixDisplay\n",
        "cm = confusion_matrix(iris.target, y_pred_all)\n",
        "\n",
        "#혼돈 메트릭을 쓴다...! 왜..........................?\n",
        "cm_display = ConfusionMatrixDisplay(cm).plot()"
      ],
      "execution_count": 26,
      "outputs": [
        {
          "output_type": "display_data",
          "data": {
            "text/plain": [
              "<Figure size 432x288 with 2 Axes>"
            ],
            "image/png": "[encoded data removed]"
          },
          "metadata": {
            "needs_background": "light"
          }
        }
      ]
    },
    {
      "cell_type": "markdown",
      "metadata": {
        "id": "nUs5QNH1YKN5"
      },
      "source": [
        "### 데이터 전처리의 필요성"
      ]
    },
    {
      "cell_type": "code",
      "metadata": {
        "id": "rdK9eAHvN_jh",
        "colab": {
          "base_uri": "https://localhost:8080/",
          "height": 143
        },
        "outputId": "593c1208-7e62-420c-aea9-f22d18acb226"
      },
      "source": [
        "import pandas as pd\n",
        "import numpy as np\n",
        "import matplotlib.pyplot as plt\n",
        "\n",
        "data_loc = 'https://github.com/dongupak/DataML/raw/main/csv/'\n",
        "game_usage = pd.read_csv(data_loc + 'game_usage.csv')\n",
        "game_usage.head(3)"
      ],
      "execution_count": 27,
      "outputs": [
        {
          "output_type": "execute_result",
          "data": {
            "text/plain": [
              "   time spent  game level\n",
              "0          39         944\n",
              "1          55         705\n",
              "2          29         757"
            ],
            "text/html": [
              "\n",
              "  <div id=\"df-bba168b0-ee0b-47dc-8d04-a48df4e2a73b\">\n",
              "    <div class=\"colab-df-container\">\n",
              "      <div>\n",
              "<style scoped>\n",
              "    .dataframe tbody tr th:only-of-type {\n",
              "        vertical-align: middle;\n",
              "    }\n",
              "\n",
              "    .dataframe tbody tr th {\n",
              "        vertical-align: top;\n",
              "    }\n",
              "\n",
              "    .dataframe thead th {\n",
              "        text-align: right;\n",
              "    }\n",
              "</style>\n",
              "<table border=\"1\" class=\"dataframe\">\n",
              "  <thead>\n",
              "    <tr style=\"text-align: right;\">\n",
              "      <th></th>\n",
              "      <th>time spent</th>\n",
              "      <th>game level</th>\n",
              "    </tr>\n",
              "  </thead>\n",
              "  <tbody>\n",
              "    <tr>\n",
              "      <th>0</th>\n",
              "      <td>39</td>\n",
              "      <td>944</td>\n",
              "    </tr>\n",
              "    <tr>\n",
              "      <th>1</th>\n",
              "      <td>55</td>\n",
              "      <td>705</td>\n",
              "    </tr>\n",
              "    <tr>\n",
              "      <th>2</th>\n",
              "      <td>29</td>\n",
              "      <td>757</td>\n",
              "    </tr>\n",
              "  </tbody>\n",
              "</table>\n",
              "</div>\n",
              "      <button class=\"colab-df-convert\" onclick=\"convertToInteractive('df-bba168b0-ee0b-47dc-8d04-a48df4e2a73b')\"\n",
              "              title=\"Convert this dataframe to an interactive table.\"\n",
              "              style=\"display:none;\">\n",
              "        \n",
              "  <svg xmlns=\"http://www.w3.org/2000/svg\" height=\"24px\"viewBox=\"0 0 24 24\"\n",
              "       width=\"24px\">\n",
              "    <path d=\"M0 0h24v24H0V0z\" fill=\"none\"/>\n",
              "    <path d=\"M18.56 5.44l.94 2.06.94-2.06 2.06-.94-2.06-.94-.94-2.06-.94 2.06-2.06.94zm-11 1L8.5 8.5l.94-2.06 2.06-.94-2.06-.94L8.5 2.5l-.94 2.06-2.06.94zm10 10l.94 2.06.94-2.06 2.06-.94-2.06-.94-.94-2.06-.94 2.06-2.06.94z\"/><path d=\"M17.41 7.96l-1.37-1.37c-.4-.4-.92-.59-1.43-.59-.52 0-1.04.2-1.43.59L10.3 9.45l-7.72 7.72c-.78.78-.78 2.05 0 2.83L4 21.41c.39.39.9.59 1.41.59.51 0 1.02-.2 1.41-.59l7.78-7.78 2.81-2.81c.8-.78.8-2.07 0-2.86zM5.41 20L4 18.59l7.72-7.72 1.47 1.35L5.41 20z\"/>\n",
              "  </svg>\n",
              "      </button>\n",
              "      \n",
              "  <style>\n",
              "    .colab-df-container {\n",
              "      display:flex;\n",
              "      flex-wrap:wrap;\n",
              "      gap: 12px;\n",
              "    }\n",
              "\n",
              "    .colab-df-convert {\n",
              "      background-color: #E8F0FE;\n",
              "      border: none;\n",
              "      border-radius: 50%;\n",
              "      cursor: pointer;\n",
              "      display: none;\n",
              "      fill: #1967D2;\n",
              "      height: 32px;\n",
              "      padding: 0 0 0 0;\n",
              "      width: 32px;\n",
              "    }\n",
              "\n",
              "    .colab-df-convert:hover {\n",
              "      background-color: #E2EBFA;\n",
              "      box-shadow: 0px 1px 2px rgba(60, 64, 67, 0.3), 0px 1px 3px 1px rgba(60, 64, 67, 0.15);\n",
              "      fill: #174EA6;\n",
              "    }\n",
              "\n",
              "    [theme=dark] .colab-df-convert {\n",
              "      background-color: #3B4455;\n",
              "      fill: #D2E3FC;\n",
              "    }\n",
              "\n",
              "    [theme=dark] .colab-df-convert:hover {\n",
              "      background-color: #434B5C;\n",
              "      box-shadow: 0px 1px 3px 1px rgba(0, 0, 0, 0.15);\n",
              "      filter: drop-shadow(0px 1px 2px rgba(0, 0, 0, 0.3));\n",
              "      fill: #FFFFFF;\n",
              "    }\n",
              "  </style>\n",
              "\n",
              "      <script>\n",
              "        const buttonEl =\n",
              "          document.querySelector('#df-bba168b0-ee0b-47dc-8d04-a48df4e2a73b button.colab-df-convert');\n",
              "        buttonEl.style.display =\n",
              "          google.colab.kernel.accessAllowed ? 'block' : 'none';\n",
              "\n",
              "        async function convertToInteractive(key) {\n",
              "          const element = document.querySelector('#df-bba168b0-ee0b-47dc-8d04-a48df4e2a73b');\n",
              "          const dataTable =\n",
              "            await google.colab.kernel.invokeFunction('convertToInteractive',\n",
              "                                                     [key], {});\n",
              "          if (!dataTable) return;\n",
              "\n",
              "          const docLinkHtml = 'Like what you see? Visit the ' +\n",
              "            '<a target=\"_blank\" href=https://colab.research.google.com/notebooks/data_table.ipynb>data table notebook</a>'\n",
              "            + ' to learn more about interactive tables.';\n",
              "          element.innerHTML = '';\n",
              "          dataTable['output_type'] = 'display_data';\n",
              "          await google.colab.output.renderOutput(dataTable, element);\n",
              "          const docLink = document.createElement('div');\n",
              "          docLink.innerHTML = docLinkHtml;\n",
              "          element.appendChild(docLink);\n",
              "        }\n",
              "      </script>\n",
              "    </div>\n",
              "  </div>\n",
              "  "
            ]
          },
          "metadata": {},
          "execution_count": 27
        }
      ]
    },
    {
      "cell_type": "code",
      "metadata": {
        "id": "PqgvCyrZjWsg",
        "colab": {
          "base_uri": "https://localhost:8080/",
          "height": 313
        },
        "outputId": "d66050a4-6272-491c-cdab-ef439586162d"
      },
      "source": [
        "X = game_usage['time spent']\n",
        "Y = game_usage['game level']\n",
        "\n",
        "# 으뜸 게임사의 게임 이용자 분석: 산포도 그래프\n",
        "plt.title(\"Game player data\")\n",
        "plt.xlabel('Time spent')\n",
        "plt.xlabel('Game level') \n",
        "plt.scatter(X, Y)"
      ],
      "execution_count": 28,
      "outputs": [
        {
          "output_type": "execute_result",
          "data": {
            "text/plain": [
              "<matplotlib.collections.PathCollection at 0x7f35ee5f1fd0>"
            ]
          },
          "metadata": {},
          "execution_count": 28
        },
        {
          "output_type": "display_data",
          "data": {
            "text/plain": [
              "<Figure size 432x288 with 1 Axes>"
            ],
            "image/png": "[encoded data removed]"
          },
          "metadata": {
            "needs_background": "light"
          }
        }
      ]
    },
    {
      "cell_type": "code",
      "metadata": {
        "id": "ZEuaWZ2Fjbf7",
        "colab": {
          "base_uri": "https://localhost:8080/",
          "height": 294
        },
        "outputId": "79d3d710-a55d-49db-dff6-ebb2074c1430"
      },
      "source": [
        "from sklearn import cluster\n",
        "\n",
        "def kmeans_predict_plot(data, k):\n",
        "   model = cluster.KMeans(n_clusters=k) #k mean 군집모델(아직안배움)\n",
        "   model.fit(data)\n",
        "   labels = model.predict(data)\n",
        "   colors = np.array(['red', 'green', 'blue', 'magenta'])\n",
        "   plt.suptitle('k-Means clustering, k={}'.format(k))\n",
        "   plt.scatter(data[:, 0], data[:, 1], color=colors[labels])\n",
        "\n",
        "gamer_data = np.column_stack((X, Y))\n",
        "kmeans_predict_plot(gamer_data, k = 4)"
      ],
      "execution_count": 29,
      "outputs": [
        {
          "output_type": "display_data",
          "data": {
            "text/plain": [
              "<Figure size 432x288 with 1 Axes>"
            ],
            "image/png": "[encoded data removed]"
          },
          "metadata": {
            "needs_background": "light"
          }
        }
      ]
    },
    {
      "cell_type": "code",
      "metadata": {
        "id": "JPFQ9yW0OdLD",
        "colab": {
          "base_uri": "https://localhost:8080/",
          "height": 294
        },
        "outputId": "3c23583b-5ea3-4d2e-cfb3-912eed942a89"
      },
      "source": [
        "# k = 2일때의 결과\n",
        "from sklearn import cluster\n",
        "\n",
        "gamer_data = np.column_stack((X, Y))\n",
        "\n",
        "def kmeans_predict_plot(X, k):\n",
        "    model = cluster.KMeans(n_clusters=k)\n",
        "    model.fit(X)\n",
        "    labels = model.predict(X)\n",
        "    colors = np.array(['red', 'green', 'blue', 'magenta']) \n",
        "    plt.suptitle('k-Means clustering, k={}'.format(k)) \n",
        "    plt.scatter(X[:, 0], X[:, 1], color=colors[labels])\n",
        "\n",
        "kmeans_predict_plot(gamer_data, k = 2)"
      ],
      "execution_count": 30,
      "outputs": [
        {
          "output_type": "display_data",
          "data": {
            "text/plain": [
              "<Figure size 432x288 with 1 Axes>"
            ],
            "image/png": "[encoded data removed]"
          },
          "metadata": {
            "needs_background": "light"
          }
        }
      ]
    },
    {
      "cell_type": "code",
      "metadata": {
        "id": "7NOCKXH8O39G",
        "colab": {
          "base_uri": "https://localhost:8080/",
          "height": 294
        },
        "outputId": "9d858962-96b3-4d76-cf03-6420d701bd2f"
      },
      "source": [
        " kmeans_predict_plot(gamer_data, k = 3) # 3개의 군집 생성 "
      ],
      "execution_count": 31,
      "outputs": [
        {
          "output_type": "display_data",
          "data": {
            "text/plain": [
              "<Figure size 432x288 with 1 Axes>"
            ],
            "image/png": "[encoded data removed]"
          },
          "metadata": {
            "needs_background": "light"
          }
        }
      ]
    },
    {
      "cell_type": "code",
      "source": [
        " kmeans_predict_plot(gamer_data, k = 4) # 4개의 군집 생성"
      ],
      "metadata": {
        "id": "dorbkaBE4Ygr",
        "colab": {
          "base_uri": "https://localhost:8080/",
          "height": 294
        },
        "outputId": "1fcfa64d-7ace-4580-c742-af350bc14688"
      },
      "execution_count": 32,
      "outputs": [
        {
          "output_type": "display_data",
          "data": {
            "text/plain": [
              "<Figure size 432x288 with 1 Axes>"
            ],
            "image/png": "[encoded data removed]"
          },
          "metadata": {
            "needs_background": "light"
          }
        }
      ]
    },
    {
      "cell_type": "code",
      "metadata": {
        "id": "UJp-0LoUHoYV",
        "colab": {
          "base_uri": "https://localhost:8080/",
          "height": 312
        },
        "outputId": "7f3b4bed-d508-4678-87d7-cbc7f47b3519"
      },
      "source": [
        "kmeans_predict_plot(gamer_data, k = 4)\n",
        "plt.xlim(0, 1000); plt.ylim(0, 1000)\n",
        "# 가로로 나뉘니까 뭔가 그래프가 이상하다는 느낌이 들어야함...!"
      ],
      "execution_count": 33,
      "outputs": [
        {
          "output_type": "execute_result",
          "data": {
            "text/plain": [
              "(0.0, 1000.0)"
            ]
          },
          "metadata": {},
          "execution_count": 33
        },
        {
          "output_type": "display_data",
          "data": {
            "text/plain": [
              "<Figure size 432x288 with 1 Axes>"
            ],
            "image/png": "[encoded data removed]"
          },
          "metadata": {
            "needs_background": "light"
          }
        }
      ]
    },
    {
      "cell_type": "markdown",
      "metadata": {
        "id": "1DRGtm5Vjs4k"
      },
      "source": [
        "### 데이터 정규화 방법을 이용하자"
      ]
    },
    {
      "cell_type": "code",
      "metadata": {
        "id": "su8FPOfc4Qf1",
        "colab": {
          "base_uri": "https://localhost:8080/"
        },
        "outputId": "fe459bbb-d029-474a-c076-3f935a988cb4"
      },
      "source": [
        "# 최대, 최소값 스케일러\n",
        "from sklearn.preprocessing import MinMaxScaler\n",
        "\n",
        "# 스케일을 min, max로 맞춰줌\n",
        "scaler = MinMaxScaler()\n",
        "#스케일을 왜 fit 할까? -> 주어진 값에서 가장 큰값이 1, 가장 작은값이 0, 각 feature별로 민,맥스를 정해준다...!\n",
        "scaler.fit(gamer_data)\n",
        "#원래 데이터를 민맥스의 스케일 값으로 전환해주는 코드가 바로 transform!\n",
        "n_data = scaler.transform(gamer_data)\n",
        "n_data[:, 0].mean(), n_data[:, 1].mean()\n",
        "\n",
        "# 추가로 transform말고 리버스를 하면 다시 원래값으로 되돌려줌..."
      ],
      "execution_count": 34,
      "outputs": [
        {
          "output_type": "execute_result",
          "data": {
            "text/plain": [
              "(0.4731578947368421, 0.5324949290060852)"
            ]
          },
          "metadata": {},
          "execution_count": 34
        }
      ]
    },
    {
      "cell_type": "code",
      "metadata": {
        "id": "tlSOZ1Vf400r",
        "colab": {
          "base_uri": "https://localhost:8080/"
        },
        "outputId": "55169c5a-8574-4e89-fe30-d2b105f084f0"
      },
      "source": [
        "n_data[:, 0].min(), n_data[:, 0].max()"
      ],
      "execution_count": 35,
      "outputs": [
        {
          "output_type": "execute_result",
          "data": {
            "text/plain": [
              "(0.0, 1.0)"
            ]
          },
          "metadata": {},
          "execution_count": 35
        }
      ]
    },
    {
      "cell_type": "code",
      "metadata": {
        "id": "ghnMcDzj461e",
        "colab": {
          "base_uri": "https://localhost:8080/"
        },
        "outputId": "65e5190f-265a-4705-9bd4-d1379fa6c611"
      },
      "source": [
        "n_data[:, 1].min(), n_data[:, 1].max()"
      ],
      "execution_count": 36,
      "outputs": [
        {
          "output_type": "execute_result",
          "data": {
            "text/plain": [
              "(0.0, 1.0)"
            ]
          },
          "metadata": {},
          "execution_count": 36
        }
      ]
    },
    {
      "cell_type": "code",
      "metadata": {
        "id": "pgKQc24x48m2",
        "colab": {
          "base_uri": "https://localhost:8080/",
          "height": 294
        },
        "outputId": "d8afa4b2-b0ca-4ee5-84d6-61ca32dc3a03"
      },
      "source": [
        "kmeans_predict_plot(n_data, k = 4) # 4개의 군집 생성"
      ],
      "execution_count": 37,
      "outputs": [
        {
          "output_type": "display_data",
          "data": {
            "text/plain": [
              "<Figure size 432x288 with 1 Axes>"
            ],
            "image/png": "[encoded data removed]"
          },
          "metadata": {
            "needs_background": "light"
          }
        }
      ]
    },
    {
      "cell_type": "code",
      "metadata": {
        "id": "VCGsVwjb10P1",
        "colab": {
          "base_uri": "https://localhost:8080/"
        },
        "outputId": "083e59ee-a3f8-402f-fc92-ef0812112974"
      },
      "source": [
        "import numpy as np\n",
        "\n",
        "a = np.array([10, 8, 10, 8, 8, 4])\n",
        "print('합계 :', a.sum())\n",
        "print('평균 :', a.mean())\n",
        "print('분산 :', a.var())\n",
        "print('표준편차 :', a.std())"
      ],
      "execution_count": 38,
      "outputs": [
        {
          "output_type": "stream",
          "name": "stdout",
          "text": [
            "합계 : 48\n",
            "평균 : 8.0\n",
            "분산 : 4.0\n",
            "표준편차 : 2.0\n"
          ]
        }
      ]
    },
    {
      "cell_type": "code",
      "source": [
        "from sklearn.preprocessing import StandardScaler\n",
        "\n",
        "a = a.reshape(-1, 1) # 열벡터로 바꾸는 코드\n",
        "\n",
        "standardScaler = StandardScaler()\n",
        "standardScaler.fit(a)\n",
        "a_scaled = standardScaler.transform(a)\n",
        "\n",
        "print(a)\n",
        "print(a_scaled)"
      ],
      "metadata": {
        "id": "WGj3icpV41Qs",
        "colab": {
          "base_uri": "https://localhost:8080/"
        },
        "outputId": "7a04bf00-201c-45f8-9921-55a902bbbb96"
      },
      "execution_count": 39,
      "outputs": [
        {
          "output_type": "stream",
          "name": "stdout",
          "text": [
            "[[10]\n",
            " [ 8]\n",
            " [10]\n",
            " [ 8]\n",
            " [ 8]\n",
            " [ 4]]\n",
            "[[ 1.]\n",
            " [ 0.]\n",
            " [ 1.]\n",
            " [ 0.]\n",
            " [ 0.]\n",
            " [-2.]]\n"
          ]
        }
      ]
    },
    {
      "cell_type": "code",
      "source": [
        "print('합계 :', a_scaled.sum())\n",
        "print('평균 :', a_scaled.mean())\n",
        "print('분산 :', a_scaled.var())\n",
        "print('표준편차 :', a_scaled.std())"
      ],
      "metadata": {
        "id": "9qFrShCw5gxU",
        "colab": {
          "base_uri": "https://localhost:8080/"
        },
        "outputId": "44dce5bc-28e9-43df-98ab-3be6cc300371"
      },
      "execution_count": 40,
      "outputs": [
        {
          "output_type": "stream",
          "name": "stdout",
          "text": [
            "합계 : 0.0\n",
            "평균 : 0.0\n",
            "분산 : 1.0\n",
            "표준편차 : 1.0\n"
          ]
        }
      ]
    },
    {
      "cell_type": "code",
      "metadata": {
        "id": "ygpenNrkkSBu",
        "colab": {
          "base_uri": "https://localhost:8080/"
        },
        "outputId": "9e94a0b1-8648-4d50-c59c-2f6ed98b0ded"
      },
      "source": [
        "from sklearn.preprocessing import StandardScaler\n",
        "\n",
        "standardScaler = StandardScaler()\n",
        "standardScaler.fit(gamer_data)\n",
        "gamer_data_scaled = standardScaler.transform(gamer_data)\n",
        "\n",
        "gamer_data_scaled[:, 0].std(), gamer_data_scaled[:, 1].std()"
      ],
      "execution_count": 41,
      "outputs": [
        {
          "output_type": "execute_result",
          "data": {
            "text/plain": [
              "(1.0000000000000002, 1.0)"
            ]
          },
          "metadata": {},
          "execution_count": 41
        }
      ]
    },
    {
      "cell_type": "code",
      "metadata": {
        "id": "APzH6Rp_kVDm",
        "colab": {
          "base_uri": "https://localhost:8080/"
        },
        "outputId": "388913c0-f63d-4064-e9c4-58ba085bdcd1"
      },
      "source": [
        "gamer_data_scaled[:, 0].mean(), gamer_data_scaled[:, 1].mean()\n",
        "#밑에 결과값은 (0,0)임"
      ],
      "execution_count": 42,
      "outputs": [
        {
          "output_type": "execute_result",
          "data": {
            "text/plain": [
              "(-1.1435297153639113e-16, 1.1546319456101628e-16)"
            ]
          },
          "metadata": {},
          "execution_count": 42
        }
      ]
    },
    {
      "cell_type": "markdown",
      "source": [
        "# 과제06\n",
        "다음 도미와 빙어의 데이터를 이용하여 새로운 데이터인 길이 25, 무게 150인 물고기를 분류하시오.\n",
        "\n",
        "참고: https://rebro.kr/183\n",
        "* 혼공딥 노트북: https://nbviewer.org/github/rickiepark/hg-mldl/blob/master/2-2.ipynb\n",
        "* 혼공딥 유투브: https://www.youtube.com/watch?v=kaCJ-knm8KU&list=PLJN246lAkhQjoU0C4v8FgtbjOIXxSs_4Q&index=6\n"
      ],
      "metadata": {
        "id": "IHylfgs4AFN8"
      }
    },
    {
      "cell_type": "code",
      "source": [
        "#도미\n",
        "bream_length = [25.4, 26.3, 26.5, 29.0, 29.0, 29.7, 29.7, 30.0, 30.0, 30.7, 31.0, 31.0, 31.5, 32.0, 32.0, 32.0, 33.0, 33.0, 33.5, 33.5, 34.0, 34.0, 34.5, 35.0, 35.0, 35.0, 35.0, 36.0, 36.0, 37.0, 38.5, 38.5, 39.5, 41.0, 41.0] \n",
        "bream_weight = [242.0, 290.0, 340.0, 363.0, 430.0, 450.0, 500.0, 390.0, 450.0, 500.0, 475.0, 500.0, 500.0, 340.0, 600.0, 600.0, 700.0, 700.0, 610.0, 650.0, 575.0, 685.0, 620.0, 680.0, 700.0, 725.0, 720.0, 714.0, 850.0, 1000.0, 920.0, 955.0, 925.0, 975.0, 950.0]\n",
        "\n",
        "#빙어\n",
        "smelt_length = [9.8, 10.5, 10.6, 11.0, 11.2, 11.3, 11.8, 11.8, 12.0, 12.2, 12.4, 13.0, 14.3, 15.0] \n",
        "smelt_weight = [6.7, 7.5, 7.0, 9.7, 9.8, 8.7, 10.0, 9.9, 9.8, 12.2, 13.4, 12.2, 19.7, 19.9]\n",
        "\n",
        "problem_fish = [[25.0, 150.0]]\n",
        "\n",
        "#도미는 선형성이 있고, 빙어는 선형성이 눈에 띠게 보이지 않음"
      ],
      "metadata": {
        "id": "FOOPidzVA4Cg"
      },
      "execution_count": 43,
      "outputs": []
    },
    {
      "cell_type": "code",
      "source": [
        "# from K_NN_data import * \n",
        "import matplotlib.pyplot as plt \n",
        "\n",
        "#도미 키와 몸무게 연관성 그래프\n",
        "plt.scatter(bream_length, bream_weight) \n",
        "plt.xlabel('length') \n",
        "plt.ylabel('weight') \n",
        "plt.show()"
      ],
      "metadata": {
        "colab": {
          "base_uri": "https://localhost:8080/",
          "height": 279
        },
        "id": "syoU3sM_FKxE",
        "outputId": "904bac11-0599-421d-9890-4f41850a1c64"
      },
      "execution_count": 44,
      "outputs": [
        {
          "output_type": "display_data",
          "data": {
            "text/plain": [
              "<Figure size 432x288 with 1 Axes>"
            ],
            "image/png": "[encoded data removed]"
          },
          "metadata": {
            "needs_background": "light"
          }
        }
      ]
    },
    {
      "cell_type": "code",
      "source": [
        "import matplotlib.pyplot as plt \n",
        "\n",
        "#빙어 키와 몸무게 연관성 그래프\n",
        "plt.scatter(bream_length, bream_weight) \n",
        "plt.scatter(smelt_length, smelt_weight) \n",
        "plt.xlabel('length') \n",
        "plt.ylabel('weight') \n",
        "plt.show()"
      ],
      "metadata": {
        "colab": {
          "base_uri": "https://localhost:8080/",
          "height": 279
        },
        "id": "MgHkNReZFoaN",
        "outputId": "672b367b-008a-4ee3-fa2c-b4d5becabf17"
      },
      "execution_count": 45,
      "outputs": [
        {
          "output_type": "display_data",
          "data": {
            "text/plain": [
              "<Figure size 432x288 with 1 Axes>"
            ],
            "image/png": "[encoded data removed]"
          },
          "metadata": {
            "needs_background": "light"
          }
        }
      ]
    },
    {
      "cell_type": "code",
      "source": [
        "#도미데이터와 빙어 데이터를 하나의 값으로 합침\n",
        "\n",
        "length = bream_length + smelt_length \n",
        "weight = bream_weight + smelt_weight"
      ],
      "metadata": {
        "id": "tDB9sLEmF3NL"
      },
      "execution_count": 46,
      "outputs": []
    },
    {
      "cell_type": "markdown",
      "source": [
        "사이킷런은 파이썬 머신러닝 라이브러리 중 가장 많이 사용되는 라이브러리이다. \n",
        "\n",
        "이 패키지를 사용하려면 다음처럼 각 특성의 리스트를 세로 방향으로 늘어뜨린 2차원 리스트를 만들어야한다. "
      ],
      "metadata": {
        "id": "OedGLyeNHcSK"
      }
    },
    {
      "cell_type": "code",
      "source": [
        "fish_data = [[l, w] for l, w in zip(length, weight)]\n",
        "print(fish_data)\n",
        "#zip 함수는 나열된 리스트 각각에서 원소를 하나씩 꺼내 반환한다. 이 함수와 리스트 내포 구문을 이용하면 2차원 리스트를 만들 수 있다."
      ],
      "metadata": {
        "id": "Df6E_R0wFtD-",
        "colab": {
          "base_uri": "https://localhost:8080/"
        },
        "outputId": "2d631462-906b-4830-fa02-fd85af15051d"
      },
      "execution_count": 47,
      "outputs": [
        {
          "output_type": "stream",
          "name": "stdout",
          "text": [
            "[[25.4, 242.0], [26.3, 290.0], [26.5, 340.0], [29.0, 363.0], [29.0, 430.0], [29.7, 450.0], [29.7, 500.0], [30.0, 390.0], [30.0, 450.0], [30.7, 500.0], [31.0, 475.0], [31.0, 500.0], [31.5, 500.0], [32.0, 340.0], [32.0, 600.0], [32.0, 600.0], [33.0, 700.0], [33.0, 700.0], [33.5, 610.0], [33.5, 650.0], [34.0, 575.0], [34.0, 685.0], [34.5, 620.0], [35.0, 680.0], [35.0, 700.0], [35.0, 725.0], [35.0, 720.0], [36.0, 714.0], [36.0, 850.0], [37.0, 1000.0], [38.5, 920.0], [38.5, 955.0], [39.5, 925.0], [41.0, 975.0], [41.0, 950.0], [9.8, 6.7], [10.5, 7.5], [10.6, 7.0], [11.0, 9.7], [11.2, 9.8], [11.3, 8.7], [11.8, 10.0], [11.8, 9.9], [12.0, 9.8], [12.2, 12.2], [12.4, 13.4], [13.0, 12.2], [14.3, 19.7], [15.0, 19.9]]\n"
          ]
        }
      ]
    },
    {
      "cell_type": "code",
      "source": [
        "# 도미를 1로, 빙어를 0으로..\n",
        "fish_target = [1] * 35 + [0] * 14\n",
        "print(fish_target)"
      ],
      "metadata": {
        "id": "CH7GWkjRH4KG",
        "colab": {
          "base_uri": "https://localhost:8080/"
        },
        "outputId": "def11a01-925c-484c-ecec-301aa834ce39"
      },
      "execution_count": 48,
      "outputs": [
        {
          "output_type": "stream",
          "name": "stdout",
          "text": [
            "[1, 1, 1, 1, 1, 1, 1, 1, 1, 1, 1, 1, 1, 1, 1, 1, 1, 1, 1, 1, 1, 1, 1, 1, 1, 1, 1, 1, 1, 1, 1, 1, 1, 1, 1, 0, 0, 0, 0, 0, 0, 0, 0, 0, 0, 0, 0, 0, 0]\n"
          ]
        }
      ]
    },
    {
      "cell_type": "code",
      "source": [
        "from sklearn.neighbors import KNeighborsClassifier \n",
        "kn = KNeighborsClassifier()\n",
        "\n",
        "# 도미 찾기 기준학습 (fit 메소드 이용해서 훈련시키기.)\n",
        "kn.fit(fish_data, fish_target) \n",
        "# 훈련이 잘 되었는지 평가하기 위해서는 score() 메서드를 사용\n",
        "print(kn.score(fish_data, fish_target))\n"
      ],
      "metadata": {
        "colab": {
          "base_uri": "https://localhost:8080/"
        },
        "id": "n08MnF7tIEqP",
        "outputId": "386b1fe9-272c-44f7-f4ee-16e9594fe884"
      },
      "execution_count": 49,
      "outputs": [
        {
          "output_type": "stream",
          "name": "stdout",
          "text": [
            "1.0\n"
          ]
        }
      ]
    },
    {
      "cell_type": "code",
      "source": [
        "# n_neighbors 매개 변수로 k의 값을 변경할 수 있음, 여기서 k의 값을 물고기의 숫자인 49마리로 바꾼다... 그럼 0.7로 낮아짐\n",
        "kn = KNeighborsClassifier(n_neighbors=49) \n",
        "kn.fit(fish_data, fish_target) \n",
        "print(kn.score(fish_data, fish_target))\n",
        "# k가 49인 경우 어떤 데이터를 넣어도 항상 도미로 예측하기 때문에 정확도를 계산하면... 35/49%이다.  => 적절한 k값을 찾는게 중요"
      ],
      "metadata": {
        "colab": {
          "base_uri": "https://localhost:8080/"
        },
        "id": "QU6HexwCJsbl",
        "outputId": "220df734-00d1-40f2-9fc9-f3a37c41fc1c"
      },
      "execution_count": 50,
      "outputs": [
        {
          "output_type": "stream",
          "name": "stdout",
          "text": [
            "0.7142857142857143\n"
          ]
        }
      ]
    },
    {
      "cell_type": "markdown",
      "source": [
        "K-NN 알고리즘 실습(훈련 셋과 데이터 셋 분리)"
      ],
      "metadata": {
        "id": "tmj-fqrTD2sX"
      }
    },
    {
      "cell_type": "code",
      "source": [
        "#알고리즘의 성능을 제대로 평가하기 위해서는 훈련 데이터(Train set)와 평가에 사용될 데이터(Test set)가 달라야 한다.\n",
        "import numpy as np \n",
        "\n",
        "#파이썬 리스트를 넘파이 배열로 바꾸는 과정이다. 넘파이 배열을 출력해보면 행과 열이 가지런히 출력된다.\n",
        "input_arr = np.array(fish_data) \n",
        "print(input_arr.shape)\n",
        "target_arr = np.array(fish_target)\n",
        "\n",
        "# 0 ~ 48의 인덱스 중 임의로 35개의 인덱스를 선택한 다음, 해당 인덱스에 해당하는 원소를 뽑아내는 방식\n",
        "np.random.seed(42) #(약간 randomstate=42 같은 느낌..)넘파이에서 무작위 결과를 만드는 함수들은 실행할 때마다 다른 결과를 만든다. 일정한 결과를 얻기 위해서는 위처럼 랜덤 시드(Random seed)를 설정해주면 된다. \n",
        "index = np.arange(49)\n",
        "np.random.shuffle(index)\n",
        "\n",
        "train_input = input_arr[index[:35]]\n",
        "print(train_input.shape)\n",
        "train_target = target_arr[index[:35]]\n",
        "print(train_target.shape)\n",
        "test_input = input_arr[index[35:49]]\n",
        "print(test_input.shape)\n",
        "test_target = target_arr[index[35:49]]\n",
        "print(test_target.shape)\n",
        "\n",
        "kn = KNeighborsClassifier()\n",
        "#학습시키기...\n",
        "kn.fit(train_input, train_target) \n",
        "#평가지표로 계산\n",
        "print(kn.score(test_input, test_target)) # 1.0 \n",
        "# predict 메서드는 새로운 데이터의 정답을 예측한다. 리스트의 리스트를 인자로 넘겨줘야 한다.\n",
        "print(kn.predict(test_input)) # [0 0 1 0 1 1 1 0 1 1 0 1 1 0] \n",
        "print(test_target) # [0 0 1 0 1 1 1 0 1 1 0 1 1 0]\n",
        "\n",
        "#나머지 데이터들로 테스트 셋을 만들고 산점도 그려보면 아래와 같이 잘 섞여 있다.\n",
        "plt.scatter(train_input[:, 0], train_input[:, 1])\n",
        "plt.scatter(test_input[:, 0], test_input[:, 1])\n",
        "\n",
        "plt.xlabel('length') \n",
        "plt.ylabel('weight') \n",
        "plt.show()"
      ],
      "metadata": {
        "id": "IZcZQ6ujJ04i",
        "colab": {
          "base_uri": "https://localhost:8080/",
          "height": 425
        },
        "outputId": "e7d70ad4-e75a-46b3-8f70-953446706ebf"
      },
      "execution_count": 51,
      "outputs": [
        {
          "output_type": "stream",
          "name": "stdout",
          "text": [
            "(49, 2)\n",
            "(35, 2)\n",
            "(35,)\n",
            "(14, 2)\n",
            "(14,)\n",
            "1.0\n",
            "[0 0 1 0 1 1 1 0 1 1 0 1 1 0]\n",
            "[0 0 1 0 1 1 1 0 1 1 0 1 1 0]\n"
          ]
        },
        {
          "output_type": "display_data",
          "data": {
            "text/plain": [
              "<Figure size 432x288 with 1 Axes>"
            ],
            "image/png": "[encoded data removed]"
          },
          "metadata": {
            "needs_background": "light"
          }
        }
      ]
    },
    {
      "cell_type": "code",
      "source": [
        "# 훈련된 모델에 길이가 25cm이고 무게가 150g인 생선 테스트\n",
        "print(kn.predict([[25.0, 150.0]])) # [0]\n",
        "#도미인데... 왜 빙어로 나오닝"
      ],
      "metadata": {
        "colab": {
          "base_uri": "https://localhost:8080/"
        },
        "id": "wfz_RXc_FZVo",
        "outputId": "41aeb4b7-e229-431f-a336-98c3de96840c"
      },
      "execution_count": 52,
      "outputs": [
        {
          "output_type": "stream",
          "name": "stdout",
          "text": [
            "[0]\n"
          ]
        }
      ]
    },
    {
      "cell_type": "markdown",
      "source": [
        "kneighbors() 메서드를 사용하면 주어진 샘플에서 가장 가까운 이웃을 찾아준다. 이웃까지의 거리와 이웃 샘플의 인덱스를 반환하고, KNeighborsClassifier 클래스의 n_neighbors의 기본값이 5이므로 5개의 이웃이 반환된다. "
      ],
      "metadata": {
        "id": "fuKqv3quQA5x"
      }
    },
    {
      "cell_type": "code",
      "source": [
        "distances, indexes = kn.kneighbors([[25, 150]])\n",
        "print(distances)\n",
        "print(indexes)\n"
      ],
      "metadata": {
        "colab": {
          "base_uri": "https://localhost:8080/"
        },
        "id": "DJiDq5LtQIVx",
        "outputId": "e01ec853-25b7-4670-b4dc-d70efc209857"
      },
      "execution_count": 53,
      "outputs": [
        {
          "output_type": "stream",
          "name": "stdout",
          "text": [
            "[[ 92.00086956 130.73859415 137.17988191 138.32150953 138.39320793]]\n",
            "[[25  2  1 18  3]]\n"
          ]
        }
      ]
    },
    {
      "cell_type": "code",
      "source": [
        "plt.scatter(train_input[:,0], train_input[:,1])\n",
        "plt.scatter(25, 150, marker='^')\n",
        "#해당 값으로부터 가까운 데이터를 index라고 보았을때 index[0]이 length이고 index[1]이 weight이다. 두개의 값이 x,y 값으로 표시됨.\n",
        "plt.scatter(train_input[indexes, 0], train_input[indexes, 1], marker='D') \n",
        "plt.xlabel('length')\n",
        "plt.ylabel('weight')\n",
        "plt.show()\n"
      ],
      "metadata": {
        "colab": {
          "base_uri": "https://localhost:8080/",
          "height": 279
        },
        "id": "2sedVEhYQR97",
        "outputId": "6d236e03-7830-4df7-a12d-52cab3da736c"
      },
      "execution_count": 54,
      "outputs": [
        {
          "output_type": "display_data",
          "data": {
            "text/plain": [
              "<Figure size 432x288 with 1 Axes>"
            ],
            "image/png": "[encoded data removed]"
          },
          "metadata": {
            "needs_background": "light"
          }
        }
      ]
    },
    {
      "cell_type": "code",
      "source": [
        "print(distances)\n",
        "\n",
        "# x축 범위를 y축과 동일하게 표현해보자. x축의 범위 또는 y축의 범위를 조절하려면 xlim, ylim 함수를 사용\n",
        "plt.scatter(train_input[:,0], train_input[:,1])\n",
        "plt.scatter(25, 150, marker='^')\n",
        "plt.scatter(train_input[indexes, 0], train_input[indexes, 1], marker='D')\n",
        "plt.xlim((0, 1000))\n",
        "plt.xlabel('length')\n",
        "plt.ylabel('weight')\n",
        "plt.show()\n",
        "\n",
        "#이 표를 보면 실제로 x는 거리에 영향을 거의 미치지 않는 것을 볼 수 있다.\n"
      ],
      "metadata": {
        "colab": {
          "base_uri": "https://localhost:8080/",
          "height": 297
        },
        "id": "aRM64SaWRm0Z",
        "outputId": "c2cb8b54-4cd2-4ed1-d07b-bf48a2fd2a0c"
      },
      "execution_count": 55,
      "outputs": [
        {
          "output_type": "stream",
          "name": "stdout",
          "text": [
            "[[ 92.00086956 130.73859415 137.17988191 138.32150953 138.39320793]]\n"
          ]
        },
        {
          "output_type": "display_data",
          "data": {
            "text/plain": [
              "<Figure size 432x288 with 1 Axes>"
            ],
            "image/png": "[encoded data removed]"
          },
          "metadata": {
            "needs_background": "light"
          }
        }
      ]
    },
    {
      "cell_type": "markdown",
      "source": [
        "# x와 y축의 스케일은 매우 다르다... => 데이터 전처리로 처리해줘야한다!!\n",
        "\n",
        "최소-최대 정규화는 변수 X의 범위를 0%에서 100%까지로 나타내는 방식이다.\n",
        " \n",
        "Xnew=X−min(X)/max(X)−min(X)\n",
        "\n",
        " \n",
        "z-점수 표준화는 변수 X의 범위를 평균으로부터 몇 표준편차만큼 떨어져 있는지를 관점으로 변수를 확대/축소시키는 방식이다. 데이터에서 평균을 뺀 값을 모두 제곱한 다음 평균을 낸 것이 분산이고, 표준편차는 분산의 제곱근이다. \n",
        "\n",
        "Xnew=X−mean(X)/StdDev(X)\n"
      ],
      "metadata": {
        "id": "UlOB1_z-S9dw"
      }
    },
    {
      "cell_type": "code",
      "source": [
        "#axis = 0은 행을 따라 각 열의 통계 값을, axis = 1은 열을 따라 각 행의 통계 값을 계산한다.\n",
        "mean = np.mean(train_input, axis=0)\n",
        "std = np.std(train_input, axis=0)\n",
        "print(mean, std) # [ 28.29428571 483.35714286] [  9.54606704 323.47456715]\n",
        "\n",
        "train_scaled = (train_input - mean) / std"
      ],
      "metadata": {
        "colab": {
          "base_uri": "https://localhost:8080/"
        },
        "id": "IT3GcHJoSk8v",
        "outputId": "e2521432-cec3-44d5-d523-44084bbda4cc"
      },
      "execution_count": 56,
      "outputs": [
        {
          "output_type": "stream",
          "name": "stdout",
          "text": [
            "[ 28.29428571 483.35714286] [  9.54606704 323.47456715]\n"
          ]
        }
      ]
    },
    {
      "cell_type": "code",
      "source": [
        "new = ([25, 150] - mean) / std\n",
        "\n",
        "plt.scatter(train_scaled[:, 0], train_scaled[:, 1])\n",
        "plt.scatter(new[0], new[1], marker='^')\n",
        "plt.xlabel('length')\n",
        "plt.ylabel('weight')\n",
        "plt.show()\n"
      ],
      "metadata": {
        "colab": {
          "base_uri": "https://localhost:8080/",
          "height": 279
        },
        "id": "xE3X1yWVUFw-",
        "outputId": "8bcb830d-537e-4b0c-844d-e896ec3245d3"
      },
      "execution_count": 57,
      "outputs": [
        {
          "output_type": "display_data",
          "data": {
            "text/plain": [
              "<Figure size 432x288 with 1 Axes>"
            ],
            "image/png": "[encoded data removed]"
          },
          "metadata": {
            "needs_background": "light"
          }
        }
      ]
    },
    {
      "cell_type": "code",
      "source": [
        "#이건 직접 계산 안하고 스케일러로 호출해서 평균화 시켜주는 과정이다.(그냥 혼자 한번 해봄...)\n",
        "\n",
        "#스케일러 지정해주는 부분(호출!!)\n",
        "scaler = StandardScaler()\n",
        "\n",
        "#스케일러로 변환을 시켜주고~\n",
        "# test_scaled= scaler.fit_transform(test_input)\n",
        "train_scaled= scaler.fit_transform(train_input)\n",
        "\n",
        "\n",
        "kn.fit(train_scaled, train_target)\n",
        "\n",
        "\n",
        "plt.scatter(train_scaled[:, 0], train_scaled[:, 1])\n",
        "plt.scatter(new[0], new[1], marker='^')\n",
        "plt.xlabel('length')\n",
        "plt.ylabel('weight')\n",
        "plt.show()"
      ],
      "metadata": {
        "colab": {
          "base_uri": "https://localhost:8080/",
          "height": 279
        },
        "id": "X9e3QDmxUV40",
        "outputId": "c3802ff3-f0a4-4b7a-c053-8e3eb5503170"
      },
      "execution_count": 66,
      "outputs": [
        {
          "output_type": "display_data",
          "data": {
            "text/plain": [
              "<Figure size 432x288 with 1 Axes>"
            ],
            "image/png": "[encoded data removed]"
          },
          "metadata": {
            "needs_background": "light"
          }
        }
      ]
    },
    {
      "cell_type": "markdown",
      "source": [
        "## 위에 부분에서 교수님 코멘트..\n",
        "여기서 강조하고 싶은건, 데이터를 정규화(scaler)할 때, 학습데이터(train_)를 기준으로 바꾸어주어야 해요.\n",
        "데이터 정규화는 일종의 좌표변환, 공간변환인데, 모델의 학습은 학습데이터로 변형한 공간을 중심으로 학습이 되었어요.\n",
        "따라서 새로운 데이터(test set)도 이 공간에 맞춰서 변환해주어야 하겠지요. 테스트셋의 평균/분산을 쓰지 않고, 학습데이터의 평균/분산을 이용하여 변환한다는 뜻입니다.\n",
        "사소할 수 있지만, 디테일을 잘 챙겨보기 바랍니다."
      ],
      "metadata": {
        "id": "vlPBW4zfJTJA"
      }
    },
    {
      "cell_type": "code",
      "source": [
        "#교수님 코멘트 이후 수정한 부분\n",
        "# test_scaled = (test_input - mean) / std\n",
        "\n",
        "scaler = StandardScaler()\n",
        "\n",
        "# test_scaled= scaler.fit_transform(test_input)\n",
        "scaler.fit(train_input)\n",
        "test_scaled = scaler.transform(test_input) #이게 바뀐 코드!\n",
        "plt.scatter(test_scaled[:, 0], test_scaled[:, 1])\n",
        "plt.scatter(new[0], new[1], marker='^')\n",
        "plt.xlabel('length')\n",
        "plt.ylabel('weight')\n",
        "plt.show()"
      ],
      "metadata": {
        "colab": {
          "base_uri": "https://localhost:8080/",
          "height": 279
        },
        "id": "gzakyyGsJiRU",
        "outputId": "8dd1969c-7de8-4f12-cb67-9cc2d0ebb34e"
      },
      "execution_count": 68,
      "outputs": [
        {
          "output_type": "display_data",
          "data": {
            "text/plain": [
              "<Figure size 432x288 with 1 Axes>"
            ],
            "image/png": "[encoded data removed]"
          },
          "metadata": {
            "needs_background": "light"
          }
        }
      ]
    },
    {
      "cell_type": "code",
      "source": [
        "kn.fit(train_scaled, train_target)\n",
        "test_scaled = (test_input - mean) / std\n",
        "\n",
        "kn.score(test_scaled, test_target) # 1.0\n",
        "print(kn.predict([new]))\n"
      ],
      "metadata": {
        "colab": {
          "base_uri": "https://localhost:8080/"
        },
        "id": "lKScrOrtb_5W",
        "outputId": "6aa6e40d-33be-4174-fefe-138c36f887de"
      },
      "execution_count": 60,
      "outputs": [
        {
          "output_type": "stream",
          "name": "stdout",
          "text": [
            "[1]\n"
          ]
        }
      ]
    },
    {
      "cell_type": "code",
      "source": [
        "#값을 평준화 했으니까 distances랑 indexes도 new로 바꿔줘야한다.\n",
        "distances, indexes = kn.kneighbors([new])\n",
        "\n",
        "plt.scatter(train_scaled[:,0], train_scaled[:,1])\n",
        "plt.scatter(new[0], new[1], marker='^')\n",
        "plt.scatter(train_scaled[indexes, 0], train_scaled[indexes, 1], marker='D')\n",
        "plt.xlabel('length')\n",
        "plt.ylabel('weight')\n",
        "plt.show()\n"
      ],
      "metadata": {
        "colab": {
          "base_uri": "https://localhost:8080/",
          "height": 279
        },
        "id": "EB5Q1zm6XFNQ",
        "outputId": "265ea547-6511-4067-a3b6-c0fe237288c4"
      },
      "execution_count": 61,
      "outputs": [
        {
          "output_type": "display_data",
          "data": {
            "text/plain": [
              "<Figure size 432x288 with 1 Axes>"
            ],
            "image/png": "[encoded data removed]"
          },
          "metadata": {
            "needs_background": "light"
          }
        }
      ]
    },
    {
      "cell_type": "markdown",
      "source": [
        "위에 표를 보면 도미의 값으로 알맞게 나온것을 알 수 있다."
      ],
      "metadata": {
        "id": "j8P-mJCefbon"
      }
    }
  ]
}